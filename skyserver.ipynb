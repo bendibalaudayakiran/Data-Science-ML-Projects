{
 "cells": [
  {
   "cell_type": "markdown",
   "metadata": {},
   "source": [
    "# Space Observations, class pridiction"
   ]
  },
  {
   "cell_type": "markdown",
   "metadata": {},
   "source": [
    "### Context"
   ]
  },
  {
   "cell_type": "markdown",
   "metadata": {},
   "source": [
    "I was looking for an unused and interesting dataset to improve my data science skills on when my professor mentioned the Sloan Digital Sky Survey which offers public data of space observations. As I found the data to be super insightful I want to share the data."
   ]
  },
  {
   "cell_type": "markdown",
   "metadata": {},
   "source": [
    "### Content"
   ]
  },
  {
   "cell_type": "markdown",
   "metadata": {},
   "source": [
    "The data consists of 10,000 observations of space taken by the SDSS. Every observation is described by 17 feature columns and 1 class column which identifies it to be either a star, galaxy or quasar."
   ]
  },
  {
   "cell_type": "code",
   "execution_count": 146,
   "metadata": {},
   "outputs": [],
   "source": [
    "import pandas as pd\n",
    "import numpy as np\n",
    "import matplotlib.pyplot as plt\n",
    "import seaborn as sns\n",
    "from scipy import stats\n",
    "from scipy.stats import zscore\n",
    "\n",
    "from sklearn.preprocessing import LabelEncoder\n",
    "from sklearn.preprocessing import StandardScaler\n",
    "from sklearn.model_selection import train_test_split\n",
    "\n",
    "from sklearn.linear_model import LogisticRegression\n",
    "from sklearn import svm\n",
    "from sklearn.ensemble import RandomForestClassifier\n",
    "from sklearn.svm import SVC\n",
    "from sklearn.tree import DecisionTreeClassifier\n",
    "from sklearn.neighbors import KNeighborsClassifier\n",
    "\n",
    "\n",
    "from sklearn.model_selection import GridSearchCV\n",
    "from sklearn import model_selection\n",
    "from sklearn.model_selection import cross_val_score\n",
    "from sklearn.metrics import accuracy_score, f1_score\n",
    "from sklearn.model_selection import RandomizedSearchCV\n",
    "from sklearn.metrics import classification_report, confusion_matrix"
   ]
  },
  {
   "cell_type": "code",
   "execution_count": 64,
   "metadata": {},
   "outputs": [],
   "source": [
    "import warnings\n",
    "warnings.filterwarnings('ignore')\n",
    "warnings.filterwarnings('ignore', category = DeprecationWarning)"
   ]
  },
  {
   "cell_type": "code",
   "execution_count": 143,
   "metadata": {},
   "outputs": [
    {
     "data": {
      "text/html": [
       "<div>\n",
       "<style scoped>\n",
       "    .dataframe tbody tr th:only-of-type {\n",
       "        vertical-align: middle;\n",
       "    }\n",
       "\n",
       "    .dataframe tbody tr th {\n",
       "        vertical-align: top;\n",
       "    }\n",
       "\n",
       "    .dataframe thead th {\n",
       "        text-align: right;\n",
       "    }\n",
       "</style>\n",
       "<table border=\"1\" class=\"dataframe\">\n",
       "  <thead>\n",
       "    <tr style=\"text-align: right;\">\n",
       "      <th></th>\n",
       "      <th>objid</th>\n",
       "      <th>ra</th>\n",
       "      <th>dec</th>\n",
       "      <th>u</th>\n",
       "      <th>g</th>\n",
       "      <th>r</th>\n",
       "      <th>i</th>\n",
       "      <th>z</th>\n",
       "      <th>run</th>\n",
       "      <th>rerun</th>\n",
       "      <th>camcol</th>\n",
       "      <th>field</th>\n",
       "      <th>specobjid</th>\n",
       "      <th>class</th>\n",
       "      <th>redshift</th>\n",
       "      <th>plate</th>\n",
       "      <th>mjd</th>\n",
       "      <th>fiberid</th>\n",
       "    </tr>\n",
       "  </thead>\n",
       "  <tbody>\n",
       "    <tr>\n",
       "      <th>0</th>\n",
       "      <td>1.237650e+18</td>\n",
       "      <td>183.531326</td>\n",
       "      <td>0.089693</td>\n",
       "      <td>19.47406</td>\n",
       "      <td>17.04240</td>\n",
       "      <td>15.94699</td>\n",
       "      <td>15.50342</td>\n",
       "      <td>15.22531</td>\n",
       "      <td>752</td>\n",
       "      <td>301</td>\n",
       "      <td>4</td>\n",
       "      <td>267</td>\n",
       "      <td>3.722360e+18</td>\n",
       "      <td>STAR</td>\n",
       "      <td>-0.000009</td>\n",
       "      <td>3306</td>\n",
       "      <td>54922</td>\n",
       "      <td>491</td>\n",
       "    </tr>\n",
       "    <tr>\n",
       "      <th>1</th>\n",
       "      <td>1.237650e+18</td>\n",
       "      <td>183.598371</td>\n",
       "      <td>0.135285</td>\n",
       "      <td>18.66280</td>\n",
       "      <td>17.21449</td>\n",
       "      <td>16.67637</td>\n",
       "      <td>16.48922</td>\n",
       "      <td>16.39150</td>\n",
       "      <td>752</td>\n",
       "      <td>301</td>\n",
       "      <td>4</td>\n",
       "      <td>267</td>\n",
       "      <td>3.638140e+17</td>\n",
       "      <td>STAR</td>\n",
       "      <td>-0.000055</td>\n",
       "      <td>323</td>\n",
       "      <td>51615</td>\n",
       "      <td>541</td>\n",
       "    </tr>\n",
       "    <tr>\n",
       "      <th>2</th>\n",
       "      <td>1.237650e+18</td>\n",
       "      <td>183.680207</td>\n",
       "      <td>0.126185</td>\n",
       "      <td>19.38298</td>\n",
       "      <td>18.19169</td>\n",
       "      <td>17.47428</td>\n",
       "      <td>17.08732</td>\n",
       "      <td>16.80125</td>\n",
       "      <td>752</td>\n",
       "      <td>301</td>\n",
       "      <td>4</td>\n",
       "      <td>268</td>\n",
       "      <td>3.232740e+17</td>\n",
       "      <td>GALAXY</td>\n",
       "      <td>0.123111</td>\n",
       "      <td>287</td>\n",
       "      <td>52023</td>\n",
       "      <td>513</td>\n",
       "    </tr>\n",
       "    <tr>\n",
       "      <th>3</th>\n",
       "      <td>1.237650e+18</td>\n",
       "      <td>183.870529</td>\n",
       "      <td>0.049911</td>\n",
       "      <td>17.76536</td>\n",
       "      <td>16.60272</td>\n",
       "      <td>16.16116</td>\n",
       "      <td>15.98233</td>\n",
       "      <td>15.90438</td>\n",
       "      <td>752</td>\n",
       "      <td>301</td>\n",
       "      <td>4</td>\n",
       "      <td>269</td>\n",
       "      <td>3.722370e+18</td>\n",
       "      <td>STAR</td>\n",
       "      <td>-0.000111</td>\n",
       "      <td>3306</td>\n",
       "      <td>54922</td>\n",
       "      <td>510</td>\n",
       "    </tr>\n",
       "    <tr>\n",
       "      <th>4</th>\n",
       "      <td>1.237650e+18</td>\n",
       "      <td>183.883288</td>\n",
       "      <td>0.102557</td>\n",
       "      <td>17.55025</td>\n",
       "      <td>16.26342</td>\n",
       "      <td>16.43869</td>\n",
       "      <td>16.55492</td>\n",
       "      <td>16.61326</td>\n",
       "      <td>752</td>\n",
       "      <td>301</td>\n",
       "      <td>4</td>\n",
       "      <td>269</td>\n",
       "      <td>3.722370e+18</td>\n",
       "      <td>STAR</td>\n",
       "      <td>0.000590</td>\n",
       "      <td>3306</td>\n",
       "      <td>54922</td>\n",
       "      <td>512</td>\n",
       "    </tr>\n",
       "  </tbody>\n",
       "</table>\n",
       "</div>"
      ],
      "text/plain": [
       "          objid          ra       dec         u         g         r         i  \\\n",
       "0  1.237650e+18  183.531326  0.089693  19.47406  17.04240  15.94699  15.50342   \n",
       "1  1.237650e+18  183.598371  0.135285  18.66280  17.21449  16.67637  16.48922   \n",
       "2  1.237650e+18  183.680207  0.126185  19.38298  18.19169  17.47428  17.08732   \n",
       "3  1.237650e+18  183.870529  0.049911  17.76536  16.60272  16.16116  15.98233   \n",
       "4  1.237650e+18  183.883288  0.102557  17.55025  16.26342  16.43869  16.55492   \n",
       "\n",
       "          z  run  rerun  camcol  field     specobjid   class  redshift  plate  \\\n",
       "0  15.22531  752    301       4    267  3.722360e+18    STAR -0.000009   3306   \n",
       "1  16.39150  752    301       4    267  3.638140e+17    STAR -0.000055    323   \n",
       "2  16.80125  752    301       4    268  3.232740e+17  GALAXY  0.123111    287   \n",
       "3  15.90438  752    301       4    269  3.722370e+18    STAR -0.000111   3306   \n",
       "4  16.61326  752    301       4    269  3.722370e+18    STAR  0.000590   3306   \n",
       "\n",
       "     mjd  fiberid  \n",
       "0  54922      491  \n",
       "1  51615      541  \n",
       "2  52023      513  \n",
       "3  54922      510  \n",
       "4  54922      512  "
      ]
     },
     "execution_count": 143,
     "metadata": {},
     "output_type": "execute_result"
    }
   ],
   "source": [
    "space_df = pd.read_csv('skyserver.csv')\n",
    "space_df.head()"
   ]
  },
  {
   "cell_type": "code",
   "execution_count": 144,
   "metadata": {},
   "outputs": [
    {
     "data": {
      "text/plain": [
       "['STAR', 'GALAXY', 'QSO']"
      ]
     },
     "execution_count": 144,
     "metadata": {},
     "output_type": "execute_result"
    }
   ],
   "source": [
    "cls_nms = space_df['class'].unique()\n",
    "list(cls_nms)"
   ]
  },
  {
   "cell_type": "code",
   "execution_count": 66,
   "metadata": {
    "scrolled": true
   },
   "outputs": [
    {
     "data": {
      "text/html": [
       "<div>\n",
       "<style scoped>\n",
       "    .dataframe tbody tr th:only-of-type {\n",
       "        vertical-align: middle;\n",
       "    }\n",
       "\n",
       "    .dataframe tbody tr th {\n",
       "        vertical-align: top;\n",
       "    }\n",
       "\n",
       "    .dataframe thead th {\n",
       "        text-align: right;\n",
       "    }\n",
       "</style>\n",
       "<table border=\"1\" class=\"dataframe\">\n",
       "  <thead>\n",
       "    <tr style=\"text-align: right;\">\n",
       "      <th></th>\n",
       "      <th>objid</th>\n",
       "      <th>ra</th>\n",
       "      <th>dec</th>\n",
       "      <th>u</th>\n",
       "      <th>g</th>\n",
       "      <th>r</th>\n",
       "      <th>i</th>\n",
       "      <th>z</th>\n",
       "      <th>run</th>\n",
       "      <th>rerun</th>\n",
       "      <th>camcol</th>\n",
       "      <th>field</th>\n",
       "      <th>specobjid</th>\n",
       "      <th>class</th>\n",
       "      <th>redshift</th>\n",
       "      <th>plate</th>\n",
       "      <th>mjd</th>\n",
       "      <th>fiberid</th>\n",
       "    </tr>\n",
       "  </thead>\n",
       "  <tbody>\n",
       "    <tr>\n",
       "      <th>0</th>\n",
       "      <td>1.237650e+18</td>\n",
       "      <td>183.531326</td>\n",
       "      <td>0.089693</td>\n",
       "      <td>19.47406</td>\n",
       "      <td>17.04240</td>\n",
       "      <td>15.94699</td>\n",
       "      <td>15.50342</td>\n",
       "      <td>15.22531</td>\n",
       "      <td>752</td>\n",
       "      <td>301</td>\n",
       "      <td>4</td>\n",
       "      <td>267</td>\n",
       "      <td>3.722360e+18</td>\n",
       "      <td>STAR</td>\n",
       "      <td>-0.000009</td>\n",
       "      <td>3306</td>\n",
       "      <td>54922</td>\n",
       "      <td>491</td>\n",
       "    </tr>\n",
       "    <tr>\n",
       "      <th>1</th>\n",
       "      <td>1.237650e+18</td>\n",
       "      <td>183.598371</td>\n",
       "      <td>0.135285</td>\n",
       "      <td>18.66280</td>\n",
       "      <td>17.21449</td>\n",
       "      <td>16.67637</td>\n",
       "      <td>16.48922</td>\n",
       "      <td>16.39150</td>\n",
       "      <td>752</td>\n",
       "      <td>301</td>\n",
       "      <td>4</td>\n",
       "      <td>267</td>\n",
       "      <td>3.638140e+17</td>\n",
       "      <td>STAR</td>\n",
       "      <td>-0.000055</td>\n",
       "      <td>323</td>\n",
       "      <td>51615</td>\n",
       "      <td>541</td>\n",
       "    </tr>\n",
       "    <tr>\n",
       "      <th>2</th>\n",
       "      <td>1.237650e+18</td>\n",
       "      <td>183.680207</td>\n",
       "      <td>0.126185</td>\n",
       "      <td>19.38298</td>\n",
       "      <td>18.19169</td>\n",
       "      <td>17.47428</td>\n",
       "      <td>17.08732</td>\n",
       "      <td>16.80125</td>\n",
       "      <td>752</td>\n",
       "      <td>301</td>\n",
       "      <td>4</td>\n",
       "      <td>268</td>\n",
       "      <td>3.232740e+17</td>\n",
       "      <td>GALAXY</td>\n",
       "      <td>0.123111</td>\n",
       "      <td>287</td>\n",
       "      <td>52023</td>\n",
       "      <td>513</td>\n",
       "    </tr>\n",
       "    <tr>\n",
       "      <th>3</th>\n",
       "      <td>1.237650e+18</td>\n",
       "      <td>183.870529</td>\n",
       "      <td>0.049911</td>\n",
       "      <td>17.76536</td>\n",
       "      <td>16.60272</td>\n",
       "      <td>16.16116</td>\n",
       "      <td>15.98233</td>\n",
       "      <td>15.90438</td>\n",
       "      <td>752</td>\n",
       "      <td>301</td>\n",
       "      <td>4</td>\n",
       "      <td>269</td>\n",
       "      <td>3.722370e+18</td>\n",
       "      <td>STAR</td>\n",
       "      <td>-0.000111</td>\n",
       "      <td>3306</td>\n",
       "      <td>54922</td>\n",
       "      <td>510</td>\n",
       "    </tr>\n",
       "    <tr>\n",
       "      <th>4</th>\n",
       "      <td>1.237650e+18</td>\n",
       "      <td>183.883288</td>\n",
       "      <td>0.102557</td>\n",
       "      <td>17.55025</td>\n",
       "      <td>16.26342</td>\n",
       "      <td>16.43869</td>\n",
       "      <td>16.55492</td>\n",
       "      <td>16.61326</td>\n",
       "      <td>752</td>\n",
       "      <td>301</td>\n",
       "      <td>4</td>\n",
       "      <td>269</td>\n",
       "      <td>3.722370e+18</td>\n",
       "      <td>STAR</td>\n",
       "      <td>0.000590</td>\n",
       "      <td>3306</td>\n",
       "      <td>54922</td>\n",
       "      <td>512</td>\n",
       "    </tr>\n",
       "  </tbody>\n",
       "</table>\n",
       "</div>"
      ],
      "text/plain": [
       "          objid          ra       dec         u         g         r         i  \\\n",
       "0  1.237650e+18  183.531326  0.089693  19.47406  17.04240  15.94699  15.50342   \n",
       "1  1.237650e+18  183.598371  0.135285  18.66280  17.21449  16.67637  16.48922   \n",
       "2  1.237650e+18  183.680207  0.126185  19.38298  18.19169  17.47428  17.08732   \n",
       "3  1.237650e+18  183.870529  0.049911  17.76536  16.60272  16.16116  15.98233   \n",
       "4  1.237650e+18  183.883288  0.102557  17.55025  16.26342  16.43869  16.55492   \n",
       "\n",
       "          z  run  rerun  camcol  field     specobjid   class  redshift  plate  \\\n",
       "0  15.22531  752    301       4    267  3.722360e+18    STAR -0.000009   3306   \n",
       "1  16.39150  752    301       4    267  3.638140e+17    STAR -0.000055    323   \n",
       "2  16.80125  752    301       4    268  3.232740e+17  GALAXY  0.123111    287   \n",
       "3  15.90438  752    301       4    269  3.722370e+18    STAR -0.000111   3306   \n",
       "4  16.61326  752    301       4    269  3.722370e+18    STAR  0.000590   3306   \n",
       "\n",
       "     mjd  fiberid  \n",
       "0  54922      491  \n",
       "1  51615      541  \n",
       "2  52023      513  \n",
       "3  54922      510  \n",
       "4  54922      512  "
      ]
     },
     "execution_count": 66,
     "metadata": {},
     "output_type": "execute_result"
    }
   ],
   "source": [
    "sp_df =pd.DataFrame() #Creating duplicate Dataframe (sp_df) for random operations\n",
    "sp_df = space_df\n",
    "sp_df.head()"
   ]
  },
  {
   "cell_type": "markdown",
   "metadata": {},
   "source": [
    "## Data Wrangling (Data Cleaning):-"
   ]
  },
  {
   "cell_type": "markdown",
   "metadata": {},
   "source": [
    "### Dimensions of the data"
   ]
  },
  {
   "cell_type": "markdown",
   "metadata": {},
   "source": [
    "We can get a quick idea of how many instances (rows) and how many attributes (columns) the data contains with the shape property."
   ]
  },
  {
   "cell_type": "code",
   "execution_count": 67,
   "metadata": {},
   "outputs": [
    {
     "data": {
      "text/plain": [
       "(10000, 18)"
      ]
     },
     "execution_count": 67,
     "metadata": {},
     "output_type": "execute_result"
    }
   ],
   "source": [
    "sp_df.shape"
   ]
  },
  {
   "cell_type": "markdown",
   "metadata": {},
   "source": [
    "from the dataset we can observe that 'objid', 'specobjid' are having unique values i.e., there is no use of dealing with those columns so we can remove these columns from dataset"
   ]
  },
  {
   "cell_type": "code",
   "execution_count": 68,
   "metadata": {},
   "outputs": [],
   "source": [
    "sp_df.drop(['objid','specobjid'], axis =1, inplace = True)"
   ]
  },
  {
   "cell_type": "markdown",
   "metadata": {},
   "source": [
    "checking for datatypes and null values in the dataset"
   ]
  },
  {
   "cell_type": "code",
   "execution_count": 69,
   "metadata": {},
   "outputs": [
    {
     "name": "stdout",
     "output_type": "stream",
     "text": [
      "<class 'pandas.core.frame.DataFrame'>\n",
      "RangeIndex: 10000 entries, 0 to 9999\n",
      "Data columns (total 16 columns):\n",
      " #   Column    Non-Null Count  Dtype  \n",
      "---  ------    --------------  -----  \n",
      " 0   ra        10000 non-null  float64\n",
      " 1   dec       10000 non-null  float64\n",
      " 2   u         10000 non-null  float64\n",
      " 3   g         10000 non-null  float64\n",
      " 4   r         10000 non-null  float64\n",
      " 5   i         10000 non-null  float64\n",
      " 6   z         10000 non-null  float64\n",
      " 7   run       10000 non-null  int64  \n",
      " 8   rerun     10000 non-null  int64  \n",
      " 9   camcol    10000 non-null  int64  \n",
      " 10  field     10000 non-null  int64  \n",
      " 11  class     10000 non-null  object \n",
      " 12  redshift  10000 non-null  float64\n",
      " 13  plate     10000 non-null  int64  \n",
      " 14  mjd       10000 non-null  int64  \n",
      " 15  fiberid   10000 non-null  int64  \n",
      "dtypes: float64(8), int64(7), object(1)\n",
      "memory usage: 1.2+ MB\n"
     ]
    }
   ],
   "source": [
    "sp_df.info()"
   ]
  },
  {
   "cell_type": "code",
   "execution_count": 70,
   "metadata": {},
   "outputs": [
    {
     "data": {
      "text/plain": [
       "ra          0\n",
       "dec         0\n",
       "u           0\n",
       "g           0\n",
       "r           0\n",
       "i           0\n",
       "z           0\n",
       "run         0\n",
       "rerun       0\n",
       "camcol      0\n",
       "field       0\n",
       "class       0\n",
       "redshift    0\n",
       "plate       0\n",
       "mjd         0\n",
       "fiberid     0\n",
       "dtype: int64"
      ]
     },
     "execution_count": 70,
     "metadata": {},
     "output_type": "execute_result"
    }
   ],
   "source": [
    "sp_df.isnull().sum()"
   ]
  },
  {
   "cell_type": "markdown",
   "metadata": {},
   "source": [
    "From the above, we understood that there is no null values in data and except target variable remaining all features are numeric and datatypes float and intiger"
   ]
  },
  {
   "cell_type": "markdown",
   "metadata": {},
   "source": [
    "### Processing data by defining categorical and numerical values"
   ]
  },
  {
   "cell_type": "code",
   "execution_count": 71,
   "metadata": {},
   "outputs": [
    {
     "name": "stdout",
     "output_type": "stream",
     "text": [
      "************************************\n",
      "ra : [183.5313257 183.5983705 183.6802074 ... 131.5525623 131.4771511\n",
      " 131.6650121]\n",
      "************************************\n",
      "dec : [ 0.08969303  0.13528503  0.12618509 ... 51.66698638 51.75306779\n",
      " 51.80530747]\n",
      "************************************\n",
      "u : [19.47406 18.6628  19.38298 ... 18.75818 18.88287 19.27586]\n",
      "************************************\n",
      "g : [17.0424  17.21449 18.19169 ... 17.77784 17.91068 17.37829]\n",
      "************************************\n",
      "r : [15.94699 16.67637 17.47428 ... 17.51872 17.53152 16.30542]\n",
      "************************************\n",
      "i : [15.50342 16.48922 17.08732 ... 17.43302 17.36284 15.83548]\n",
      "************************************\n",
      "z : [15.22531 16.3915  16.80125 ... 17.42048 17.13988 15.50588]\n",
      "************************************\n",
      "run : [ 752  756  308  727  745 1035 1045 1140 1231 1332 1334 1302 1239 1119\n",
      " 1331 1345 1350 1404 1412 1336 1402 1411 1356]\n",
      "************************************\n",
      "rerun : [301]\n",
      "************************************\n",
      "camcol : [4 2 1 5 6 3]\n",
      "************************************\n",
      "field : [267 268 269 270 271 272 273 274 275 276 277 278 279 293 294 295 296 297\n",
      " 298 299 300 301 302 303 304 305 306 307 308 309 310 311 312 313 502 503\n",
      " 504 505 506 508 509 510 511 512 515 516 517 518 519 520 521 522 104 105\n",
      " 110 111 112 113 114 115 116  25  26  28  29  90  91  92  93  95  74  70\n",
      "  71  66 103 538 539 567 568 571 573 575 576 579 580 411 414 415 416 417\n",
      " 418 420 421 422 424 425 426 427 428 430 431 432 435 437 438 439 440 442\n",
      " 443 280 281 282 283 284 285 286 287 288 289 244 245 246 249 251 252 253\n",
      " 254 255 256 257 258 259 260 261 262 263 314 315 316 318 319 320 321 322\n",
      " 323 324 325 326 523 524 525 526 527 528 529 530 531 581 583 584 585 591\n",
      " 607 608 167 169 536 540 563 569 570 577 588 590 598 602 606 205 446 197\n",
      " 199 200 201 202 203 207 208 209 210 211 213 214 215 216 217 218 219 220\n",
      " 290 291 292 221 222 223 224 225 226 227 444 445 448 451 452 453 454 455\n",
      " 456 457 458 459 460 461 463 464 465 466 467 469 317 447 532 534 535 537\n",
      " 544 559 560 561 562 564 565 566 572 574 587 533 541 542 543 545 546 102\n",
      " 107 108 117 118 119 120 121 122 125 126 127 128 129 228 229 230 265 266\n",
      " 327 329 330 331 333 334 335 336 338 339 340 341 343 344 345 346 347 348\n",
      " 349 185 186 187 189 192 193 195 196 198 206 212 231 232 233 234 235 236\n",
      " 237 238 239 240 241 242 470 471 474 475 479 480 481 482 483 484 485 486\n",
      " 487 488 489 490 491 492 493 494 593 595 596 597 600 605 609 163 165 247\n",
      " 248 250 547 549 550 551 552 553 554 555 556 557 558 138 139 140 141 142\n",
      " 143 144 145 146 147 148 151 152 153 154 155 156 158 161 162 328 332 342\n",
      " 350 351 130 131 132 133 134 135 136 137 337 352 353 355 356 357 358 360\n",
      " 361 362 363 364 365 366 367 368 495 496 497 498 499 500 501 507 513 264\n",
      " 164 166 168 170 171 172 173 174 175 177 178 184 123 124 149 150 582 586\n",
      " 589 592 594 599 601 243 354 369 370 371 372 578 373 374 375 376 377 378\n",
      " 379 380 381 190 191 194  11  12  13  15  16  17  18  19 359  47  14 157\n",
      " 159 604  46 382 383 384 385 386 387 388 389 391 393 394 395 603 610 611\n",
      " 612 613 614 615 616 617 618 619 620 621 622 623 624 625  80  82  84  85\n",
      "  86  88  89  94  97  98 548 188  33  23  32 160 179 180 181 182  20  21\n",
      "  22  24  27  52  53  54 390 392 396 176 183 626 627 628 631 632 633 634\n",
      " 635 636 637 638 639 640 642 643 644 645 646 648 649 650 652 653 654 655\n",
      " 656 657 659 204 441  30  31  34  35  36  37  38 399 413 419 423 429 661\n",
      " 662 663 664 665 666 667 668 669 670 671 673 674 675 676 677 679 680 681\n",
      " 682 683 397 398 400 401 402  55  56  57  58  59  60  62  63  64  65  67\n",
      "  68  69  72  75  76  77  78  81  83 433 434 436  39 630 762 763 764 765\n",
      " 766 767  61  40  41  42  43  48  49  51 449 641 647 651 660 672 678 684\n",
      " 686 687 688 689 690 692 694 696 697 698 699 700 701 703 704 705 707 710\n",
      " 711  44  45  50 685 691 693 695 702 709 407 410 412  99 100 101 106 109\n",
      " 450 403 404 408 409  96 405 462 468  79  87 472 473 476 477 478 768  73\n",
      " 406]\n",
      "************************************\n",
      "class : ['STAR' 'GALAXY' 'QSO']\n",
      "************************************\n",
      "redshift : [-8.960000e-06 -5.490000e-05  1.231112e-01 ... -4.015730e-04  1.401894e-02\n",
      "  1.184173e-01]\n",
      "************************************\n",
      "plate : [3306  323  287  324  288 2558 2568 3846 3771  274 3833  275 2559 2569\n",
      " 2389 3786 2409 3834  276  307  306  536 4025 4022  308 2934 2909 4745\n",
      " 2057 2077 1149 4788 7450 7451  346  345  282  343  364  299  300 4043\n",
      " 4040 4041  301 4037  289  270  271 3831  272 3835 3772  277  537  309\n",
      " 4019 4018  348 2895  291  290 4016  310  266  480 3827  267 3828  268\n",
      " 2867 2852 3848 2920 3154  481  500  501  302  303 3314  342 4668  424\n",
      "  425 4665 4661  426  269 3832  273 3836 3787 3773  278 3825  476 3826\n",
      "  477 4737  502 4738 3830  304 4032  305 4028  918 4029  293  294 4052\n",
      " 4051 7456 2901  539  311  312 2952 4014 3829  462 2050 2070  463 1634\n",
      " 7253  279 3788 3837 3838  429 1898 1899 4658  292 3850 3849  280 3774\n",
      "  281 3233  919 4026  295 2926  503  464 2051 1635 1636  465  326 3789\n",
      "  327  920  430 3114 4656  313 4012  363  315 4010  344 3840 2862 2877\n",
      "  340 4053  341  772  296  427  428  504 4739  505 3775  283 3839 7112\n",
      "  598  597 7113  599 6975 6974  600 6973 2955 4008 4055  468  467 3813\n",
      " 3815  469  470 3818  471  472 3822  474 4020  923 3157 7275 3770 3785\n",
      "  328  329 3790  330  331 3776 6393  439  441 3692 3174 7328 3307 4004\n",
      " 4050 3198 3133  418 3132 1896  450 7279 5728 7278  451 8196  484  452\n",
      " 8195 3295  498 6986 6821 7123 2053 2073  431 3662 6796 2883 6713  614\n",
      "  794  616 6714 6708 3429  795 4734  506 4733  284 3842  285 3843 2892\n",
      "  924 6982  611  610  613  615 6790 6791 7325 7318  443 3696 7319 3693\n",
      "  490 3171 7111  491 2858 2873 7453  475 3823  601 6963  602  449  773\n",
      " 7090 3697  445 7302 7293  447 5157  332  297  286 2917  492  419 1897\n",
      " 6197  333 3777  334  507 2316 2331  444  446 7277 5156  925  926  437\n",
      " 3683 6377 8277 4526 7379 6392 6390 3691 6391  618  620 6723 6320 8410\n",
      "  979 2182 2193 8198 7445 5716  453 8194 5719  770  526  527  298 4046\n",
      " 3661 3667  432 3664 3670 3672 3845 3844 7311  617  619  335 2897 2922\n",
      "  337 7294 5154 7288 7276 7115  493 6966  494 7120  495 6964  496 2445\n",
      " 6203  420 4732  508 3792 3778  336  349  351  353 7097 2882 7104 7110\n",
      "  596 3325  338  339 4045  528 7081  771  603 6822  604 3681  438 3686\n",
      " 3687 7378  440 3684 7317 3688 7309  442 4791 1154 7452 4793 7310 6709\n",
      " 7562  621 2187 2176 6826 8276  434 6375 3676  436 6388 7324 2460  605\n",
      "  355 6825  497 3841  509 4741 4731 3794 3779 6316 3288 2884 6321  625\n",
      " 3810  421 5704  422 5131  423  606 7116  607 6813 3847  367  359  529\n",
      "  530 4039 3161 8291 6376  609 2947 6983 6981 6785 6792 7303 5725 7114\n",
      "  433  435 5944 8278 6378 6380  511 4752  608  612  350]\n",
      "************************************\n",
      "mjd : [54922 51615 52023 51666 52000 54140 54153 55327 55544 51913 55290 51910\n",
      " 54208 54234 54213 55563 54210 56014 51909 51663 51637 52024 55350 55352\n",
      " 51662 54626 54653 55892 53816 53846 53003 55889 56722 56739 51693 51690\n",
      " 51658 51692 51671 51943 55630 55605 55361 51942 55631 51990 51883 55543\n",
      " 51941 55570 55277 51908 52027 51994 55363 55622 54567 51928 55632 51630\n",
      " 51989 55565 51608 55539 51633 54479 54468 55647 54562 54821 52235 51688\n",
      " 54970 51691 56211 51893 51898 56209 55614 51882 55289 51957 55302 55240\n",
      " 51900 55533 52314 52026 55650 55574 51609 55333 51613 55621 52404 55618\n",
      " 51696 51689 51986 55600 55337 55589 56727 54652 52017 51665 54559 55300\n",
      " 53401 53729 53299 56598 51984 55246 55572 55588 51820 53260 53262 55592\n",
      " 55575 55274 55569 51612 55244 51614 54891 52409 55325 51985 54625 51999\n",
      " 53738 53053 54481 52375 55269 52294 52411 51877 54773 55828 51673 54471\n",
      " 54523 55591 52316 55644 52317 55207 51959 56666 52059 56711 56720 56442\n",
      " 56741 55356 55359 51912 51901 55532 55537 51929 51924 51955 55332 54802\n",
      " 57093 55234 55273 52282 52056 55208 52370 52368 55209 56341 51868 55186\n",
      " 56715 55321 55599 54865 54789 51817 54746 53242 57071 56334 57041 57346\n",
      " 51907 51911 57391 54924 56717 56396 56726 53446 53728 55182 56453 54525\n",
      " 56402 53437 52376 52442 56447 56452 54976 52378 55646 52022 55649 51930\n",
      " 55278 54552 56444 52055 52345 52347 56430 56429 56990 51873 56962 54862\n",
      " 54498 54505 56749 51965 55534 56724 52072 56659 57012 55923 52367 51578\n",
      " 54556 51879 56191 52313 55210 51993 52353 53757 53742 51899 56748 55925\n",
      " 52413 51876 55178 56243 57073 55559 56713 56331 56244 56329 52049 56428\n",
      " 57481 52427 53905 53888 57374 56684 51915 57401 52312 52342 55566 51884\n",
      " 55245 55480 55484 55323 57038 54585 54612 51997 55864 57039 57061 56667\n",
      " 51988 54573 56266 51871 55648 52366 55212 55213 51699 51695 51703 56746\n",
      " 54942 51694 52079 55243 55268 51885 56992 56991 53083 56745 56693 56799\n",
      " 54270 54243 56449 57067 56323 56309 56935 54616 51788 52374 55704 55656\n",
      " 55241 55222 56483 54908 54526 52145 56015 51821 56187 51811 55835 52365\n",
      " 56681 56419 52025 54779 56269 52339 54533 56443 56487 56432 57013 56625\n",
      " 56220 56330 56340 52636 56016 55653 52081]\n",
      "************************************\n",
      "fiberid : [ 491  541  513  510  512  594  559  515  595  400  506  547  544  546\n",
      "  389  587   35  583  628  632  623  430  421  356  437  637  358  349\n",
      "  474  471  341  383  355  387  386  479  395  160  390  397  496  514\n",
      "  516  431  502  270  422  664  229  221  186   98  198  184  164  163\n",
      "  301  291  314  281  300  144  154  311  320  285  313  312  261  263\n",
      "   65  267   70  265  268   69  262  251   26  255   34  269  277  279\n",
      "  228   28  276  211  245  256  298  260  259  243  244  215  252  210\n",
      "  129  122  212  213  138  123  749  230  136  137  121   81  132   50\n",
      "  133   51   84   86   88   90    8   41  287   93   87  282   53   58\n",
      "   43   55    7  391  599  625  426  425  209  461  467  462  920  468\n",
      "  464  487  508  554  582  590  330  351  342  343  353  344  333  385\n",
      "  388  756  626  338  424  432  382  465  429  469  376  414  416  415\n",
      "  427  470  488  975   18  354  328  352  321  357  392  398  381  532\n",
      "  888  438  892  705  786  782  781  829  830  942  702  746  785  824\n",
      "  872  237  181   94   19  206   99    2  294  295   14  151  114  103\n",
      "   57   56   60   59  216   20  299   22   16    5  218  202  131  139\n",
      "   52  644  307  284  273  189  809  134  175  100  177  378   96  545\n",
      "  505  475  480  588  466  476  472  493  492  499  497  486  396  627\n",
      "  633  481  436  542  556  553  552  543  551  550  560  584  498  250\n",
      "  226  253  222  224  183  204  193  188  140  168  110  169  162  170\n",
      "  161  180  171  166  149  141  172  146  155  119  157  105  434  440\n",
      "  473  199  173  489  518   80  601   67  346   77   39  318  234  195\n",
      "  200  158  152  304  310  303  306  309  118   75   79   54   10   11\n",
      "  293  242    6  247    1  203  219  214  832   42  910   13  918   15\n",
      "  490  880  485  454  460  500  958  482  457  539  507  511  501  535\n",
      "  504  528  522  348  286  201    3    4  109   66  187  147  150  145\n",
      "  112  223  148  106  108  302  190  107   74  236  116  117  359  435\n",
      "  246  638  634  622  640  580  360  557  558  494  597  592  593  600\n",
      "  509  621  624  520  635  350  591  399  347  631  639  292  289  379\n",
      "  372  324  364  249  405  368  408  406  369  363  361  374  365  410\n",
      "  458  452  403  441  407  448  527  450  456  446   91  283  577   47\n",
      "   49   12  217  104   64   27    9   29  257  205  126  101  102   63\n",
      "   78   32   30  225   24   38  706   40  742  185   61  608  615   76\n",
      "   33  191  156  159  142  519  308  120  275  174  192  178  612  326\n",
      "  682  726  373  730  401  409  449  447  548  345  982  526  573  630\n",
      "  384  428  433  996   97  692  296  258  254  125   95  418  317  264\n",
      "  235  698  393  495  463   31   37  196  167   72   23  176  115   36\n",
      "  423  439  477  483  517  555  596   44  954   17  710  290  789  220\n",
      "  130   48  950  864  890  930  443  575  576  564  562  602  606  732\n",
      "  620  323  412  413  962  322  616   83  581  619  380  453  297  529\n",
      "  521  523  208  579  572  605  128  135  531  288  362   92   73   71\n",
      "   62   25   21  404  266  662  319  678  586  610  772  569   89  549\n",
      "  585  241  846  503  629  770  598  367  419  366  402  445  459  565\n",
      "  530  524  533  568  566  561  336  370  417  315  231  182   68  305\n",
      "  944  484  274  227   85  124  335  574  611  332  334  617  325  337\n",
      "  854  233  238  478  636  232  280  239  153  113  278  716   82  760\n",
      "  536  750  571  578  860  607  737  998  767  724  774  802  248  207\n",
      "  667  666  679  720  665  744  715  784  701  707  747  755  798  751\n",
      "  791  797  788  876  861  873  865  875  867  567  903  916  377  934\n",
      "  936  339  411  375  143  848  912  914  979  240  194  197  179  902\n",
      "  165  589  271  111  816  331  272  534  538  540  658  654  657  614\n",
      "  613  525  563  604  609  966  978  455  329  906  997 1000  660  840\n",
      "  316  946  899  969  951  650  656  655  697  659  694  695  733  736\n",
      "  735  731  780  778  779  777  775  773  776  815  819  818  652  833\n",
      "  828  904  442  688  327  340  420  451  976  812  371  980  618  444\n",
      "  926  839  394  709  741  790  127  886   46  603  826  827  537  768\n",
      "  852  820  857  896  940  898  935  973  995  992  675  570  866  651\n",
      "  690  727  722  769  801  808  844  883  881  885  893  764  889  752\n",
      "  813  938  704  850  882  887  680  961  646  794  783  738  793  972\n",
      "  684  856  674  897  895  929  974  963  932  993  983  988  999  986\n",
      "  796  858  745  836  714  927  928   45  672  673  967  766  994  804\n",
      "  800  977  686  758  952  648  908  948  677  718  711  743  837  869\n",
      "  874  909  947  676  838  884  712  968  989  970  754  842  915  685\n",
      "  792  728  806  810  689  821  668  748  964  863]\n"
     ]
    }
   ],
   "source": [
    "#Dividing dataframe columns into two lists one is categorical and another is continues\n",
    "categorical_feat = []\n",
    "continous_feat = []\n",
    "for column in sp_df.columns:\n",
    "    print('************************************')\n",
    "    print(f\"{column} : {sp_df[column].unique()}\")\n",
    "    if len(sp_df[column].unique()) <= 10:\n",
    "        categorical_feat.append(column)\n",
    "    else:\n",
    "        continous_feat.append(column)"
   ]
  },
  {
   "cell_type": "markdown",
   "metadata": {},
   "source": [
    "From the above exploration, we identified that rerun column has only one unique value(301) and there is no impact on analysis so we can remove that column"
   ]
  },
  {
   "cell_type": "markdown",
   "metadata": {},
   "source": [
    "Categorical features are :-"
   ]
  },
  {
   "cell_type": "code",
   "execution_count": 72,
   "metadata": {},
   "outputs": [
    {
     "data": {
      "text/plain": [
       "['camcol', 'class']"
      ]
     },
     "execution_count": 72,
     "metadata": {},
     "output_type": "execute_result"
    }
   ],
   "source": [
    "sp_df.drop(['rerun'], axis =1, inplace=True)\n",
    "del categorical_feat[0]\n",
    "categorical_feat"
   ]
  },
  {
   "cell_type": "markdown",
   "metadata": {},
   "source": [
    "Numerical continues features are:-"
   ]
  },
  {
   "cell_type": "code",
   "execution_count": 73,
   "metadata": {},
   "outputs": [
    {
     "data": {
      "text/plain": [
       "['ra',\n",
       " 'dec',\n",
       " 'u',\n",
       " 'g',\n",
       " 'r',\n",
       " 'i',\n",
       " 'z',\n",
       " 'run',\n",
       " 'field',\n",
       " 'redshift',\n",
       " 'plate',\n",
       " 'mjd',\n",
       " 'fiberid']"
      ]
     },
     "execution_count": 73,
     "metadata": {},
     "output_type": "execute_result"
    }
   ],
   "source": [
    "continous_feat"
   ]
  },
  {
   "cell_type": "markdown",
   "metadata": {},
   "source": [
    "### For analyzing data with target i.e., CLASS, we have to change class field to numeric type"
   ]
  },
  {
   "cell_type": "markdown",
   "metadata": {},
   "source": [
    "### encoding target variable"
   ]
  },
  {
   "cell_type": "code",
   "execution_count": 74,
   "metadata": {},
   "outputs": [],
   "source": [
    "sp_df['class'] = sp_df['class'].map({\n",
    "    'STAR': 0,\n",
    "    'GALAXY': 1,\n",
    "    'QSO':2\n",
    "}.get)"
   ]
  },
  {
   "cell_type": "code",
   "execution_count": 75,
   "metadata": {},
   "outputs": [
    {
     "data": {
      "text/plain": [
       "array([0, 1, 2], dtype=int64)"
      ]
     },
     "execution_count": 75,
     "metadata": {},
     "output_type": "execute_result"
    }
   ],
   "source": [
    "sp_df['class'].unique()"
   ]
  },
  {
   "cell_type": "code",
   "execution_count": 76,
   "metadata": {},
   "outputs": [
    {
     "data": {
      "text/html": [
       "<div>\n",
       "<style scoped>\n",
       "    .dataframe tbody tr th:only-of-type {\n",
       "        vertical-align: middle;\n",
       "    }\n",
       "\n",
       "    .dataframe tbody tr th {\n",
       "        vertical-align: top;\n",
       "    }\n",
       "\n",
       "    .dataframe thead th {\n",
       "        text-align: right;\n",
       "    }\n",
       "</style>\n",
       "<table border=\"1\" class=\"dataframe\">\n",
       "  <thead>\n",
       "    <tr style=\"text-align: right;\">\n",
       "      <th></th>\n",
       "      <th>ra</th>\n",
       "      <th>dec</th>\n",
       "      <th>u</th>\n",
       "      <th>g</th>\n",
       "      <th>r</th>\n",
       "      <th>i</th>\n",
       "      <th>z</th>\n",
       "      <th>run</th>\n",
       "      <th>camcol</th>\n",
       "      <th>field</th>\n",
       "      <th>class</th>\n",
       "      <th>redshift</th>\n",
       "      <th>plate</th>\n",
       "      <th>mjd</th>\n",
       "      <th>fiberid</th>\n",
       "    </tr>\n",
       "  </thead>\n",
       "  <tbody>\n",
       "    <tr>\n",
       "      <th>0</th>\n",
       "      <td>183.531326</td>\n",
       "      <td>0.089693</td>\n",
       "      <td>19.47406</td>\n",
       "      <td>17.04240</td>\n",
       "      <td>15.94699</td>\n",
       "      <td>15.50342</td>\n",
       "      <td>15.22531</td>\n",
       "      <td>752</td>\n",
       "      <td>4</td>\n",
       "      <td>267</td>\n",
       "      <td>0</td>\n",
       "      <td>-0.000009</td>\n",
       "      <td>3306</td>\n",
       "      <td>54922</td>\n",
       "      <td>491</td>\n",
       "    </tr>\n",
       "    <tr>\n",
       "      <th>1</th>\n",
       "      <td>183.598371</td>\n",
       "      <td>0.135285</td>\n",
       "      <td>18.66280</td>\n",
       "      <td>17.21449</td>\n",
       "      <td>16.67637</td>\n",
       "      <td>16.48922</td>\n",
       "      <td>16.39150</td>\n",
       "      <td>752</td>\n",
       "      <td>4</td>\n",
       "      <td>267</td>\n",
       "      <td>0</td>\n",
       "      <td>-0.000055</td>\n",
       "      <td>323</td>\n",
       "      <td>51615</td>\n",
       "      <td>541</td>\n",
       "    </tr>\n",
       "    <tr>\n",
       "      <th>2</th>\n",
       "      <td>183.680207</td>\n",
       "      <td>0.126185</td>\n",
       "      <td>19.38298</td>\n",
       "      <td>18.19169</td>\n",
       "      <td>17.47428</td>\n",
       "      <td>17.08732</td>\n",
       "      <td>16.80125</td>\n",
       "      <td>752</td>\n",
       "      <td>4</td>\n",
       "      <td>268</td>\n",
       "      <td>1</td>\n",
       "      <td>0.123111</td>\n",
       "      <td>287</td>\n",
       "      <td>52023</td>\n",
       "      <td>513</td>\n",
       "    </tr>\n",
       "    <tr>\n",
       "      <th>3</th>\n",
       "      <td>183.870529</td>\n",
       "      <td>0.049911</td>\n",
       "      <td>17.76536</td>\n",
       "      <td>16.60272</td>\n",
       "      <td>16.16116</td>\n",
       "      <td>15.98233</td>\n",
       "      <td>15.90438</td>\n",
       "      <td>752</td>\n",
       "      <td>4</td>\n",
       "      <td>269</td>\n",
       "      <td>0</td>\n",
       "      <td>-0.000111</td>\n",
       "      <td>3306</td>\n",
       "      <td>54922</td>\n",
       "      <td>510</td>\n",
       "    </tr>\n",
       "    <tr>\n",
       "      <th>4</th>\n",
       "      <td>183.883288</td>\n",
       "      <td>0.102557</td>\n",
       "      <td>17.55025</td>\n",
       "      <td>16.26342</td>\n",
       "      <td>16.43869</td>\n",
       "      <td>16.55492</td>\n",
       "      <td>16.61326</td>\n",
       "      <td>752</td>\n",
       "      <td>4</td>\n",
       "      <td>269</td>\n",
       "      <td>0</td>\n",
       "      <td>0.000590</td>\n",
       "      <td>3306</td>\n",
       "      <td>54922</td>\n",
       "      <td>512</td>\n",
       "    </tr>\n",
       "  </tbody>\n",
       "</table>\n",
       "</div>"
      ],
      "text/plain": [
       "           ra       dec         u         g         r         i         z  \\\n",
       "0  183.531326  0.089693  19.47406  17.04240  15.94699  15.50342  15.22531   \n",
       "1  183.598371  0.135285  18.66280  17.21449  16.67637  16.48922  16.39150   \n",
       "2  183.680207  0.126185  19.38298  18.19169  17.47428  17.08732  16.80125   \n",
       "3  183.870529  0.049911  17.76536  16.60272  16.16116  15.98233  15.90438   \n",
       "4  183.883288  0.102557  17.55025  16.26342  16.43869  16.55492  16.61326   \n",
       "\n",
       "   run  camcol  field  class  redshift  plate    mjd  fiberid  \n",
       "0  752       4    267      0 -0.000009   3306  54922      491  \n",
       "1  752       4    267      0 -0.000055    323  51615      541  \n",
       "2  752       4    268      1  0.123111    287  52023      513  \n",
       "3  752       4    269      0 -0.000111   3306  54922      510  \n",
       "4  752       4    269      0  0.000590   3306  54922      512  "
      ]
     },
     "execution_count": 76,
     "metadata": {},
     "output_type": "execute_result"
    }
   ],
   "source": [
    "sp_df.head()"
   ]
  },
  {
   "cell_type": "markdown",
   "metadata": {},
   "source": [
    "### Statistical Summary"
   ]
  },
  {
   "cell_type": "code",
   "execution_count": 77,
   "metadata": {},
   "outputs": [
    {
     "data": {
      "text/html": [
       "<div>\n",
       "<style scoped>\n",
       "    .dataframe tbody tr th:only-of-type {\n",
       "        vertical-align: middle;\n",
       "    }\n",
       "\n",
       "    .dataframe tbody tr th {\n",
       "        vertical-align: top;\n",
       "    }\n",
       "\n",
       "    .dataframe thead th {\n",
       "        text-align: right;\n",
       "    }\n",
       "</style>\n",
       "<table border=\"1\" class=\"dataframe\">\n",
       "  <thead>\n",
       "    <tr style=\"text-align: right;\">\n",
       "      <th></th>\n",
       "      <th>ra</th>\n",
       "      <th>dec</th>\n",
       "      <th>u</th>\n",
       "      <th>g</th>\n",
       "      <th>r</th>\n",
       "      <th>i</th>\n",
       "      <th>z</th>\n",
       "      <th>run</th>\n",
       "      <th>camcol</th>\n",
       "      <th>field</th>\n",
       "      <th>class</th>\n",
       "      <th>redshift</th>\n",
       "      <th>plate</th>\n",
       "      <th>mjd</th>\n",
       "      <th>fiberid</th>\n",
       "    </tr>\n",
       "  </thead>\n",
       "  <tbody>\n",
       "    <tr>\n",
       "      <th>count</th>\n",
       "      <td>10000.000000</td>\n",
       "      <td>10000.000000</td>\n",
       "      <td>10000.000000</td>\n",
       "      <td>10000.000000</td>\n",
       "      <td>10000.000000</td>\n",
       "      <td>10000.000000</td>\n",
       "      <td>10000.000000</td>\n",
       "      <td>10000.000000</td>\n",
       "      <td>10000.000000</td>\n",
       "      <td>10000.000000</td>\n",
       "      <td>10000.000000</td>\n",
       "      <td>10000.000000</td>\n",
       "      <td>10000.000000</td>\n",
       "      <td>10000.000000</td>\n",
       "      <td>10000.000000</td>\n",
       "    </tr>\n",
       "    <tr>\n",
       "      <th>mean</th>\n",
       "      <td>175.529987</td>\n",
       "      <td>14.836148</td>\n",
       "      <td>18.619355</td>\n",
       "      <td>17.371931</td>\n",
       "      <td>16.840963</td>\n",
       "      <td>16.583579</td>\n",
       "      <td>16.422833</td>\n",
       "      <td>981.034800</td>\n",
       "      <td>3.648700</td>\n",
       "      <td>302.380100</td>\n",
       "      <td>0.669800</td>\n",
       "      <td>0.143726</td>\n",
       "      <td>1460.986400</td>\n",
       "      <td>52943.533300</td>\n",
       "      <td>353.069400</td>\n",
       "    </tr>\n",
       "    <tr>\n",
       "      <th>std</th>\n",
       "      <td>47.783439</td>\n",
       "      <td>25.212207</td>\n",
       "      <td>0.828656</td>\n",
       "      <td>0.945457</td>\n",
       "      <td>1.067764</td>\n",
       "      <td>1.141805</td>\n",
       "      <td>1.203188</td>\n",
       "      <td>273.305024</td>\n",
       "      <td>1.666183</td>\n",
       "      <td>162.577763</td>\n",
       "      <td>0.625465</td>\n",
       "      <td>0.388774</td>\n",
       "      <td>1788.778371</td>\n",
       "      <td>1511.150651</td>\n",
       "      <td>206.298149</td>\n",
       "    </tr>\n",
       "    <tr>\n",
       "      <th>min</th>\n",
       "      <td>8.235100</td>\n",
       "      <td>-5.382632</td>\n",
       "      <td>12.988970</td>\n",
       "      <td>12.799550</td>\n",
       "      <td>12.431600</td>\n",
       "      <td>11.947210</td>\n",
       "      <td>11.610410</td>\n",
       "      <td>308.000000</td>\n",
       "      <td>1.000000</td>\n",
       "      <td>11.000000</td>\n",
       "      <td>0.000000</td>\n",
       "      <td>-0.004136</td>\n",
       "      <td>266.000000</td>\n",
       "      <td>51578.000000</td>\n",
       "      <td>1.000000</td>\n",
       "    </tr>\n",
       "    <tr>\n",
       "      <th>25%</th>\n",
       "      <td>157.370946</td>\n",
       "      <td>-0.539035</td>\n",
       "      <td>18.178035</td>\n",
       "      <td>16.815100</td>\n",
       "      <td>16.173333</td>\n",
       "      <td>15.853705</td>\n",
       "      <td>15.618285</td>\n",
       "      <td>752.000000</td>\n",
       "      <td>2.000000</td>\n",
       "      <td>184.000000</td>\n",
       "      <td>0.000000</td>\n",
       "      <td>0.000081</td>\n",
       "      <td>301.000000</td>\n",
       "      <td>51900.000000</td>\n",
       "      <td>186.750000</td>\n",
       "    </tr>\n",
       "    <tr>\n",
       "      <th>50%</th>\n",
       "      <td>180.394514</td>\n",
       "      <td>0.404166</td>\n",
       "      <td>18.853095</td>\n",
       "      <td>17.495135</td>\n",
       "      <td>16.858770</td>\n",
       "      <td>16.554985</td>\n",
       "      <td>16.389945</td>\n",
       "      <td>756.000000</td>\n",
       "      <td>4.000000</td>\n",
       "      <td>299.000000</td>\n",
       "      <td>1.000000</td>\n",
       "      <td>0.042591</td>\n",
       "      <td>441.000000</td>\n",
       "      <td>51997.000000</td>\n",
       "      <td>351.000000</td>\n",
       "    </tr>\n",
       "    <tr>\n",
       "      <th>75%</th>\n",
       "      <td>201.547279</td>\n",
       "      <td>35.649397</td>\n",
       "      <td>19.259232</td>\n",
       "      <td>18.010145</td>\n",
       "      <td>17.512675</td>\n",
       "      <td>17.258550</td>\n",
       "      <td>17.141447</td>\n",
       "      <td>1331.000000</td>\n",
       "      <td>5.000000</td>\n",
       "      <td>414.000000</td>\n",
       "      <td>1.000000</td>\n",
       "      <td>0.092579</td>\n",
       "      <td>2559.000000</td>\n",
       "      <td>54468.000000</td>\n",
       "      <td>510.000000</td>\n",
       "    </tr>\n",
       "    <tr>\n",
       "      <th>max</th>\n",
       "      <td>260.884382</td>\n",
       "      <td>68.542265</td>\n",
       "      <td>19.599900</td>\n",
       "      <td>19.918970</td>\n",
       "      <td>24.802040</td>\n",
       "      <td>28.179630</td>\n",
       "      <td>22.833060</td>\n",
       "      <td>1412.000000</td>\n",
       "      <td>6.000000</td>\n",
       "      <td>768.000000</td>\n",
       "      <td>2.000000</td>\n",
       "      <td>5.353854</td>\n",
       "      <td>8410.000000</td>\n",
       "      <td>57481.000000</td>\n",
       "      <td>1000.000000</td>\n",
       "    </tr>\n",
       "  </tbody>\n",
       "</table>\n",
       "</div>"
      ],
      "text/plain": [
       "                 ra           dec             u             g             r  \\\n",
       "count  10000.000000  10000.000000  10000.000000  10000.000000  10000.000000   \n",
       "mean     175.529987     14.836148     18.619355     17.371931     16.840963   \n",
       "std       47.783439     25.212207      0.828656      0.945457      1.067764   \n",
       "min        8.235100     -5.382632     12.988970     12.799550     12.431600   \n",
       "25%      157.370946     -0.539035     18.178035     16.815100     16.173333   \n",
       "50%      180.394514      0.404166     18.853095     17.495135     16.858770   \n",
       "75%      201.547279     35.649397     19.259232     18.010145     17.512675   \n",
       "max      260.884382     68.542265     19.599900     19.918970     24.802040   \n",
       "\n",
       "                  i             z           run        camcol         field  \\\n",
       "count  10000.000000  10000.000000  10000.000000  10000.000000  10000.000000   \n",
       "mean      16.583579     16.422833    981.034800      3.648700    302.380100   \n",
       "std        1.141805      1.203188    273.305024      1.666183    162.577763   \n",
       "min       11.947210     11.610410    308.000000      1.000000     11.000000   \n",
       "25%       15.853705     15.618285    752.000000      2.000000    184.000000   \n",
       "50%       16.554985     16.389945    756.000000      4.000000    299.000000   \n",
       "75%       17.258550     17.141447   1331.000000      5.000000    414.000000   \n",
       "max       28.179630     22.833060   1412.000000      6.000000    768.000000   \n",
       "\n",
       "              class      redshift         plate           mjd       fiberid  \n",
       "count  10000.000000  10000.000000  10000.000000  10000.000000  10000.000000  \n",
       "mean       0.669800      0.143726   1460.986400  52943.533300    353.069400  \n",
       "std        0.625465      0.388774   1788.778371   1511.150651    206.298149  \n",
       "min        0.000000     -0.004136    266.000000  51578.000000      1.000000  \n",
       "25%        0.000000      0.000081    301.000000  51900.000000    186.750000  \n",
       "50%        1.000000      0.042591    441.000000  51997.000000    351.000000  \n",
       "75%        1.000000      0.092579   2559.000000  54468.000000    510.000000  \n",
       "max        2.000000      5.353854   8410.000000  57481.000000   1000.000000  "
      ]
     },
     "execution_count": 77,
     "metadata": {},
     "output_type": "execute_result"
    }
   ],
   "source": [
    "sp_df.describe()"
   ]
  },
  {
   "cell_type": "markdown",
   "metadata": {},
   "source": [
    "#### Obsrevations"
   ]
  },
  {
   "cell_type": "markdown",
   "metadata": {},
   "source": [
    "from the statistical summary we can notice thare is a higher gap between 75 and max for columns field, dec, ra, r, i, z, redshift, plate, fiberid so we understood there are outliers existed we have to remove it"
   ]
  },
  {
   "cell_type": "markdown",
   "metadata": {},
   "source": [
    "for the columns dec, run, field, plate, mjd, fiberid are having mean greater than mode so that data is right skewed"
   ]
  },
  {
   "cell_type": "markdown",
   "metadata": {},
   "source": [
    "### To check correlation"
   ]
  },
  {
   "cell_type": "code",
   "execution_count": 78,
   "metadata": {},
   "outputs": [
    {
     "data": {
      "text/html": [
       "<div>\n",
       "<style scoped>\n",
       "    .dataframe tbody tr th:only-of-type {\n",
       "        vertical-align: middle;\n",
       "    }\n",
       "\n",
       "    .dataframe tbody tr th {\n",
       "        vertical-align: top;\n",
       "    }\n",
       "\n",
       "    .dataframe thead th {\n",
       "        text-align: right;\n",
       "    }\n",
       "</style>\n",
       "<table border=\"1\" class=\"dataframe\">\n",
       "  <thead>\n",
       "    <tr style=\"text-align: right;\">\n",
       "      <th></th>\n",
       "      <th>ra</th>\n",
       "      <th>dec</th>\n",
       "      <th>u</th>\n",
       "      <th>g</th>\n",
       "      <th>r</th>\n",
       "      <th>i</th>\n",
       "      <th>z</th>\n",
       "      <th>run</th>\n",
       "      <th>camcol</th>\n",
       "      <th>field</th>\n",
       "      <th>class</th>\n",
       "      <th>redshift</th>\n",
       "      <th>plate</th>\n",
       "      <th>mjd</th>\n",
       "      <th>fiberid</th>\n",
       "    </tr>\n",
       "  </thead>\n",
       "  <tbody>\n",
       "    <tr>\n",
       "      <th>ra</th>\n",
       "      <td>1.000000</td>\n",
       "      <td>0.003596</td>\n",
       "      <td>0.031238</td>\n",
       "      <td>0.043909</td>\n",
       "      <td>0.047103</td>\n",
       "      <td>0.045731</td>\n",
       "      <td>0.042950</td>\n",
       "      <td>-0.092741</td>\n",
       "      <td>-0.006294</td>\n",
       "      <td>0.594700</td>\n",
       "      <td>0.041189</td>\n",
       "      <td>0.030307</td>\n",
       "      <td>-0.095329</td>\n",
       "      <td>-0.086887</td>\n",
       "      <td>0.057485</td>\n",
       "    </tr>\n",
       "    <tr>\n",
       "      <th>dec</th>\n",
       "      <td>0.003596</td>\n",
       "      <td>1.000000</td>\n",
       "      <td>0.035279</td>\n",
       "      <td>0.061875</td>\n",
       "      <td>0.063404</td>\n",
       "      <td>0.058292</td>\n",
       "      <td>0.056870</td>\n",
       "      <td>0.778385</td>\n",
       "      <td>0.114614</td>\n",
       "      <td>-0.131471</td>\n",
       "      <td>0.091249</td>\n",
       "      <td>0.067021</td>\n",
       "      <td>0.088342</td>\n",
       "      <td>0.066147</td>\n",
       "      <td>0.155012</td>\n",
       "    </tr>\n",
       "    <tr>\n",
       "      <th>u</th>\n",
       "      <td>0.031238</td>\n",
       "      <td>0.035279</td>\n",
       "      <td>1.000000</td>\n",
       "      <td>0.849232</td>\n",
       "      <td>0.692379</td>\n",
       "      <td>0.602630</td>\n",
       "      <td>0.551483</td>\n",
       "      <td>0.038229</td>\n",
       "      <td>0.009945</td>\n",
       "      <td>0.008548</td>\n",
       "      <td>0.284541</td>\n",
       "      <td>0.163741</td>\n",
       "      <td>-0.129430</td>\n",
       "      <td>-0.168793</td>\n",
       "      <td>0.011301</td>\n",
       "    </tr>\n",
       "    <tr>\n",
       "      <th>g</th>\n",
       "      <td>0.043909</td>\n",
       "      <td>0.061875</td>\n",
       "      <td>0.849232</td>\n",
       "      <td>1.000000</td>\n",
       "      <td>0.958106</td>\n",
       "      <td>0.907419</td>\n",
       "      <td>0.879622</td>\n",
       "      <td>0.058446</td>\n",
       "      <td>0.010223</td>\n",
       "      <td>0.014651</td>\n",
       "      <td>0.357352</td>\n",
       "      <td>0.407576</td>\n",
       "      <td>-0.054981</td>\n",
       "      <td>-0.092772</td>\n",
       "      <td>0.047187</td>\n",
       "    </tr>\n",
       "    <tr>\n",
       "      <th>r</th>\n",
       "      <td>0.047103</td>\n",
       "      <td>0.063404</td>\n",
       "      <td>0.692379</td>\n",
       "      <td>0.958106</td>\n",
       "      <td>1.000000</td>\n",
       "      <td>0.977672</td>\n",
       "      <td>0.969197</td>\n",
       "      <td>0.057261</td>\n",
       "      <td>0.010747</td>\n",
       "      <td>0.017133</td>\n",
       "      <td>0.278678</td>\n",
       "      <td>0.441080</td>\n",
       "      <td>0.019787</td>\n",
       "      <td>-0.009345</td>\n",
       "      <td>0.061081</td>\n",
       "    </tr>\n",
       "    <tr>\n",
       "      <th>i</th>\n",
       "      <td>0.045731</td>\n",
       "      <td>0.058292</td>\n",
       "      <td>0.602630</td>\n",
       "      <td>0.907419</td>\n",
       "      <td>0.977672</td>\n",
       "      <td>1.000000</td>\n",
       "      <td>0.981507</td>\n",
       "      <td>0.049765</td>\n",
       "      <td>0.013461</td>\n",
       "      <td>0.019781</td>\n",
       "      <td>0.205367</td>\n",
       "      <td>0.431450</td>\n",
       "      <td>0.072958</td>\n",
       "      <td>0.050896</td>\n",
       "      <td>0.069977</td>\n",
       "    </tr>\n",
       "    <tr>\n",
       "      <th>z</th>\n",
       "      <td>0.042950</td>\n",
       "      <td>0.056870</td>\n",
       "      <td>0.551483</td>\n",
       "      <td>0.879622</td>\n",
       "      <td>0.969197</td>\n",
       "      <td>0.981507</td>\n",
       "      <td>1.000000</td>\n",
       "      <td>0.048252</td>\n",
       "      <td>0.010930</td>\n",
       "      <td>0.018248</td>\n",
       "      <td>0.149444</td>\n",
       "      <td>0.424034</td>\n",
       "      <td>0.112397</td>\n",
       "      <td>0.095658</td>\n",
       "      <td>0.067980</td>\n",
       "    </tr>\n",
       "    <tr>\n",
       "      <th>run</th>\n",
       "      <td>-0.092741</td>\n",
       "      <td>0.778385</td>\n",
       "      <td>0.038229</td>\n",
       "      <td>0.058446</td>\n",
       "      <td>0.057261</td>\n",
       "      <td>0.049765</td>\n",
       "      <td>0.048252</td>\n",
       "      <td>1.000000</td>\n",
       "      <td>0.151814</td>\n",
       "      <td>-0.463898</td>\n",
       "      <td>0.100627</td>\n",
       "      <td>0.059056</td>\n",
       "      <td>0.093601</td>\n",
       "      <td>0.070354</td>\n",
       "      <td>0.138566</td>\n",
       "    </tr>\n",
       "    <tr>\n",
       "      <th>camcol</th>\n",
       "      <td>-0.006294</td>\n",
       "      <td>0.114614</td>\n",
       "      <td>0.009945</td>\n",
       "      <td>0.010223</td>\n",
       "      <td>0.010747</td>\n",
       "      <td>0.013461</td>\n",
       "      <td>0.010930</td>\n",
       "      <td>0.151814</td>\n",
       "      <td>1.000000</td>\n",
       "      <td>-0.067921</td>\n",
       "      <td>0.010269</td>\n",
       "      <td>0.006834</td>\n",
       "      <td>0.040795</td>\n",
       "      <td>0.026284</td>\n",
       "      <td>0.535629</td>\n",
       "    </tr>\n",
       "    <tr>\n",
       "      <th>field</th>\n",
       "      <td>0.594700</td>\n",
       "      <td>-0.131471</td>\n",
       "      <td>0.008548</td>\n",
       "      <td>0.014651</td>\n",
       "      <td>0.017133</td>\n",
       "      <td>0.019781</td>\n",
       "      <td>0.018248</td>\n",
       "      <td>-0.463898</td>\n",
       "      <td>-0.067921</td>\n",
       "      <td>1.000000</td>\n",
       "      <td>-0.002610</td>\n",
       "      <td>0.015414</td>\n",
       "      <td>-0.093723</td>\n",
       "      <td>-0.086558</td>\n",
       "      <td>-0.040493</td>\n",
       "    </tr>\n",
       "    <tr>\n",
       "      <th>class</th>\n",
       "      <td>0.041189</td>\n",
       "      <td>0.091249</td>\n",
       "      <td>0.284541</td>\n",
       "      <td>0.357352</td>\n",
       "      <td>0.278678</td>\n",
       "      <td>0.205367</td>\n",
       "      <td>0.149444</td>\n",
       "      <td>0.100627</td>\n",
       "      <td>0.010269</td>\n",
       "      <td>-0.002610</td>\n",
       "      <td>1.000000</td>\n",
       "      <td>0.621046</td>\n",
       "      <td>-0.466004</td>\n",
       "      <td>-0.527803</td>\n",
       "      <td>-0.012669</td>\n",
       "    </tr>\n",
       "    <tr>\n",
       "      <th>redshift</th>\n",
       "      <td>0.030307</td>\n",
       "      <td>0.067021</td>\n",
       "      <td>0.163741</td>\n",
       "      <td>0.407576</td>\n",
       "      <td>0.441080</td>\n",
       "      <td>0.431450</td>\n",
       "      <td>0.424034</td>\n",
       "      <td>0.059056</td>\n",
       "      <td>0.006834</td>\n",
       "      <td>0.015414</td>\n",
       "      <td>0.621046</td>\n",
       "      <td>1.000000</td>\n",
       "      <td>-0.038091</td>\n",
       "      <td>-0.057957</td>\n",
       "      <td>0.046532</td>\n",
       "    </tr>\n",
       "    <tr>\n",
       "      <th>plate</th>\n",
       "      <td>-0.095329</td>\n",
       "      <td>0.088342</td>\n",
       "      <td>-0.129430</td>\n",
       "      <td>-0.054981</td>\n",
       "      <td>0.019787</td>\n",
       "      <td>0.072958</td>\n",
       "      <td>0.112397</td>\n",
       "      <td>0.093601</td>\n",
       "      <td>0.040795</td>\n",
       "      <td>-0.093723</td>\n",
       "      <td>-0.466004</td>\n",
       "      <td>-0.038091</td>\n",
       "      <td>1.000000</td>\n",
       "      <td>0.966881</td>\n",
       "      <td>0.229811</td>\n",
       "    </tr>\n",
       "    <tr>\n",
       "      <th>mjd</th>\n",
       "      <td>-0.086887</td>\n",
       "      <td>0.066147</td>\n",
       "      <td>-0.168793</td>\n",
       "      <td>-0.092772</td>\n",
       "      <td>-0.009345</td>\n",
       "      <td>0.050896</td>\n",
       "      <td>0.095658</td>\n",
       "      <td>0.070354</td>\n",
       "      <td>0.026284</td>\n",
       "      <td>-0.086558</td>\n",
       "      <td>-0.527803</td>\n",
       "      <td>-0.057957</td>\n",
       "      <td>0.966881</td>\n",
       "      <td>1.000000</td>\n",
       "      <td>0.190328</td>\n",
       "    </tr>\n",
       "    <tr>\n",
       "      <th>fiberid</th>\n",
       "      <td>0.057485</td>\n",
       "      <td>0.155012</td>\n",
       "      <td>0.011301</td>\n",
       "      <td>0.047187</td>\n",
       "      <td>0.061081</td>\n",
       "      <td>0.069977</td>\n",
       "      <td>0.067980</td>\n",
       "      <td>0.138566</td>\n",
       "      <td>0.535629</td>\n",
       "      <td>-0.040493</td>\n",
       "      <td>-0.012669</td>\n",
       "      <td>0.046532</td>\n",
       "      <td>0.229811</td>\n",
       "      <td>0.190328</td>\n",
       "      <td>1.000000</td>\n",
       "    </tr>\n",
       "  </tbody>\n",
       "</table>\n",
       "</div>"
      ],
      "text/plain": [
       "                ra       dec         u         g         r         i  \\\n",
       "ra        1.000000  0.003596  0.031238  0.043909  0.047103  0.045731   \n",
       "dec       0.003596  1.000000  0.035279  0.061875  0.063404  0.058292   \n",
       "u         0.031238  0.035279  1.000000  0.849232  0.692379  0.602630   \n",
       "g         0.043909  0.061875  0.849232  1.000000  0.958106  0.907419   \n",
       "r         0.047103  0.063404  0.692379  0.958106  1.000000  0.977672   \n",
       "i         0.045731  0.058292  0.602630  0.907419  0.977672  1.000000   \n",
       "z         0.042950  0.056870  0.551483  0.879622  0.969197  0.981507   \n",
       "run      -0.092741  0.778385  0.038229  0.058446  0.057261  0.049765   \n",
       "camcol   -0.006294  0.114614  0.009945  0.010223  0.010747  0.013461   \n",
       "field     0.594700 -0.131471  0.008548  0.014651  0.017133  0.019781   \n",
       "class     0.041189  0.091249  0.284541  0.357352  0.278678  0.205367   \n",
       "redshift  0.030307  0.067021  0.163741  0.407576  0.441080  0.431450   \n",
       "plate    -0.095329  0.088342 -0.129430 -0.054981  0.019787  0.072958   \n",
       "mjd      -0.086887  0.066147 -0.168793 -0.092772 -0.009345  0.050896   \n",
       "fiberid   0.057485  0.155012  0.011301  0.047187  0.061081  0.069977   \n",
       "\n",
       "                 z       run    camcol     field     class  redshift  \\\n",
       "ra        0.042950 -0.092741 -0.006294  0.594700  0.041189  0.030307   \n",
       "dec       0.056870  0.778385  0.114614 -0.131471  0.091249  0.067021   \n",
       "u         0.551483  0.038229  0.009945  0.008548  0.284541  0.163741   \n",
       "g         0.879622  0.058446  0.010223  0.014651  0.357352  0.407576   \n",
       "r         0.969197  0.057261  0.010747  0.017133  0.278678  0.441080   \n",
       "i         0.981507  0.049765  0.013461  0.019781  0.205367  0.431450   \n",
       "z         1.000000  0.048252  0.010930  0.018248  0.149444  0.424034   \n",
       "run       0.048252  1.000000  0.151814 -0.463898  0.100627  0.059056   \n",
       "camcol    0.010930  0.151814  1.000000 -0.067921  0.010269  0.006834   \n",
       "field     0.018248 -0.463898 -0.067921  1.000000 -0.002610  0.015414   \n",
       "class     0.149444  0.100627  0.010269 -0.002610  1.000000  0.621046   \n",
       "redshift  0.424034  0.059056  0.006834  0.015414  0.621046  1.000000   \n",
       "plate     0.112397  0.093601  0.040795 -0.093723 -0.466004 -0.038091   \n",
       "mjd       0.095658  0.070354  0.026284 -0.086558 -0.527803 -0.057957   \n",
       "fiberid   0.067980  0.138566  0.535629 -0.040493 -0.012669  0.046532   \n",
       "\n",
       "             plate       mjd   fiberid  \n",
       "ra       -0.095329 -0.086887  0.057485  \n",
       "dec       0.088342  0.066147  0.155012  \n",
       "u        -0.129430 -0.168793  0.011301  \n",
       "g        -0.054981 -0.092772  0.047187  \n",
       "r         0.019787 -0.009345  0.061081  \n",
       "i         0.072958  0.050896  0.069977  \n",
       "z         0.112397  0.095658  0.067980  \n",
       "run       0.093601  0.070354  0.138566  \n",
       "camcol    0.040795  0.026284  0.535629  \n",
       "field    -0.093723 -0.086558 -0.040493  \n",
       "class    -0.466004 -0.527803 -0.012669  \n",
       "redshift -0.038091 -0.057957  0.046532  \n",
       "plate     1.000000  0.966881  0.229811  \n",
       "mjd       0.966881  1.000000  0.190328  \n",
       "fiberid   0.229811  0.190328  1.000000  "
      ]
     },
     "execution_count": 78,
     "metadata": {},
     "output_type": "execute_result"
    }
   ],
   "source": [
    "sp_corr = sp_df.corr()\n",
    "sp_corr"
   ]
  },
  {
   "cell_type": "markdown",
   "metadata": {},
   "source": [
    "Here we can see correlation between the columns"
   ]
  },
  {
   "cell_type": "markdown",
   "metadata": {},
   "source": [
    "For better understanding we can see it using heatmap visualization"
   ]
  },
  {
   "cell_type": "code",
   "execution_count": 79,
   "metadata": {},
   "outputs": [
    {
     "data": {
      "text/plain": [
       "<function matplotlib.pyplot.show(*args, **kw)>"
      ]
     },
     "execution_count": 79,
     "metadata": {},
     "output_type": "execute_result"
    },
    {
     "data": {
      "image/png": "[encoded data removed]",
      "text/plain": [
       "<Figure size 1152x1152 with 2 Axes>"
      ]
     },
     "metadata": {
      "needs_background": "light"
     },
     "output_type": "display_data"
    }
   ],
   "source": [
    "plt.figure(figsize=(16,16))\n",
    "sns.heatmap(sp_corr, annot=True, fmt='.0%',cmap='Blues')\n",
    "plt.show"
   ]
  },
  {
   "cell_type": "code",
   "execution_count": 80,
   "metadata": {},
   "outputs": [
    {
     "data": {
      "text/plain": [
       "Text(0.5, 1.0, 'correlation with target variable')"
      ]
     },
     "execution_count": 80,
     "metadata": {},
     "output_type": "execute_result"
    },
    {
     "data": {
      "image/png": "[encoded data removed]",
      "text/plain": [
       "<Figure size 576x432 with 1 Axes>"
      ]
     },
     "metadata": {
      "needs_background": "light"
     },
     "output_type": "display_data"
    }
   ],
   "source": [
    "plt.figure(figsize=(8,6))\n",
    "sp_df.drop('class', axis =1).corrwith(sp_df['class']).plot(kind='bar', grid=True)\n",
    "plt.xticks(rotation=20)\n",
    "plt.title('correlation with target variable')"
   ]
  },
  {
   "cell_type": "markdown",
   "metadata": {},
   "source": [
    "### Observations:-"
   ]
  },
  {
   "cell_type": "markdown",
   "metadata": {},
   "source": [
    "1. plate, mjd colums are nagatively correlated with target variable class "
   ]
  },
  {
   "cell_type": "markdown",
   "metadata": {},
   "source": [
    "2. redshift columns is highly correlated with target column class"
   ]
  },
  {
   "cell_type": "markdown",
   "metadata": {},
   "source": [
    "### Univariate analysis"
   ]
  },
  {
   "cell_type": "code",
   "execution_count": 81,
   "metadata": {},
   "outputs": [
    {
     "data": {
      "text/html": [
       "<div>\n",
       "<style scoped>\n",
       "    .dataframe tbody tr th:only-of-type {\n",
       "        vertical-align: middle;\n",
       "    }\n",
       "\n",
       "    .dataframe tbody tr th {\n",
       "        vertical-align: top;\n",
       "    }\n",
       "\n",
       "    .dataframe thead th {\n",
       "        text-align: right;\n",
       "    }\n",
       "</style>\n",
       "<table border=\"1\" class=\"dataframe\">\n",
       "  <thead>\n",
       "    <tr style=\"text-align: right;\">\n",
       "      <th></th>\n",
       "      <th>ra</th>\n",
       "      <th>dec</th>\n",
       "      <th>u</th>\n",
       "      <th>g</th>\n",
       "      <th>r</th>\n",
       "      <th>i</th>\n",
       "      <th>z</th>\n",
       "      <th>run</th>\n",
       "      <th>camcol</th>\n",
       "      <th>field</th>\n",
       "      <th>class</th>\n",
       "      <th>redshift</th>\n",
       "      <th>plate</th>\n",
       "      <th>mjd</th>\n",
       "      <th>fiberid</th>\n",
       "    </tr>\n",
       "  </thead>\n",
       "  <tbody>\n",
       "    <tr>\n",
       "      <th>0</th>\n",
       "      <td>183.531326</td>\n",
       "      <td>0.089693</td>\n",
       "      <td>19.47406</td>\n",
       "      <td>17.04240</td>\n",
       "      <td>15.94699</td>\n",
       "      <td>15.50342</td>\n",
       "      <td>15.22531</td>\n",
       "      <td>752</td>\n",
       "      <td>4</td>\n",
       "      <td>267</td>\n",
       "      <td>0</td>\n",
       "      <td>-0.000009</td>\n",
       "      <td>3306</td>\n",
       "      <td>54922</td>\n",
       "      <td>491</td>\n",
       "    </tr>\n",
       "    <tr>\n",
       "      <th>1</th>\n",
       "      <td>183.598371</td>\n",
       "      <td>0.135285</td>\n",
       "      <td>18.66280</td>\n",
       "      <td>17.21449</td>\n",
       "      <td>16.67637</td>\n",
       "      <td>16.48922</td>\n",
       "      <td>16.39150</td>\n",
       "      <td>752</td>\n",
       "      <td>4</td>\n",
       "      <td>267</td>\n",
       "      <td>0</td>\n",
       "      <td>-0.000055</td>\n",
       "      <td>323</td>\n",
       "      <td>51615</td>\n",
       "      <td>541</td>\n",
       "    </tr>\n",
       "    <tr>\n",
       "      <th>2</th>\n",
       "      <td>183.680207</td>\n",
       "      <td>0.126185</td>\n",
       "      <td>19.38298</td>\n",
       "      <td>18.19169</td>\n",
       "      <td>17.47428</td>\n",
       "      <td>17.08732</td>\n",
       "      <td>16.80125</td>\n",
       "      <td>752</td>\n",
       "      <td>4</td>\n",
       "      <td>268</td>\n",
       "      <td>1</td>\n",
       "      <td>0.123111</td>\n",
       "      <td>287</td>\n",
       "      <td>52023</td>\n",
       "      <td>513</td>\n",
       "    </tr>\n",
       "    <tr>\n",
       "      <th>3</th>\n",
       "      <td>183.870529</td>\n",
       "      <td>0.049911</td>\n",
       "      <td>17.76536</td>\n",
       "      <td>16.60272</td>\n",
       "      <td>16.16116</td>\n",
       "      <td>15.98233</td>\n",
       "      <td>15.90438</td>\n",
       "      <td>752</td>\n",
       "      <td>4</td>\n",
       "      <td>269</td>\n",
       "      <td>0</td>\n",
       "      <td>-0.000111</td>\n",
       "      <td>3306</td>\n",
       "      <td>54922</td>\n",
       "      <td>510</td>\n",
       "    </tr>\n",
       "    <tr>\n",
       "      <th>4</th>\n",
       "      <td>183.883288</td>\n",
       "      <td>0.102557</td>\n",
       "      <td>17.55025</td>\n",
       "      <td>16.26342</td>\n",
       "      <td>16.43869</td>\n",
       "      <td>16.55492</td>\n",
       "      <td>16.61326</td>\n",
       "      <td>752</td>\n",
       "      <td>4</td>\n",
       "      <td>269</td>\n",
       "      <td>0</td>\n",
       "      <td>0.000590</td>\n",
       "      <td>3306</td>\n",
       "      <td>54922</td>\n",
       "      <td>512</td>\n",
       "    </tr>\n",
       "  </tbody>\n",
       "</table>\n",
       "</div>"
      ],
      "text/plain": [
       "           ra       dec         u         g         r         i         z  \\\n",
       "0  183.531326  0.089693  19.47406  17.04240  15.94699  15.50342  15.22531   \n",
       "1  183.598371  0.135285  18.66280  17.21449  16.67637  16.48922  16.39150   \n",
       "2  183.680207  0.126185  19.38298  18.19169  17.47428  17.08732  16.80125   \n",
       "3  183.870529  0.049911  17.76536  16.60272  16.16116  15.98233  15.90438   \n",
       "4  183.883288  0.102557  17.55025  16.26342  16.43869  16.55492  16.61326   \n",
       "\n",
       "   run  camcol  field  class  redshift  plate    mjd  fiberid  \n",
       "0  752       4    267      0 -0.000009   3306  54922      491  \n",
       "1  752       4    267      0 -0.000055    323  51615      541  \n",
       "2  752       4    268      1  0.123111    287  52023      513  \n",
       "3  752       4    269      0 -0.000111   3306  54922      510  \n",
       "4  752       4    269      0  0.000590   3306  54922      512  "
      ]
     },
     "execution_count": 81,
     "metadata": {},
     "output_type": "execute_result"
    }
   ],
   "source": [
    "sp_df.head()"
   ]
  },
  {
   "cell_type": "code",
   "execution_count": 82,
   "metadata": {},
   "outputs": [
    {
     "data": {
      "image/png": "[encoded data removed]",
      "text/plain": [
       "<Figure size 432x288 with 1 Axes>"
      ]
     },
     "metadata": {
      "needs_background": "light"
     },
     "output_type": "display_data"
    },
    {
     "name": "stdout",
     "output_type": "stream",
     "text": [
      "1    4998\n",
      "0    4152\n",
      "2     850\n",
      "Name: class, dtype: int64\n"
     ]
    }
   ],
   "source": [
    "plt.subplots(figsize=(6,4))\n",
    "sns.countplot(x = 'class', data=sp_df)\n",
    "plt.title('class count of records')\n",
    "plt.xlabel('class type')\n",
    "plt.ylabel('class count')\n",
    "plt.show()\n",
    "\n",
    "print(sp_df['class'].value_counts())"
   ]
  },
  {
   "cell_type": "markdown",
   "metadata": {},
   "source": [
    "Observations:-"
   ]
  },
  {
   "cell_type": "markdown",
   "metadata": {},
   "source": [
    "1. 4998 records are type 1 class i.e 'GALAXY'"
   ]
  },
  {
   "cell_type": "code",
   "execution_count": 83,
   "metadata": {},
   "outputs": [
    {
     "data": {
      "image/png": "[encoded data removed]",
      "text/plain": [
       "<Figure size 432x288 with 1 Axes>"
      ]
     },
     "metadata": {
      "needs_background": "light"
     },
     "output_type": "display_data"
    },
    {
     "name": "stdout",
     "output_type": "stream",
     "text": [
      "4    1834\n",
      "5    1827\n",
      "6    1769\n",
      "2    1712\n",
      "3    1560\n",
      "1    1298\n",
      "Name: camcol, dtype: int64\n"
     ]
    }
   ],
   "source": [
    "plt.subplots(figsize=(6,4))\n",
    "sns.countplot(x = 'camcol', data=sp_df)\n",
    "plt.title('camcol count of records')\n",
    "plt.xlabel('camcol type')\n",
    "plt.ylabel('camcol count')\n",
    "plt.show()\n",
    "\n",
    "print(sp_df['camcol'].value_counts())"
   ]
  },
  {
   "cell_type": "markdown",
   "metadata": {},
   "source": [
    "Observations:-"
   ]
  },
  {
   "cell_type": "markdown",
   "metadata": {},
   "source": [
    "1. 1834 are type 4 camcol"
   ]
  },
  {
   "cell_type": "markdown",
   "metadata": {},
   "source": [
    "2. Type 2,6,5 and 4 are almost has same contribution in records percentage"
   ]
  },
  {
   "cell_type": "markdown",
   "metadata": {},
   "source": [
    "### Bivariate Analysis:-"
   ]
  },
  {
   "cell_type": "markdown",
   "metadata": {},
   "source": [
    "#### Class vs Camcol"
   ]
  },
  {
   "cell_type": "code",
   "execution_count": 84,
   "metadata": {},
   "outputs": [
    {
     "data": {
      "image/png": "[encoded data removed]",
      "text/plain": [
       "<Figure size 648x216 with 3 Axes>"
      ]
     },
     "metadata": {
      "needs_background": "light"
     },
     "output_type": "display_data"
    }
   ],
   "source": [
    "fg = sns.FacetGrid(sp_df, col = 'class')\n",
    "fg.map(sns.distplot, 'camcol')\n",
    "plt.show()"
   ]
  },
  {
   "cell_type": "code",
   "execution_count": 85,
   "metadata": {},
   "outputs": [
    {
     "data": {
      "image/png": "[encoded data removed]",
      "text/plain": [
       "<Figure size 432x288 with 1 Axes>"
      ]
     },
     "metadata": {
      "needs_background": "light"
     },
     "output_type": "display_data"
    },
    {
     "name": "stdout",
     "output_type": "stream",
     "text": [
      "camcol  class\n",
      "1       1        687\n",
      "        0        497\n",
      "        2        114\n",
      "2       1        818\n",
      "        0        758\n",
      "        2        136\n",
      "3       1        752\n",
      "        0        690\n",
      "        2        118\n",
      "4       1        901\n",
      "        0        772\n",
      "        2        161\n",
      "5       1        957\n",
      "        0        700\n",
      "        2        170\n",
      "6       1        883\n",
      "        0        735\n",
      "        2        151\n",
      "Name: class, dtype: int64\n"
     ]
    }
   ],
   "source": [
    "sns.countplot(x='camcol', hue = 'class', data=sp_df)\n",
    "plt.title('camcol according to class')\n",
    "plt.xlabel('class type')\n",
    "plt.ylabel('count of camcol')\n",
    "plt.show()\n",
    "\n",
    "print(sp_df.groupby('camcol')['class'].value_counts())"
   ]
  },
  {
   "cell_type": "markdown",
   "metadata": {},
   "source": [
    "### checking skew"
   ]
  },
  {
   "cell_type": "code",
   "execution_count": 86,
   "metadata": {},
   "outputs": [
    {
     "data": {
      "text/html": [
       "<div>\n",
       "<style scoped>\n",
       "    .dataframe tbody tr th:only-of-type {\n",
       "        vertical-align: middle;\n",
       "    }\n",
       "\n",
       "    .dataframe tbody tr th {\n",
       "        vertical-align: top;\n",
       "    }\n",
       "\n",
       "    .dataframe thead th {\n",
       "        text-align: right;\n",
       "    }\n",
       "</style>\n",
       "<table border=\"1\" class=\"dataframe\">\n",
       "  <thead>\n",
       "    <tr style=\"text-align: right;\">\n",
       "      <th></th>\n",
       "      <th>ra</th>\n",
       "      <th>dec</th>\n",
       "      <th>u</th>\n",
       "      <th>g</th>\n",
       "      <th>r</th>\n",
       "      <th>i</th>\n",
       "      <th>z</th>\n",
       "      <th>run</th>\n",
       "      <th>camcol</th>\n",
       "      <th>field</th>\n",
       "      <th>class</th>\n",
       "      <th>redshift</th>\n",
       "      <th>plate</th>\n",
       "      <th>mjd</th>\n",
       "      <th>fiberid</th>\n",
       "    </tr>\n",
       "  </thead>\n",
       "  <tbody>\n",
       "    <tr>\n",
       "      <th>0</th>\n",
       "      <td>183.531326</td>\n",
       "      <td>0.089693</td>\n",
       "      <td>19.47406</td>\n",
       "      <td>17.04240</td>\n",
       "      <td>15.94699</td>\n",
       "      <td>15.50342</td>\n",
       "      <td>15.22531</td>\n",
       "      <td>752</td>\n",
       "      <td>4</td>\n",
       "      <td>267</td>\n",
       "      <td>0</td>\n",
       "      <td>-0.000009</td>\n",
       "      <td>3306</td>\n",
       "      <td>54922</td>\n",
       "      <td>491</td>\n",
       "    </tr>\n",
       "    <tr>\n",
       "      <th>1</th>\n",
       "      <td>183.598371</td>\n",
       "      <td>0.135285</td>\n",
       "      <td>18.66280</td>\n",
       "      <td>17.21449</td>\n",
       "      <td>16.67637</td>\n",
       "      <td>16.48922</td>\n",
       "      <td>16.39150</td>\n",
       "      <td>752</td>\n",
       "      <td>4</td>\n",
       "      <td>267</td>\n",
       "      <td>0</td>\n",
       "      <td>-0.000055</td>\n",
       "      <td>323</td>\n",
       "      <td>51615</td>\n",
       "      <td>541</td>\n",
       "    </tr>\n",
       "    <tr>\n",
       "      <th>2</th>\n",
       "      <td>183.680207</td>\n",
       "      <td>0.126185</td>\n",
       "      <td>19.38298</td>\n",
       "      <td>18.19169</td>\n",
       "      <td>17.47428</td>\n",
       "      <td>17.08732</td>\n",
       "      <td>16.80125</td>\n",
       "      <td>752</td>\n",
       "      <td>4</td>\n",
       "      <td>268</td>\n",
       "      <td>1</td>\n",
       "      <td>0.123111</td>\n",
       "      <td>287</td>\n",
       "      <td>52023</td>\n",
       "      <td>513</td>\n",
       "    </tr>\n",
       "    <tr>\n",
       "      <th>3</th>\n",
       "      <td>183.870529</td>\n",
       "      <td>0.049911</td>\n",
       "      <td>17.76536</td>\n",
       "      <td>16.60272</td>\n",
       "      <td>16.16116</td>\n",
       "      <td>15.98233</td>\n",
       "      <td>15.90438</td>\n",
       "      <td>752</td>\n",
       "      <td>4</td>\n",
       "      <td>269</td>\n",
       "      <td>0</td>\n",
       "      <td>-0.000111</td>\n",
       "      <td>3306</td>\n",
       "      <td>54922</td>\n",
       "      <td>510</td>\n",
       "    </tr>\n",
       "    <tr>\n",
       "      <th>4</th>\n",
       "      <td>183.883288</td>\n",
       "      <td>0.102557</td>\n",
       "      <td>17.55025</td>\n",
       "      <td>16.26342</td>\n",
       "      <td>16.43869</td>\n",
       "      <td>16.55492</td>\n",
       "      <td>16.61326</td>\n",
       "      <td>752</td>\n",
       "      <td>4</td>\n",
       "      <td>269</td>\n",
       "      <td>0</td>\n",
       "      <td>0.000590</td>\n",
       "      <td>3306</td>\n",
       "      <td>54922</td>\n",
       "      <td>512</td>\n",
       "    </tr>\n",
       "  </tbody>\n",
       "</table>\n",
       "</div>"
      ],
      "text/plain": [
       "           ra       dec         u         g         r         i         z  \\\n",
       "0  183.531326  0.089693  19.47406  17.04240  15.94699  15.50342  15.22531   \n",
       "1  183.598371  0.135285  18.66280  17.21449  16.67637  16.48922  16.39150   \n",
       "2  183.680207  0.126185  19.38298  18.19169  17.47428  17.08732  16.80125   \n",
       "3  183.870529  0.049911  17.76536  16.60272  16.16116  15.98233  15.90438   \n",
       "4  183.883288  0.102557  17.55025  16.26342  16.43869  16.55492  16.61326   \n",
       "\n",
       "   run  camcol  field  class  redshift  plate    mjd  fiberid  \n",
       "0  752       4    267      0 -0.000009   3306  54922      491  \n",
       "1  752       4    267      0 -0.000055    323  51615      541  \n",
       "2  752       4    268      1  0.123111    287  52023      513  \n",
       "3  752       4    269      0 -0.000111   3306  54922      510  \n",
       "4  752       4    269      0  0.000590   3306  54922      512  "
      ]
     },
     "execution_count": 86,
     "metadata": {},
     "output_type": "execute_result"
    }
   ],
   "source": [
    "sp_df.head()"
   ]
  },
  {
   "cell_type": "code",
   "execution_count": 87,
   "metadata": {},
   "outputs": [],
   "source": [
    "sp_df['class'].unique()\n",
    "sp_temp = pd.DataFrame()\n",
    "sp_temp = sp_df['class']"
   ]
  },
  {
   "cell_type": "code",
   "execution_count": 88,
   "metadata": {},
   "outputs": [
    {
     "data": {
      "text/plain": [
       "ra        -1.227350\n",
       "dec        1.191544\n",
       "u         -1.219795\n",
       "g         -0.536293\n",
       "r         -0.021673\n",
       "i          0.286442\n",
       "z          0.214313\n",
       "run        0.412555\n",
       "camcol    -0.100220\n",
       "field      0.249795\n",
       "plate      1.794609\n",
       "mjd        1.039610\n",
       "fiberid    0.308053\n",
       "dtype: float64"
      ]
     },
     "execution_count": 88,
     "metadata": {},
     "output_type": "execute_result"
    }
   ],
   "source": [
    "#Checking the skewness\n",
    "sp_df1 = sp_df.drop(['redshift','class'], axis =1)\n",
    "sp_df1.skew()"
   ]
  },
  {
   "cell_type": "code",
   "execution_count": 89,
   "metadata": {},
   "outputs": [
    {
     "data": {
      "text/html": [
       "<div>\n",
       "<style scoped>\n",
       "    .dataframe tbody tr th:only-of-type {\n",
       "        vertical-align: middle;\n",
       "    }\n",
       "\n",
       "    .dataframe tbody tr th {\n",
       "        vertical-align: top;\n",
       "    }\n",
       "\n",
       "    .dataframe thead th {\n",
       "        text-align: right;\n",
       "    }\n",
       "</style>\n",
       "<table border=\"1\" class=\"dataframe\">\n",
       "  <thead>\n",
       "    <tr style=\"text-align: right;\">\n",
       "      <th></th>\n",
       "      <th>ra</th>\n",
       "      <th>dec</th>\n",
       "      <th>u</th>\n",
       "      <th>g</th>\n",
       "      <th>r</th>\n",
       "      <th>i</th>\n",
       "      <th>z</th>\n",
       "      <th>run</th>\n",
       "      <th>camcol</th>\n",
       "      <th>field</th>\n",
       "      <th>class</th>\n",
       "      <th>redshift</th>\n",
       "      <th>plate</th>\n",
       "      <th>mjd</th>\n",
       "      <th>fiberid</th>\n",
       "    </tr>\n",
       "  </thead>\n",
       "  <tbody>\n",
       "    <tr>\n",
       "      <th>0</th>\n",
       "      <td>183.531326</td>\n",
       "      <td>0.089693</td>\n",
       "      <td>19.47406</td>\n",
       "      <td>17.04240</td>\n",
       "      <td>15.94699</td>\n",
       "      <td>15.50342</td>\n",
       "      <td>15.22531</td>\n",
       "      <td>752</td>\n",
       "      <td>4</td>\n",
       "      <td>267</td>\n",
       "      <td>0</td>\n",
       "      <td>-0.000009</td>\n",
       "      <td>3306</td>\n",
       "      <td>54922</td>\n",
       "      <td>491</td>\n",
       "    </tr>\n",
       "    <tr>\n",
       "      <th>1</th>\n",
       "      <td>183.598371</td>\n",
       "      <td>0.135285</td>\n",
       "      <td>18.66280</td>\n",
       "      <td>17.21449</td>\n",
       "      <td>16.67637</td>\n",
       "      <td>16.48922</td>\n",
       "      <td>16.39150</td>\n",
       "      <td>752</td>\n",
       "      <td>4</td>\n",
       "      <td>267</td>\n",
       "      <td>0</td>\n",
       "      <td>-0.000055</td>\n",
       "      <td>323</td>\n",
       "      <td>51615</td>\n",
       "      <td>541</td>\n",
       "    </tr>\n",
       "    <tr>\n",
       "      <th>2</th>\n",
       "      <td>183.680207</td>\n",
       "      <td>0.126185</td>\n",
       "      <td>19.38298</td>\n",
       "      <td>18.19169</td>\n",
       "      <td>17.47428</td>\n",
       "      <td>17.08732</td>\n",
       "      <td>16.80125</td>\n",
       "      <td>752</td>\n",
       "      <td>4</td>\n",
       "      <td>268</td>\n",
       "      <td>1</td>\n",
       "      <td>0.123111</td>\n",
       "      <td>287</td>\n",
       "      <td>52023</td>\n",
       "      <td>513</td>\n",
       "    </tr>\n",
       "    <tr>\n",
       "      <th>3</th>\n",
       "      <td>183.870529</td>\n",
       "      <td>0.049911</td>\n",
       "      <td>17.76536</td>\n",
       "      <td>16.60272</td>\n",
       "      <td>16.16116</td>\n",
       "      <td>15.98233</td>\n",
       "      <td>15.90438</td>\n",
       "      <td>752</td>\n",
       "      <td>4</td>\n",
       "      <td>269</td>\n",
       "      <td>0</td>\n",
       "      <td>-0.000111</td>\n",
       "      <td>3306</td>\n",
       "      <td>54922</td>\n",
       "      <td>510</td>\n",
       "    </tr>\n",
       "    <tr>\n",
       "      <th>4</th>\n",
       "      <td>183.883288</td>\n",
       "      <td>0.102557</td>\n",
       "      <td>17.55025</td>\n",
       "      <td>16.26342</td>\n",
       "      <td>16.43869</td>\n",
       "      <td>16.55492</td>\n",
       "      <td>16.61326</td>\n",
       "      <td>752</td>\n",
       "      <td>4</td>\n",
       "      <td>269</td>\n",
       "      <td>0</td>\n",
       "      <td>0.000590</td>\n",
       "      <td>3306</td>\n",
       "      <td>54922</td>\n",
       "      <td>512</td>\n",
       "    </tr>\n",
       "  </tbody>\n",
       "</table>\n",
       "</div>"
      ],
      "text/plain": [
       "           ra       dec         u         g         r         i         z  \\\n",
       "0  183.531326  0.089693  19.47406  17.04240  15.94699  15.50342  15.22531   \n",
       "1  183.598371  0.135285  18.66280  17.21449  16.67637  16.48922  16.39150   \n",
       "2  183.680207  0.126185  19.38298  18.19169  17.47428  17.08732  16.80125   \n",
       "3  183.870529  0.049911  17.76536  16.60272  16.16116  15.98233  15.90438   \n",
       "4  183.883288  0.102557  17.55025  16.26342  16.43869  16.55492  16.61326   \n",
       "\n",
       "   run  camcol  field  class  redshift  plate    mjd  fiberid  \n",
       "0  752       4    267      0 -0.000009   3306  54922      491  \n",
       "1  752       4    267      0 -0.000055    323  51615      541  \n",
       "2  752       4    268      1  0.123111    287  52023      513  \n",
       "3  752       4    269      0 -0.000111   3306  54922      510  \n",
       "4  752       4    269      0  0.000590   3306  54922      512  "
      ]
     },
     "execution_count": 89,
     "metadata": {},
     "output_type": "execute_result"
    }
   ],
   "source": [
    "sp_df.head()"
   ]
  },
  {
   "cell_type": "code",
   "execution_count": 91,
   "metadata": {},
   "outputs": [],
   "source": [
    "#Treating skewness via square root method and cube root method.\n",
    "sp_df1.skew()\n",
    "for col in sp_df1.skew().index:\n",
    "    if col in sp_df1.describe().columns:\n",
    "        if sp_df1[col].skew()>0.55:\n",
    "            sp_df1[col]=np.sqrt(sp_df[col])\n",
    "        if sp_df1[col].skew()<=0.55:\n",
    "            sp_df1[col]=np.cbrt(sp_df[col])"
   ]
  },
  {
   "cell_type": "code",
   "execution_count": 92,
   "metadata": {},
   "outputs": [
    {
     "data": {
      "text/plain": [
       "ra        -2.773755\n",
       "dec        0.482193\n",
       "u         -1.315798\n",
       "g         -0.658992\n",
       "r         -0.189898\n",
       "i          0.061700\n",
       "z          0.043910\n",
       "run        0.295629\n",
       "camcol    -0.551075\n",
       "field     -0.856990\n",
       "plate      1.093870\n",
       "mjd        1.025184\n",
       "fiberid   -0.825261\n",
       "dtype: float64"
      ]
     },
     "execution_count": 92,
     "metadata": {},
     "output_type": "execute_result"
    }
   ],
   "source": [
    "sp_df1.skew()"
   ]
  },
  {
   "cell_type": "code",
   "execution_count": 93,
   "metadata": {},
   "outputs": [
    {
     "data": {
      "text/html": [
       "<div>\n",
       "<style scoped>\n",
       "    .dataframe tbody tr th:only-of-type {\n",
       "        vertical-align: middle;\n",
       "    }\n",
       "\n",
       "    .dataframe tbody tr th {\n",
       "        vertical-align: top;\n",
       "    }\n",
       "\n",
       "    .dataframe thead th {\n",
       "        text-align: right;\n",
       "    }\n",
       "</style>\n",
       "<table border=\"1\" class=\"dataframe\">\n",
       "  <thead>\n",
       "    <tr style=\"text-align: right;\">\n",
       "      <th></th>\n",
       "      <th>ra</th>\n",
       "      <th>dec</th>\n",
       "      <th>u</th>\n",
       "      <th>g</th>\n",
       "      <th>r</th>\n",
       "      <th>i</th>\n",
       "      <th>z</th>\n",
       "      <th>run</th>\n",
       "      <th>camcol</th>\n",
       "      <th>field</th>\n",
       "      <th>plate</th>\n",
       "      <th>mjd</th>\n",
       "      <th>fiberid</th>\n",
       "    </tr>\n",
       "  </thead>\n",
       "  <tbody>\n",
       "    <tr>\n",
       "      <th>0</th>\n",
       "      <td>5.682901</td>\n",
       "      <td>0.447630</td>\n",
       "      <td>2.690412</td>\n",
       "      <td>2.573418</td>\n",
       "      <td>2.517056</td>\n",
       "      <td>2.493499</td>\n",
       "      <td>2.478499</td>\n",
       "      <td>9.093672</td>\n",
       "      <td>1.587401</td>\n",
       "      <td>6.439277</td>\n",
       "      <td>57.497826</td>\n",
       "      <td>234.354432</td>\n",
       "      <td>7.889095</td>\n",
       "    </tr>\n",
       "    <tr>\n",
       "      <th>1</th>\n",
       "      <td>5.683593</td>\n",
       "      <td>0.513354</td>\n",
       "      <td>2.652522</td>\n",
       "      <td>2.582050</td>\n",
       "      <td>2.554860</td>\n",
       "      <td>2.545267</td>\n",
       "      <td>2.540229</td>\n",
       "      <td>9.093672</td>\n",
       "      <td>1.587401</td>\n",
       "      <td>6.439277</td>\n",
       "      <td>17.972201</td>\n",
       "      <td>227.189348</td>\n",
       "      <td>8.148276</td>\n",
       "    </tr>\n",
       "    <tr>\n",
       "      <th>2</th>\n",
       "      <td>5.684437</td>\n",
       "      <td>0.501575</td>\n",
       "      <td>2.686211</td>\n",
       "      <td>2.630012</td>\n",
       "      <td>2.594975</td>\n",
       "      <td>2.575677</td>\n",
       "      <td>2.561222</td>\n",
       "      <td>9.093672</td>\n",
       "      <td>1.587401</td>\n",
       "      <td>6.447306</td>\n",
       "      <td>16.941074</td>\n",
       "      <td>228.085510</td>\n",
       "      <td>8.005205</td>\n",
       "    </tr>\n",
       "    <tr>\n",
       "      <th>3</th>\n",
       "      <td>5.686400</td>\n",
       "      <td>0.368184</td>\n",
       "      <td>2.609304</td>\n",
       "      <td>2.551094</td>\n",
       "      <td>2.528274</td>\n",
       "      <td>2.518914</td>\n",
       "      <td>2.514812</td>\n",
       "      <td>9.093672</td>\n",
       "      <td>1.587401</td>\n",
       "      <td>6.455315</td>\n",
       "      <td>57.497826</td>\n",
       "      <td>234.354432</td>\n",
       "      <td>7.989570</td>\n",
       "    </tr>\n",
       "    <tr>\n",
       "      <th>4</th>\n",
       "      <td>5.686531</td>\n",
       "      <td>0.468081</td>\n",
       "      <td>2.598730</td>\n",
       "      <td>2.533596</td>\n",
       "      <td>2.542665</td>\n",
       "      <td>2.548643</td>\n",
       "      <td>2.551633</td>\n",
       "      <td>9.093672</td>\n",
       "      <td>1.587401</td>\n",
       "      <td>6.455315</td>\n",
       "      <td>57.497826</td>\n",
       "      <td>234.354432</td>\n",
       "      <td>8.000000</td>\n",
       "    </tr>\n",
       "  </tbody>\n",
       "</table>\n",
       "</div>"
      ],
      "text/plain": [
       "         ra       dec         u         g         r         i         z  \\\n",
       "0  5.682901  0.447630  2.690412  2.573418  2.517056  2.493499  2.478499   \n",
       "1  5.683593  0.513354  2.652522  2.582050  2.554860  2.545267  2.540229   \n",
       "2  5.684437  0.501575  2.686211  2.630012  2.594975  2.575677  2.561222   \n",
       "3  5.686400  0.368184  2.609304  2.551094  2.528274  2.518914  2.514812   \n",
       "4  5.686531  0.468081  2.598730  2.533596  2.542665  2.548643  2.551633   \n",
       "\n",
       "        run    camcol     field      plate         mjd   fiberid  \n",
       "0  9.093672  1.587401  6.439277  57.497826  234.354432  7.889095  \n",
       "1  9.093672  1.587401  6.439277  17.972201  227.189348  8.148276  \n",
       "2  9.093672  1.587401  6.447306  16.941074  228.085510  8.005205  \n",
       "3  9.093672  1.587401  6.455315  57.497826  234.354432  7.989570  \n",
       "4  9.093672  1.587401  6.455315  57.497826  234.354432  8.000000  "
      ]
     },
     "execution_count": 93,
     "metadata": {},
     "output_type": "execute_result"
    }
   ],
   "source": [
    "sp_df1.head()"
   ]
  },
  {
   "cell_type": "code",
   "execution_count": 94,
   "metadata": {},
   "outputs": [
    {
     "data": {
      "text/plain": [
       "ra          0\n",
       "dec         0\n",
       "u           0\n",
       "g           0\n",
       "r           0\n",
       "i           0\n",
       "z           0\n",
       "run         0\n",
       "camcol      0\n",
       "field       0\n",
       "class       0\n",
       "redshift    0\n",
       "plate       0\n",
       "mjd         0\n",
       "fiberid     0\n",
       "dtype: int64"
      ]
     },
     "execution_count": 94,
     "metadata": {},
     "output_type": "execute_result"
    }
   ],
   "source": [
    "sp_df.isnull().sum()"
   ]
  },
  {
   "cell_type": "code",
   "execution_count": 95,
   "metadata": {},
   "outputs": [
    {
     "name": "stdout",
     "output_type": "stream",
     "text": [
      "ra\n",
      "dec\n",
      "u\n",
      "g\n",
      "r\n",
      "i\n",
      "z\n",
      "run\n",
      "camcol\n",
      "field\n",
      "plate\n",
      "mjd\n",
      "fiberid\n"
     ]
    }
   ],
   "source": [
    "le = LabelEncoder()\n",
    "#sp_df1 = sp_df.drop(['redshift'], axis=1)\n",
    "for col in sp_df1.columns:\n",
    "    print(col)\n",
    "    if sp_df1[col].dtype ==np.number:\n",
    "        continue\n",
    "    sp_df1[col]=le.fit_transform(sp_df1[col])"
   ]
  },
  {
   "cell_type": "code",
   "execution_count": 96,
   "metadata": {},
   "outputs": [],
   "source": [
    "sp_df = pd.concat([sp_df['redshift'], sp_df1], axis=1)"
   ]
  },
  {
   "cell_type": "code",
   "execution_count": 97,
   "metadata": {},
   "outputs": [],
   "source": [
    "sp_df = pd.concat([sp_df, sp_temp], axis=1)"
   ]
  },
  {
   "cell_type": "code",
   "execution_count": 98,
   "metadata": {},
   "outputs": [
    {
     "data": {
      "text/html": [
       "<div>\n",
       "<style scoped>\n",
       "    .dataframe tbody tr th:only-of-type {\n",
       "        vertical-align: middle;\n",
       "    }\n",
       "\n",
       "    .dataframe tbody tr th {\n",
       "        vertical-align: top;\n",
       "    }\n",
       "\n",
       "    .dataframe thead th {\n",
       "        text-align: right;\n",
       "    }\n",
       "</style>\n",
       "<table border=\"1\" class=\"dataframe\">\n",
       "  <thead>\n",
       "    <tr style=\"text-align: right;\">\n",
       "      <th></th>\n",
       "      <th>redshift</th>\n",
       "      <th>ra</th>\n",
       "      <th>dec</th>\n",
       "      <th>u</th>\n",
       "      <th>g</th>\n",
       "      <th>r</th>\n",
       "      <th>i</th>\n",
       "      <th>z</th>\n",
       "      <th>run</th>\n",
       "      <th>camcol</th>\n",
       "      <th>field</th>\n",
       "      <th>plate</th>\n",
       "      <th>mjd</th>\n",
       "      <th>fiberid</th>\n",
       "      <th>class</th>\n",
       "    </tr>\n",
       "  </thead>\n",
       "  <tbody>\n",
       "    <tr>\n",
       "      <th>0</th>\n",
       "      <td>-0.000009</td>\n",
       "      <td>5.682901</td>\n",
       "      <td>0.447630</td>\n",
       "      <td>2.690412</td>\n",
       "      <td>2.573418</td>\n",
       "      <td>2.517056</td>\n",
       "      <td>2.493499</td>\n",
       "      <td>2.478499</td>\n",
       "      <td>9.093672</td>\n",
       "      <td>1.587401</td>\n",
       "      <td>6.439277</td>\n",
       "      <td>57.497826</td>\n",
       "      <td>234.354432</td>\n",
       "      <td>7.889095</td>\n",
       "      <td>0</td>\n",
       "    </tr>\n",
       "    <tr>\n",
       "      <th>1</th>\n",
       "      <td>-0.000055</td>\n",
       "      <td>5.683593</td>\n",
       "      <td>0.513354</td>\n",
       "      <td>2.652522</td>\n",
       "      <td>2.582050</td>\n",
       "      <td>2.554860</td>\n",
       "      <td>2.545267</td>\n",
       "      <td>2.540229</td>\n",
       "      <td>9.093672</td>\n",
       "      <td>1.587401</td>\n",
       "      <td>6.439277</td>\n",
       "      <td>17.972201</td>\n",
       "      <td>227.189348</td>\n",
       "      <td>8.148276</td>\n",
       "      <td>0</td>\n",
       "    </tr>\n",
       "    <tr>\n",
       "      <th>2</th>\n",
       "      <td>0.123111</td>\n",
       "      <td>5.684437</td>\n",
       "      <td>0.501575</td>\n",
       "      <td>2.686211</td>\n",
       "      <td>2.630012</td>\n",
       "      <td>2.594975</td>\n",
       "      <td>2.575677</td>\n",
       "      <td>2.561222</td>\n",
       "      <td>9.093672</td>\n",
       "      <td>1.587401</td>\n",
       "      <td>6.447306</td>\n",
       "      <td>16.941074</td>\n",
       "      <td>228.085510</td>\n",
       "      <td>8.005205</td>\n",
       "      <td>1</td>\n",
       "    </tr>\n",
       "    <tr>\n",
       "      <th>3</th>\n",
       "      <td>-0.000111</td>\n",
       "      <td>5.686400</td>\n",
       "      <td>0.368184</td>\n",
       "      <td>2.609304</td>\n",
       "      <td>2.551094</td>\n",
       "      <td>2.528274</td>\n",
       "      <td>2.518914</td>\n",
       "      <td>2.514812</td>\n",
       "      <td>9.093672</td>\n",
       "      <td>1.587401</td>\n",
       "      <td>6.455315</td>\n",
       "      <td>57.497826</td>\n",
       "      <td>234.354432</td>\n",
       "      <td>7.989570</td>\n",
       "      <td>0</td>\n",
       "    </tr>\n",
       "    <tr>\n",
       "      <th>4</th>\n",
       "      <td>0.000590</td>\n",
       "      <td>5.686531</td>\n",
       "      <td>0.468081</td>\n",
       "      <td>2.598730</td>\n",
       "      <td>2.533596</td>\n",
       "      <td>2.542665</td>\n",
       "      <td>2.548643</td>\n",
       "      <td>2.551633</td>\n",
       "      <td>9.093672</td>\n",
       "      <td>1.587401</td>\n",
       "      <td>6.455315</td>\n",
       "      <td>57.497826</td>\n",
       "      <td>234.354432</td>\n",
       "      <td>8.000000</td>\n",
       "      <td>0</td>\n",
       "    </tr>\n",
       "  </tbody>\n",
       "</table>\n",
       "</div>"
      ],
      "text/plain": [
       "   redshift        ra       dec         u         g         r         i  \\\n",
       "0 -0.000009  5.682901  0.447630  2.690412  2.573418  2.517056  2.493499   \n",
       "1 -0.000055  5.683593  0.513354  2.652522  2.582050  2.554860  2.545267   \n",
       "2  0.123111  5.684437  0.501575  2.686211  2.630012  2.594975  2.575677   \n",
       "3 -0.000111  5.686400  0.368184  2.609304  2.551094  2.528274  2.518914   \n",
       "4  0.000590  5.686531  0.468081  2.598730  2.533596  2.542665  2.548643   \n",
       "\n",
       "          z       run    camcol     field      plate         mjd   fiberid  \\\n",
       "0  2.478499  9.093672  1.587401  6.439277  57.497826  234.354432  7.889095   \n",
       "1  2.540229  9.093672  1.587401  6.439277  17.972201  227.189348  8.148276   \n",
       "2  2.561222  9.093672  1.587401  6.447306  16.941074  228.085510  8.005205   \n",
       "3  2.514812  9.093672  1.587401  6.455315  57.497826  234.354432  7.989570   \n",
       "4  2.551633  9.093672  1.587401  6.455315  57.497826  234.354432  8.000000   \n",
       "\n",
       "   class  \n",
       "0      0  \n",
       "1      0  \n",
       "2      1  \n",
       "3      0  \n",
       "4      0  "
      ]
     },
     "execution_count": 98,
     "metadata": {},
     "output_type": "execute_result"
    }
   ],
   "source": [
    "sp_df.head()"
   ]
  },
  {
   "cell_type": "code",
   "execution_count": 99,
   "metadata": {},
   "outputs": [
    {
     "data": {
      "text/plain": [
       "redshift        AxesSubplot(0.125,0.71587;0.133621x0.16413)\n",
       "ra           AxesSubplot(0.285345,0.71587;0.133621x0.16413)\n",
       "dec           AxesSubplot(0.44569,0.71587;0.133621x0.16413)\n",
       "u            AxesSubplot(0.606034,0.71587;0.133621x0.16413)\n",
       "g            AxesSubplot(0.766379,0.71587;0.133621x0.16413)\n",
       "r              AxesSubplot(0.125,0.518913;0.133621x0.16413)\n",
       "i           AxesSubplot(0.285345,0.518913;0.133621x0.16413)\n",
       "z            AxesSubplot(0.44569,0.518913;0.133621x0.16413)\n",
       "run         AxesSubplot(0.606034,0.518913;0.133621x0.16413)\n",
       "camcol      AxesSubplot(0.766379,0.518913;0.133621x0.16413)\n",
       "field          AxesSubplot(0.125,0.321957;0.133621x0.16413)\n",
       "plate       AxesSubplot(0.285345,0.321957;0.133621x0.16413)\n",
       "mjd          AxesSubplot(0.44569,0.321957;0.133621x0.16413)\n",
       "fiberid     AxesSubplot(0.606034,0.321957;0.133621x0.16413)\n",
       "class       AxesSubplot(0.766379,0.321957;0.133621x0.16413)\n",
       "dtype: object"
      ]
     },
     "execution_count": 99,
     "metadata": {},
     "output_type": "execute_result"
    },
    {
     "data": {
      "image/png": "[encoded data removed]",
      "text/plain": [
       "<Figure size 1080x720 with 20 Axes>"
      ]
     },
     "metadata": {
      "needs_background": "light"
     },
     "output_type": "display_data"
    }
   ],
   "source": [
    "sp_df.plot(kind = 'box', subplots = True, layout = (4,5), figsize= (15,10))"
   ]
  },
  {
   "cell_type": "markdown",
   "metadata": {},
   "source": [
    "From the box plots, we understood that there was outliers present in some columns like redshift, ra, u, g etc., we have to remove those outliers using zscore methode"
   ]
  },
  {
   "cell_type": "markdown",
   "metadata": {},
   "source": [
    "### Calculating ZScore"
   ]
  },
  {
   "cell_type": "code",
   "execution_count": 101,
   "metadata": {},
   "outputs": [
    {
     "data": {
      "text/plain": [
       "array([[0.36973112, 0.22992532, 0.28400377, ..., 1.31369922, 0.70742926,\n",
       "        1.07093597],\n",
       "       [0.36984929, 0.23090661, 0.24930057, ..., 0.88404966, 0.86035558,\n",
       "        1.07093597],\n",
       "       [0.05302706, 0.23210409, 0.25551981, ..., 0.60916958, 0.77593841,\n",
       "        0.52795321],\n",
       "       ...,\n",
       "       [0.37074104, 0.61678759, 1.44626538, ..., 2.66929998, 1.08923101,\n",
       "        1.07093597],\n",
       "       [0.33364691, 0.61816612, 1.44735697, ..., 0.70740926, 0.33755873,\n",
       "        0.52795321],\n",
       "       [0.06510125, 0.61473298, 1.44801882, ..., 0.70740926, 0.31666186,\n",
       "        0.52795321]])"
      ]
     },
     "execution_count": 101,
     "metadata": {},
     "output_type": "execute_result"
    }
   ],
   "source": [
    "z = np.abs(stats.zscore(sp_df))\n",
    "z"
   ]
  },
  {
   "cell_type": "code",
   "execution_count": 102,
   "metadata": {},
   "outputs": [
    {
     "name": "stdout",
     "output_type": "stream",
     "text": [
      "(array([  45,  109,  129, ..., 9929, 9940, 9956], dtype=int64), array([0, 0, 0, ..., 3, 0, 0], dtype=int64))\n"
     ]
    }
   ],
   "source": [
    "threshold = 3\n",
    "print(np.where(z > 3))"
   ]
  },
  {
   "cell_type": "markdown",
   "metadata": {},
   "source": [
    "### Removing outliers"
   ]
  },
  {
   "cell_type": "code",
   "execution_count": 103,
   "metadata": {},
   "outputs": [],
   "source": [
    "sp_df_z = sp_df[z>3]\n",
    "sp_df_z = sp_df_z[~sp_df_z.index.duplicated(keep='first')]\n",
    "sp_df_new = pd.concat([sp_df, sp_df_z, sp_df_z]).drop_duplicates(keep=False)"
   ]
  },
  {
   "cell_type": "code",
   "execution_count": 104,
   "metadata": {},
   "outputs": [
    {
     "name": "stdout",
     "output_type": "stream",
     "text": [
      "(10000, 15)\n",
      "(9000, 15)\n"
     ]
    }
   ],
   "source": [
    "print(sp_df.shape)\n",
    "print(sp_df_new.shape)"
   ]
  },
  {
   "cell_type": "markdown",
   "metadata": {},
   "source": [
    "Observed difference between old dataframe and newdataframe, there are 1000 outliers removed from old dataframe and created new dataframe"
   ]
  },
  {
   "cell_type": "code",
   "execution_count": 106,
   "metadata": {},
   "outputs": [],
   "source": [
    "sp_df = sp_df_new"
   ]
  },
  {
   "cell_type": "code",
   "execution_count": 107,
   "metadata": {},
   "outputs": [
    {
     "data": {
      "text/html": [
       "<div>\n",
       "<style scoped>\n",
       "    .dataframe tbody tr th:only-of-type {\n",
       "        vertical-align: middle;\n",
       "    }\n",
       "\n",
       "    .dataframe tbody tr th {\n",
       "        vertical-align: top;\n",
       "    }\n",
       "\n",
       "    .dataframe thead th {\n",
       "        text-align: right;\n",
       "    }\n",
       "</style>\n",
       "<table border=\"1\" class=\"dataframe\">\n",
       "  <thead>\n",
       "    <tr style=\"text-align: right;\">\n",
       "      <th></th>\n",
       "      <th>redshift</th>\n",
       "      <th>ra</th>\n",
       "      <th>dec</th>\n",
       "      <th>u</th>\n",
       "      <th>g</th>\n",
       "      <th>r</th>\n",
       "      <th>i</th>\n",
       "      <th>z</th>\n",
       "      <th>run</th>\n",
       "      <th>camcol</th>\n",
       "      <th>field</th>\n",
       "      <th>plate</th>\n",
       "      <th>mjd</th>\n",
       "      <th>fiberid</th>\n",
       "      <th>class</th>\n",
       "    </tr>\n",
       "  </thead>\n",
       "  <tbody>\n",
       "    <tr>\n",
       "      <th>0</th>\n",
       "      <td>-0.000009</td>\n",
       "      <td>5.682901</td>\n",
       "      <td>0.447630</td>\n",
       "      <td>2.690412</td>\n",
       "      <td>2.573418</td>\n",
       "      <td>2.517056</td>\n",
       "      <td>2.493499</td>\n",
       "      <td>2.478499</td>\n",
       "      <td>9.093672</td>\n",
       "      <td>1.587401</td>\n",
       "      <td>6.439277</td>\n",
       "      <td>57.497826</td>\n",
       "      <td>234.354432</td>\n",
       "      <td>7.889095</td>\n",
       "      <td>0</td>\n",
       "    </tr>\n",
       "    <tr>\n",
       "      <th>1</th>\n",
       "      <td>-0.000055</td>\n",
       "      <td>5.683593</td>\n",
       "      <td>0.513354</td>\n",
       "      <td>2.652522</td>\n",
       "      <td>2.582050</td>\n",
       "      <td>2.554860</td>\n",
       "      <td>2.545267</td>\n",
       "      <td>2.540229</td>\n",
       "      <td>9.093672</td>\n",
       "      <td>1.587401</td>\n",
       "      <td>6.439277</td>\n",
       "      <td>17.972201</td>\n",
       "      <td>227.189348</td>\n",
       "      <td>8.148276</td>\n",
       "      <td>0</td>\n",
       "    </tr>\n",
       "    <tr>\n",
       "      <th>2</th>\n",
       "      <td>0.123111</td>\n",
       "      <td>5.684437</td>\n",
       "      <td>0.501575</td>\n",
       "      <td>2.686211</td>\n",
       "      <td>2.630012</td>\n",
       "      <td>2.594975</td>\n",
       "      <td>2.575677</td>\n",
       "      <td>2.561222</td>\n",
       "      <td>9.093672</td>\n",
       "      <td>1.587401</td>\n",
       "      <td>6.447306</td>\n",
       "      <td>16.941074</td>\n",
       "      <td>228.085510</td>\n",
       "      <td>8.005205</td>\n",
       "      <td>1</td>\n",
       "    </tr>\n",
       "    <tr>\n",
       "      <th>3</th>\n",
       "      <td>-0.000111</td>\n",
       "      <td>5.686400</td>\n",
       "      <td>0.368184</td>\n",
       "      <td>2.609304</td>\n",
       "      <td>2.551094</td>\n",
       "      <td>2.528274</td>\n",
       "      <td>2.518914</td>\n",
       "      <td>2.514812</td>\n",
       "      <td>9.093672</td>\n",
       "      <td>1.587401</td>\n",
       "      <td>6.455315</td>\n",
       "      <td>57.497826</td>\n",
       "      <td>234.354432</td>\n",
       "      <td>7.989570</td>\n",
       "      <td>0</td>\n",
       "    </tr>\n",
       "    <tr>\n",
       "      <th>4</th>\n",
       "      <td>0.000590</td>\n",
       "      <td>5.686531</td>\n",
       "      <td>0.468081</td>\n",
       "      <td>2.598730</td>\n",
       "      <td>2.533596</td>\n",
       "      <td>2.542665</td>\n",
       "      <td>2.548643</td>\n",
       "      <td>2.551633</td>\n",
       "      <td>9.093672</td>\n",
       "      <td>1.587401</td>\n",
       "      <td>6.455315</td>\n",
       "      <td>57.497826</td>\n",
       "      <td>234.354432</td>\n",
       "      <td>8.000000</td>\n",
       "      <td>0</td>\n",
       "    </tr>\n",
       "  </tbody>\n",
       "</table>\n",
       "</div>"
      ],
      "text/plain": [
       "   redshift        ra       dec         u         g         r         i  \\\n",
       "0 -0.000009  5.682901  0.447630  2.690412  2.573418  2.517056  2.493499   \n",
       "1 -0.000055  5.683593  0.513354  2.652522  2.582050  2.554860  2.545267   \n",
       "2  0.123111  5.684437  0.501575  2.686211  2.630012  2.594975  2.575677   \n",
       "3 -0.000111  5.686400  0.368184  2.609304  2.551094  2.528274  2.518914   \n",
       "4  0.000590  5.686531  0.468081  2.598730  2.533596  2.542665  2.548643   \n",
       "\n",
       "          z       run    camcol     field      plate         mjd   fiberid  \\\n",
       "0  2.478499  9.093672  1.587401  6.439277  57.497826  234.354432  7.889095   \n",
       "1  2.540229  9.093672  1.587401  6.439277  17.972201  227.189348  8.148276   \n",
       "2  2.561222  9.093672  1.587401  6.447306  16.941074  228.085510  8.005205   \n",
       "3  2.514812  9.093672  1.587401  6.455315  57.497826  234.354432  7.989570   \n",
       "4  2.551633  9.093672  1.587401  6.455315  57.497826  234.354432  8.000000   \n",
       "\n",
       "   class  \n",
       "0      0  \n",
       "1      0  \n",
       "2      1  \n",
       "3      0  \n",
       "4      0  "
      ]
     },
     "execution_count": 107,
     "metadata": {},
     "output_type": "execute_result"
    }
   ],
   "source": [
    "sp_df.head()"
   ]
  },
  {
   "cell_type": "markdown",
   "metadata": {},
   "source": [
    "### Data Splitting into input and output"
   ]
  },
  {
   "cell_type": "code",
   "execution_count": 112,
   "metadata": {},
   "outputs": [
    {
     "data": {
      "text/html": [
       "<div>\n",
       "<style scoped>\n",
       "    .dataframe tbody tr th:only-of-type {\n",
       "        vertical-align: middle;\n",
       "    }\n",
       "\n",
       "    .dataframe tbody tr th {\n",
       "        vertical-align: top;\n",
       "    }\n",
       "\n",
       "    .dataframe thead th {\n",
       "        text-align: right;\n",
       "    }\n",
       "</style>\n",
       "<table border=\"1\" class=\"dataframe\">\n",
       "  <thead>\n",
       "    <tr style=\"text-align: right;\">\n",
       "      <th></th>\n",
       "      <th>redshift</th>\n",
       "      <th>ra</th>\n",
       "      <th>dec</th>\n",
       "      <th>u</th>\n",
       "      <th>g</th>\n",
       "      <th>r</th>\n",
       "      <th>i</th>\n",
       "      <th>z</th>\n",
       "      <th>run</th>\n",
       "      <th>camcol</th>\n",
       "      <th>field</th>\n",
       "      <th>plate</th>\n",
       "      <th>mjd</th>\n",
       "      <th>fiberid</th>\n",
       "    </tr>\n",
       "  </thead>\n",
       "  <tbody>\n",
       "    <tr>\n",
       "      <th>0</th>\n",
       "      <td>-0.000009</td>\n",
       "      <td>5.682901</td>\n",
       "      <td>0.447630</td>\n",
       "      <td>2.690412</td>\n",
       "      <td>2.573418</td>\n",
       "      <td>2.517056</td>\n",
       "      <td>2.493499</td>\n",
       "      <td>2.478499</td>\n",
       "      <td>9.093672</td>\n",
       "      <td>1.587401</td>\n",
       "      <td>6.439277</td>\n",
       "      <td>57.497826</td>\n",
       "      <td>234.354432</td>\n",
       "      <td>7.889095</td>\n",
       "    </tr>\n",
       "    <tr>\n",
       "      <th>1</th>\n",
       "      <td>-0.000055</td>\n",
       "      <td>5.683593</td>\n",
       "      <td>0.513354</td>\n",
       "      <td>2.652522</td>\n",
       "      <td>2.582050</td>\n",
       "      <td>2.554860</td>\n",
       "      <td>2.545267</td>\n",
       "      <td>2.540229</td>\n",
       "      <td>9.093672</td>\n",
       "      <td>1.587401</td>\n",
       "      <td>6.439277</td>\n",
       "      <td>17.972201</td>\n",
       "      <td>227.189348</td>\n",
       "      <td>8.148276</td>\n",
       "    </tr>\n",
       "    <tr>\n",
       "      <th>2</th>\n",
       "      <td>0.123111</td>\n",
       "      <td>5.684437</td>\n",
       "      <td>0.501575</td>\n",
       "      <td>2.686211</td>\n",
       "      <td>2.630012</td>\n",
       "      <td>2.594975</td>\n",
       "      <td>2.575677</td>\n",
       "      <td>2.561222</td>\n",
       "      <td>9.093672</td>\n",
       "      <td>1.587401</td>\n",
       "      <td>6.447306</td>\n",
       "      <td>16.941074</td>\n",
       "      <td>228.085510</td>\n",
       "      <td>8.005205</td>\n",
       "    </tr>\n",
       "    <tr>\n",
       "      <th>3</th>\n",
       "      <td>-0.000111</td>\n",
       "      <td>5.686400</td>\n",
       "      <td>0.368184</td>\n",
       "      <td>2.609304</td>\n",
       "      <td>2.551094</td>\n",
       "      <td>2.528274</td>\n",
       "      <td>2.518914</td>\n",
       "      <td>2.514812</td>\n",
       "      <td>9.093672</td>\n",
       "      <td>1.587401</td>\n",
       "      <td>6.455315</td>\n",
       "      <td>57.497826</td>\n",
       "      <td>234.354432</td>\n",
       "      <td>7.989570</td>\n",
       "    </tr>\n",
       "    <tr>\n",
       "      <th>4</th>\n",
       "      <td>0.000590</td>\n",
       "      <td>5.686531</td>\n",
       "      <td>0.468081</td>\n",
       "      <td>2.598730</td>\n",
       "      <td>2.533596</td>\n",
       "      <td>2.542665</td>\n",
       "      <td>2.548643</td>\n",
       "      <td>2.551633</td>\n",
       "      <td>9.093672</td>\n",
       "      <td>1.587401</td>\n",
       "      <td>6.455315</td>\n",
       "      <td>57.497826</td>\n",
       "      <td>234.354432</td>\n",
       "      <td>8.000000</td>\n",
       "    </tr>\n",
       "    <tr>\n",
       "      <th>...</th>\n",
       "      <td>...</td>\n",
       "      <td>...</td>\n",
       "      <td>...</td>\n",
       "      <td>...</td>\n",
       "      <td>...</td>\n",
       "      <td>...</td>\n",
       "      <td>...</td>\n",
       "      <td>...</td>\n",
       "      <td>...</td>\n",
       "      <td>...</td>\n",
       "      <td>...</td>\n",
       "      <td>...</td>\n",
       "      <td>...</td>\n",
       "      <td>...</td>\n",
       "    </tr>\n",
       "    <tr>\n",
       "      <th>9995</th>\n",
       "      <td>0.027583</td>\n",
       "      <td>5.082839</td>\n",
       "      <td>3.721462</td>\n",
       "      <td>2.659843</td>\n",
       "      <td>2.594789</td>\n",
       "      <td>2.566993</td>\n",
       "      <td>2.555201</td>\n",
       "      <td>2.546115</td>\n",
       "      <td>11.038433</td>\n",
       "      <td>1.442250</td>\n",
       "      <td>5.440122</td>\n",
       "      <td>21.142375</td>\n",
       "      <td>227.765230</td>\n",
       "      <td>6.265827</td>\n",
       "    </tr>\n",
       "    <tr>\n",
       "      <th>9996</th>\n",
       "      <td>0.117772</td>\n",
       "      <td>5.082706</td>\n",
       "      <td>3.724631</td>\n",
       "      <td>2.633903</td>\n",
       "      <td>2.593202</td>\n",
       "      <td>2.575154</td>\n",
       "      <td>2.556914</td>\n",
       "      <td>2.556014</td>\n",
       "      <td>11.038433</td>\n",
       "      <td>1.442250</td>\n",
       "      <td>5.451362</td>\n",
       "      <td>21.142375</td>\n",
       "      <td>227.765230</td>\n",
       "      <td>6.109115</td>\n",
       "    </tr>\n",
       "    <tr>\n",
       "      <th>9997</th>\n",
       "      <td>-0.000402</td>\n",
       "      <td>5.085884</td>\n",
       "      <td>3.724526</td>\n",
       "      <td>2.657033</td>\n",
       "      <td>2.609915</td>\n",
       "      <td>2.597172</td>\n",
       "      <td>2.592930</td>\n",
       "      <td>2.592309</td>\n",
       "      <td>11.038433</td>\n",
       "      <td>1.442250</td>\n",
       "      <td>5.451362</td>\n",
       "      <td>85.457592</td>\n",
       "      <td>238.773952</td>\n",
       "      <td>8.536178</td>\n",
       "    </tr>\n",
       "    <tr>\n",
       "      <th>9998</th>\n",
       "      <td>0.014019</td>\n",
       "      <td>5.084912</td>\n",
       "      <td>3.726594</td>\n",
       "      <td>2.662907</td>\n",
       "      <td>2.616399</td>\n",
       "      <td>2.597805</td>\n",
       "      <td>2.589446</td>\n",
       "      <td>2.578315</td>\n",
       "      <td>11.038433</td>\n",
       "      <td>1.442250</td>\n",
       "      <td>5.462556</td>\n",
       "      <td>21.142375</td>\n",
       "      <td>227.765230</td>\n",
       "      <td>6.118033</td>\n",
       "    </tr>\n",
       "    <tr>\n",
       "      <th>9999</th>\n",
       "      <td>0.118417</td>\n",
       "      <td>5.087333</td>\n",
       "      <td>3.727847</td>\n",
       "      <td>2.681254</td>\n",
       "      <td>2.590214</td>\n",
       "      <td>2.535775</td>\n",
       "      <td>2.511176</td>\n",
       "      <td>2.493631</td>\n",
       "      <td>11.038433</td>\n",
       "      <td>1.442250</td>\n",
       "      <td>5.462556</td>\n",
       "      <td>21.142375</td>\n",
       "      <td>227.765230</td>\n",
       "      <td>6.153449</td>\n",
       "    </tr>\n",
       "  </tbody>\n",
       "</table>\n",
       "<p>9000 rows × 14 columns</p>\n",
       "</div>"
      ],
      "text/plain": [
       "      redshift        ra       dec         u         g         r         i  \\\n",
       "0    -0.000009  5.682901  0.447630  2.690412  2.573418  2.517056  2.493499   \n",
       "1    -0.000055  5.683593  0.513354  2.652522  2.582050  2.554860  2.545267   \n",
       "2     0.123111  5.684437  0.501575  2.686211  2.630012  2.594975  2.575677   \n",
       "3    -0.000111  5.686400  0.368184  2.609304  2.551094  2.528274  2.518914   \n",
       "4     0.000590  5.686531  0.468081  2.598730  2.533596  2.542665  2.548643   \n",
       "...        ...       ...       ...       ...       ...       ...       ...   \n",
       "9995  0.027583  5.082839  3.721462  2.659843  2.594789  2.566993  2.555201   \n",
       "9996  0.117772  5.082706  3.724631  2.633903  2.593202  2.575154  2.556914   \n",
       "9997 -0.000402  5.085884  3.724526  2.657033  2.609915  2.597172  2.592930   \n",
       "9998  0.014019  5.084912  3.726594  2.662907  2.616399  2.597805  2.589446   \n",
       "9999  0.118417  5.087333  3.727847  2.681254  2.590214  2.535775  2.511176   \n",
       "\n",
       "             z        run    camcol     field      plate         mjd   fiberid  \n",
       "0     2.478499   9.093672  1.587401  6.439277  57.497826  234.354432  7.889095  \n",
       "1     2.540229   9.093672  1.587401  6.439277  17.972201  227.189348  8.148276  \n",
       "2     2.561222   9.093672  1.587401  6.447306  16.941074  228.085510  8.005205  \n",
       "3     2.514812   9.093672  1.587401  6.455315  57.497826  234.354432  7.989570  \n",
       "4     2.551633   9.093672  1.587401  6.455315  57.497826  234.354432  8.000000  \n",
       "...        ...        ...       ...       ...        ...         ...       ...  \n",
       "9995  2.546115  11.038433  1.442250  5.440122  21.142375  227.765230  6.265827  \n",
       "9996  2.556014  11.038433  1.442250  5.451362  21.142375  227.765230  6.109115  \n",
       "9997  2.592309  11.038433  1.442250  5.451362  85.457592  238.773952  8.536178  \n",
       "9998  2.578315  11.038433  1.442250  5.462556  21.142375  227.765230  6.118033  \n",
       "9999  2.493631  11.038433  1.442250  5.462556  21.142375  227.765230  6.153449  \n",
       "\n",
       "[9000 rows x 14 columns]"
      ]
     },
     "execution_count": 112,
     "metadata": {},
     "output_type": "execute_result"
    }
   ],
   "source": [
    "#spliting data into input and output\n",
    "x = sp_df.drop(columns=['class'], axis = 1)\n",
    "x"
   ]
  },
  {
   "cell_type": "code",
   "execution_count": 113,
   "metadata": {},
   "outputs": [
    {
     "data": {
      "text/plain": [
       "array([0, 1, 2], dtype=int64)"
      ]
     },
     "execution_count": 113,
     "metadata": {},
     "output_type": "execute_result"
    }
   ],
   "source": [
    "y = sp_df['class']\n",
    "y.unique()"
   ]
  },
  {
   "cell_type": "markdown",
   "metadata": {},
   "source": [
    "### Standard scaling"
   ]
  },
  {
   "cell_type": "code",
   "execution_count": 114,
   "metadata": {},
   "outputs": [],
   "source": [
    "#scaling in in input variables\n",
    "ss = StandardScaler()\n",
    "x = ss.fit_transform(x)"
   ]
  },
  {
   "cell_type": "markdown",
   "metadata": {},
   "source": [
    "### Creating test and train data splits"
   ]
  },
  {
   "cell_type": "code",
   "execution_count": 115,
   "metadata": {},
   "outputs": [],
   "source": [
    "#spliting the data into training and test data split\n",
    "train_x, test_x, train_y, test_y = train_test_split(x,y,random_state = 42,test_size = 0.33, stratify=y)"
   ]
  },
  {
   "cell_type": "code",
   "execution_count": 116,
   "metadata": {},
   "outputs": [
    {
     "name": "stdout",
     "output_type": "stream",
     "text": [
      "(6030, 14) \t\t (2970, 14)\n"
     ]
    }
   ],
   "source": [
    "#checking shape\n",
    "print(train_x.shape, '\\t\\t', test_x.shape)"
   ]
  },
  {
   "cell_type": "code",
   "execution_count": 117,
   "metadata": {},
   "outputs": [
    {
     "name": "stdout",
     "output_type": "stream",
     "text": [
      "(6030,) \t\t (2970,)\n"
     ]
    }
   ],
   "source": [
    "print(train_y.shape, '\\t\\t', test_y.shape)"
   ]
  },
  {
   "cell_type": "code",
   "execution_count": 118,
   "metadata": {},
   "outputs": [
    {
     "data": {
      "text/plain": [
       "<matplotlib.axes._subplots.AxesSubplot at 0x15523fa0400>"
      ]
     },
     "execution_count": 118,
     "metadata": {},
     "output_type": "execute_result"
    },
    {
     "data": {
      "image/png": "[encoded data removed]",
      "text/plain": [
       "<Figure size 432x288 with 1 Axes>"
      ]
     },
     "metadata": {
      "needs_background": "light"
     },
     "output_type": "display_data"
    }
   ],
   "source": [
    "sns.countplot(x=sp_df['class'])"
   ]
  },
  {
   "cell_type": "code",
   "execution_count": 119,
   "metadata": {},
   "outputs": [
    {
     "data": {
      "text/plain": [
       "<seaborn.axisgrid.PairGrid at 0x1552461aa60>"
      ]
     },
     "execution_count": 119,
     "metadata": {},
     "output_type": "execute_result"
    },
    {
     "data": {
      "image/png": "[encoded data removed]",
      "text/plain": [
       "<Figure size 900x900 with 30 Axes>"
      ]
     },
     "metadata": {
      "needs_background": "light"
     },
     "output_type": "display_data"
    }
   ],
   "source": [
    "sns.pairplot(sp_df[['u','g','r','i','class']])"
   ]
  },
  {
   "cell_type": "markdown",
   "metadata": {},
   "source": [
    "## Model Prediction"
   ]
  },
  {
   "cell_type": "code",
   "execution_count": 122,
   "metadata": {},
   "outputs": [],
   "source": [
    "# Decision Tree Classifier\n",
    "dtClassifer = DecisionTreeClassifier(max_leaf_nodes=15,max_depth=3)\n",
    "\n",
    "#Linear Classifiers:\n",
    "# 1- Logistic Regression\n",
    "LRClassifer = LogisticRegression()\n",
    "# # 2-Naive Bayes Classifier\n",
    "# NBClassifer = MultinomialNB()\n",
    "\n",
    "#Nearest Neighbor Classifier\n",
    "NeNeClassifier = KNeighborsClassifier(n_neighbors=3)\n",
    "\n",
    "#Support Vector Machines Classifer\n",
    "SVCModel = SVC()\n",
    "\n",
    "rndmclf = RandomForestClassifier()"
   ]
  },
  {
   "cell_type": "code",
   "execution_count": 123,
   "metadata": {},
   "outputs": [
    {
     "data": {
      "text/plain": [
       "RandomForestClassifier()"
      ]
     },
     "execution_count": 123,
     "metadata": {},
     "output_type": "execute_result"
    }
   ],
   "source": [
    "dtClassifer.fit(train_x, train_y)\n",
    "LRClassifer.fit(train_x, train_y)\n",
    "\n",
    "NeNeClassifier.fit(train_x, train_y)\n",
    "SVCModel.fit(train_x, train_y)\n",
    "rndmclf.fit(train_x,train_y)"
   ]
  },
  {
   "cell_type": "code",
   "execution_count": 124,
   "metadata": {},
   "outputs": [],
   "source": [
    "y_preds = dtClassifer.predict(test_x)\n",
    "y_predsLR = LRClassifer.predict(test_x)\n",
    "\n",
    "y_predsNeNe = NeNeClassifier.predict(test_x)\n",
    "y_predsSVC = SVCModel.predict(test_x)\n",
    "y_predsrndmclf = rndmclf.predict(test_x)"
   ]
  },
  {
   "cell_type": "code",
   "execution_count": 125,
   "metadata": {},
   "outputs": [
    {
     "name": "stdout",
     "output_type": "stream",
     "text": [
      "[1 1 1 1 0 1 0 1 1 0] \n",
      " 5647    1\n",
      "9880    1\n",
      "2290    1\n",
      "4126    1\n",
      "5790    0\n",
      "7247    1\n",
      "7211    0\n",
      "9037    1\n",
      "2740    1\n",
      "8135    0\n",
      "Name: class, dtype: int64\n",
      "*******************************************************\n",
      "[1 1 1 1 0 1 0 1 1 0] \n",
      " 5647    1\n",
      "9880    1\n",
      "2290    1\n",
      "4126    1\n",
      "5790    0\n",
      "7247    1\n",
      "7211    0\n",
      "9037    1\n",
      "2740    1\n",
      "8135    0\n",
      "Name: class, dtype: int64\n",
      "*******************************************************\n",
      "[1 1 0 1 1 0 0 1 1 0] \n",
      " 5647    1\n",
      "9880    1\n",
      "2290    1\n",
      "4126    1\n",
      "5790    0\n",
      "7247    1\n",
      "7211    0\n",
      "9037    1\n",
      "2740    1\n",
      "8135    0\n",
      "Name: class, dtype: int64\n",
      "*******************************************************\n",
      "[1 1 1 1 0 1 0 1 1 0] \n",
      " 5647    1\n",
      "9880    1\n",
      "2290    1\n",
      "4126    1\n",
      "5790    0\n",
      "7247    1\n",
      "7211    0\n",
      "9037    1\n",
      "2740    1\n",
      "8135    0\n",
      "Name: class, dtype: int64\n",
      "*******************************************************\n",
      "[1 1 1 1 0 1 0 1 1 0] \n",
      " 5647    1\n",
      "9880    1\n",
      "2290    1\n",
      "4126    1\n",
      "5790    0\n",
      "7247    1\n",
      "7211    0\n",
      "9037    1\n",
      "2740    1\n",
      "8135    0\n",
      "Name: class, dtype: int64\n"
     ]
    }
   ],
   "source": [
    "print(y_preds[:10],'\\n',test_y[:10])\n",
    "print(\"*******************************************************\")\n",
    "print(y_predsLR[:10],'\\n',test_y[:10])\n",
    "print(\"*******************************************************\")\n",
    "\n",
    "print(y_predsNeNe[:10],'\\n',test_y[:10])\n",
    "print(\"*******************************************************\")\n",
    "print(y_predsSVC[:10],'\\n',test_y[:10])\n",
    "print(\"*******************************************************\")\n",
    "print(y_predsrndmclf[:10],'\\n',test_y[:10])"
   ]
  },
  {
   "cell_type": "code",
   "execution_count": 126,
   "metadata": {},
   "outputs": [
    {
     "name": "stdout",
     "output_type": "stream",
     "text": [
      "accuracy_score by Decision Tree Classifier: 98.58585858585859\n",
      "accuracy_score by LR Classifier: 98.08080808080808\n",
      "accuracy_score by Nearest Neighbor Classifier: 91.44781144781145\n",
      "accuracy_score by SVM Classifier: 97.07070707070707\n",
      "accuracy_score by random forest Classifier: 98.75420875420875\n"
     ]
    }
   ],
   "source": [
    "print('accuracy_score by Decision Tree Classifier:',accuracy_score(y_true=test_y, y_pred=y_preds)*100)\n",
    "print('accuracy_score by LR Classifier:',accuracy_score(y_true=test_y, y_pred=y_predsLR)*100)\n",
    "print('accuracy_score by Nearest Neighbor Classifier:',accuracy_score(y_true=test_y, y_pred=y_predsNeNe)*100)\n",
    "print('accuracy_score by SVM Classifier:',accuracy_score(y_true=test_y, y_pred=y_predsSVC)*100)\n",
    "print('accuracy_score by random forest Classifier:',accuracy_score(y_true=test_y, y_pred=y_predsrndmclf)*100)"
   ]
  },
  {
   "cell_type": "markdown",
   "metadata": {},
   "source": [
    "Random Forest Classifier has the highest score we can apply neural networks to this data, but it is likely that we will get good results because the volume of training data is not much."
   ]
  },
  {
   "cell_type": "markdown",
   "metadata": {},
   "source": [
    "### Training Complexity"
   ]
  },
  {
   "cell_type": "code",
   "execution_count": 132,
   "metadata": {},
   "outputs": [],
   "source": [
    "from sklearn.preprocessing import MinMaxScaler\n",
    "scaling = MinMaxScaler(feature_range=(-1,1)).fit(train_x)\n",
    "train_x_scaled = scaling.transform(train_x)\n",
    "test_x_scaled = scaling.transform(test_x)"
   ]
  },
  {
   "cell_type": "markdown",
   "metadata": {},
   "source": [
    "### Hyperparameter Optimisation"
   ]
  },
  {
   "cell_type": "code",
   "execution_count": 133,
   "metadata": {},
   "outputs": [
    {
     "name": "stdout",
     "output_type": "stream",
     "text": [
      "{'bootstrap': True,\n",
      " 'ccp_alpha': 0.0,\n",
      " 'class_weight': None,\n",
      " 'criterion': 'gini',\n",
      " 'max_depth': None,\n",
      " 'max_features': 'auto',\n",
      " 'max_leaf_nodes': None,\n",
      " 'max_samples': None,\n",
      " 'min_impurity_decrease': 0.0,\n",
      " 'min_impurity_split': None,\n",
      " 'min_samples_leaf': 1,\n",
      " 'min_samples_split': 2,\n",
      " 'min_weight_fraction_leaf': 0.0,\n",
      " 'n_estimators': 100,\n",
      " 'n_jobs': None,\n",
      " 'oob_score': False,\n",
      " 'random_state': None,\n",
      " 'verbose': 0,\n",
      " 'warm_start': False}\n"
     ]
    }
   ],
   "source": [
    "from pprint import pprint\n",
    "pprint(rndmclf.get_params())"
   ]
  },
  {
   "cell_type": "markdown",
   "metadata": {},
   "source": [
    "## Tuning Using Random Search"
   ]
  },
  {
   "cell_type": "code",
   "execution_count": 134,
   "metadata": {},
   "outputs": [
    {
     "name": "stdout",
     "output_type": "stream",
     "text": [
      "Fitting 10 folds for each of 100 candidates, totalling 1000 fits\n"
     ]
    },
    {
     "name": "stderr",
     "output_type": "stream",
     "text": [
      "[Parallel(n_jobs=-1)]: Using backend LokyBackend with 4 concurrent workers.\n",
      "[Parallel(n_jobs=-1)]: Done  33 tasks      | elapsed:   25.9s\n",
      "[Parallel(n_jobs=-1)]: Done 154 tasks      | elapsed:  1.6min\n",
      "[Parallel(n_jobs=-1)]: Done 357 tasks      | elapsed:  3.1min\n",
      "[Parallel(n_jobs=-1)]: Done 640 tasks      | elapsed:  5.5min\n",
      "[Parallel(n_jobs=-1)]: Done 1000 out of 1000 | elapsed:  9.0min finished\n"
     ]
    },
    {
     "data": {
      "text/plain": [
       "RandomizedSearchCV(cv=10, estimator=RandomForestClassifier(), n_iter=100,\n",
       "                   n_jobs=-1,\n",
       "                   param_distributions={'criterion': ['gini', 'entropy'],\n",
       "                                        'max_depth': [None, 1, 5, 10, 15, 20],\n",
       "                                        'max_features': [None, 'auto', 'sqrt',\n",
       "                                                         'log2'],\n",
       "                                        'min_samples_leaf': [1, 2, 4],\n",
       "                                        'min_samples_split': [2, 5, 10],\n",
       "                                        'n_estimators': [10, 20, 30, 40, 50, 60,\n",
       "                                                         70, 80, 90, 100]},\n",
       "                   random_state=123, verbose=2)"
      ]
     },
     "execution_count": 134,
     "metadata": {},
     "output_type": "execute_result"
    }
   ],
   "source": [
    "hyperparameters = {'max_features':[None, 'auto', 'sqrt', 'log2'],\n",
    "                   'max_depth':[None, 1, 5, 10, 15, 20],\n",
    "                   'min_samples_leaf': [1, 2, 4],\n",
    "                   'min_samples_split': [2, 5, 10],\n",
    "                   'n_estimators': [int(x) for x in np.linspace(start = 10, stop = 100, num = 10)],\n",
    "                   'criterion': ['gini', 'entropy']}\n",
    "rf_random = RandomizedSearchCV(rndmclf, hyperparameters, n_iter = 100, cv = 10, verbose=2, random_state=123, n_jobs = -1)\n",
    "rf_random.fit(train_x, train_y)"
   ]
  },
  {
   "cell_type": "code",
   "execution_count": 136,
   "metadata": {},
   "outputs": [
    {
     "data": {
      "text/plain": [
       "{'n_estimators': 10,\n",
       " 'min_samples_split': 10,\n",
       " 'min_samples_leaf': 2,\n",
       " 'max_features': None,\n",
       " 'max_depth': None,\n",
       " 'criterion': 'entropy'}"
      ]
     },
     "execution_count": 136,
     "metadata": {},
     "output_type": "execute_result"
    }
   ],
   "source": [
    "rf_random.best_params_"
   ]
  },
  {
   "cell_type": "code",
   "execution_count": 137,
   "metadata": {},
   "outputs": [
    {
     "name": "stdout",
     "output_type": "stream",
     "text": [
      "Fitting 10 folds for each of 81 candidates, totalling 810 fits\n"
     ]
    },
    {
     "name": "stderr",
     "output_type": "stream",
     "text": [
      "[Parallel(n_jobs=-1)]: Using backend LokyBackend with 4 concurrent workers.\n",
      "[Parallel(n_jobs=-1)]: Done  33 tasks      | elapsed:  1.4min\n",
      "[Parallel(n_jobs=-1)]: Done 154 tasks      | elapsed:  6.6min\n",
      "[Parallel(n_jobs=-1)]: Done 357 tasks      | elapsed: 14.9min\n",
      "[Parallel(n_jobs=-1)]: Done 640 tasks      | elapsed: 25.4min\n",
      "[Parallel(n_jobs=-1)]: Done 810 out of 810 | elapsed: 31.6min finished\n"
     ]
    },
    {
     "data": {
      "text/plain": [
       "GridSearchCV(cv=10, estimator=RandomForestClassifier(), n_jobs=-1,\n",
       "             param_grid={'criterion': ['entropy'], 'max_depth': [14, 15, 16],\n",
       "                         'max_features': [None], 'min_samples_leaf': [1, 2, 3],\n",
       "                         'min_samples_split': [4, 5, 6],\n",
       "                         'n_estimators': [90, 100, 110]},\n",
       "             verbose=2)"
      ]
     },
     "execution_count": 137,
     "metadata": {},
     "output_type": "execute_result"
    }
   ],
   "source": [
    "hyperparameters = {'max_features':[None],\n",
    "                   'max_depth':[14, 15, 16],\n",
    "                   'min_samples_leaf': [1, 2, 3],\n",
    "                   'min_samples_split': [4, 5, 6],\n",
    "                   'n_estimators': [90, 100, 110],\n",
    "                   'criterion': ['entropy']}\n",
    "rf_grid = GridSearchCV(rndmclf, hyperparameters, cv = 10, n_jobs = -1, verbose = 2)\n",
    "rf_grid.fit(train_x, train_y)"
   ]
  },
  {
   "cell_type": "code",
   "execution_count": 138,
   "metadata": {},
   "outputs": [
    {
     "data": {
      "text/plain": [
       "{'criterion': 'entropy',\n",
       " 'max_depth': 14,\n",
       " 'max_features': None,\n",
       " 'min_samples_leaf': 1,\n",
       " 'min_samples_split': 4,\n",
       " 'n_estimators': 100}"
      ]
     },
     "execution_count": 138,
     "metadata": {},
     "output_type": "execute_result"
    }
   ],
   "source": [
    "rf_grid.best_params_"
   ]
  },
  {
   "cell_type": "markdown",
   "metadata": {},
   "source": [
    "### Training the Classifier"
   ]
  },
  {
   "cell_type": "code",
   "execution_count": 139,
   "metadata": {},
   "outputs": [
    {
     "data": {
      "text/plain": [
       "RandomForestClassifier(criterion='entropy', max_depth=14, max_features=None,\n",
       "                       min_samples_leaf=2, min_samples_split=5)"
      ]
     },
     "execution_count": 139,
     "metadata": {},
     "output_type": "execute_result"
    }
   ],
   "source": [
    "rndmclf.set_params(criterion = 'entropy', max_features = None, max_depth = 14, min_samples_leaf = 2, min_samples_split = 5, n_estimators = 100)"
   ]
  },
  {
   "cell_type": "markdown",
   "metadata": {},
   "source": [
    "### Testing and Evaluation"
   ]
  },
  {
   "cell_type": "markdown",
   "metadata": {},
   "source": [
    "### Accuracy Score and F1 Score"
   ]
  },
  {
   "cell_type": "code",
   "execution_count": 141,
   "metadata": {},
   "outputs": [
    {
     "data": {
      "text/plain": [
       "[0, 1, 2]"
      ]
     },
     "execution_count": 141,
     "metadata": {},
     "output_type": "execute_result"
    }
   ],
   "source": [
    "cls_nms = space_df['class'].unique()\n",
    "list(cls_nms)"
   ]
  },
  {
   "cell_type": "code",
   "execution_count": 145,
   "metadata": {},
   "outputs": [
    {
     "name": "stdout",
     "output_type": "stream",
     "text": [
      "0.9875420875420875\n",
      "('STAR', 99.72277227722772) ('GALAXY', 98.85423297262889) ('QSO', 88.64468864468866) "
     ]
    }
   ],
   "source": [
    "cls_nms = space_df['class'].unique()\n",
    "list(cls_nms)\n",
    "accscore = accuracy_score(test_y, y_pred=y_predsrndmclf)\n",
    "f1score = f1_score(test_y, y_pred=y_predsrndmclf, average = None)\n",
    "print(accscore)\n",
    "for i in range(0,3):\n",
    "    print((cls_nms[i], f1score[i]*100), end=\" \")"
   ]
  },
  {
   "cell_type": "code",
   "execution_count": 147,
   "metadata": {},
   "outputs": [
    {
     "name": "stdout",
     "output_type": "stream",
     "text": [
      "              precision    recall  f1-score   support\n",
      "\n",
      "           0       0.99      1.00      1.00      1259\n",
      "           1       0.99      0.99      0.99      1568\n",
      "           2       0.93      0.85      0.89       143\n",
      "\n",
      "    accuracy                           0.99      2970\n",
      "   macro avg       0.97      0.95      0.96      2970\n",
      "weighted avg       0.99      0.99      0.99      2970\n",
      "\n",
      "[[1259    0    0]\n",
      " [   6 1553    9]\n",
      " [   1   21  121]]\n"
     ]
    }
   ],
   "source": [
    "cm = confusion_matrix(test_y, y_pred=y_predsrndmclf)\n",
    "print(classification_report(test_y, y_pred=y_predsrndmclf))\n",
    "print(cm)"
   ]
  },
  {
   "cell_type": "code",
   "execution_count": 148,
   "metadata": {},
   "outputs": [
    {
     "data": {
      "text/plain": [
       "Text(28.5, 0.5, 'True')"
      ]
     },
     "execution_count": 148,
     "metadata": {},
     "output_type": "execute_result"
    },
    {
     "data": {
      "image/png": "[encoded data removed]",
      "text/plain": [
       "<Figure size 432x288 with 2 Axes>"
      ]
     },
     "metadata": {},
     "output_type": "display_data"
    }
   ],
   "source": [
    "cm = pd.DataFrame(cm, index=cls_nms, columns=cls_nms)\n",
    "sns.set(font_scale=1.2)\n",
    "sns.heatmap(cm, linewidths=0.5, cmap=sns.light_palette((1, 0.2, 0.6),n_colors=10000), annot=True)\n",
    "plt.xlabel('Predicted')\n",
    "plt.ylabel('True')"
   ]
  },
  {
   "cell_type": "code",
   "execution_count": 152,
   "metadata": {},
   "outputs": [],
   "source": [
    "x_df = sp_df.drop(['class'], axis=1)"
   ]
  },
  {
   "cell_type": "code",
   "execution_count": 153,
   "metadata": {},
   "outputs": [
    {
     "data": {
      "text/plain": [
       "redshift    0.529840\n",
       "plate       0.144696\n",
       "mjd         0.119564\n",
       "z           0.050234\n",
       "i           0.041928\n",
       "r           0.031621\n",
       "g           0.029290\n",
       "u           0.026387\n",
       "fiberid     0.006455\n",
       "dec         0.005821\n",
       "ra          0.004998\n",
       "field       0.004834\n",
       "run         0.002713\n",
       "camcol      0.001619\n",
       "dtype: float64"
      ]
     },
     "execution_count": 153,
     "metadata": {},
     "output_type": "execute_result"
    }
   ],
   "source": [
    "feature_imp = pd.Series(rndmclf.feature_importances_,index=x_df.columns).sort_values(ascending=False)\n",
    "feature_imp"
   ]
  },
  {
   "cell_type": "code",
   "execution_count": 154,
   "metadata": {},
   "outputs": [
    {
     "name": "stderr",
     "output_type": "stream",
     "text": [
      "No handles with labels found to put in legend.\n"
     ]
    },
    {
     "data": {
      "image/png": "[encoded data removed]",
      "text/plain": [
       "<Figure size 432x288 with 1 Axes>"
      ]
     },
     "metadata": {},
     "output_type": "display_data"
    }
   ],
   "source": [
    "sns.barplot(x=feature_imp, y=feature_imp.index)\n",
    "# Add labels to your graph\n",
    "plt.xlabel('Feature Importance Score')\n",
    "plt.ylabel('Features')\n",
    "plt.title(\"Visualizing Important Features\")\n",
    "plt.legend()\n",
    "plt.show()"
   ]
  },
  {
   "cell_type": "markdown",
   "metadata": {},
   "source": [
    "#### From the feature importance, we can understood that most impacting features on class type"
   ]
  },
  {
   "cell_type": "markdown",
   "metadata": {},
   "source": [
    "## Conclusion"
   ]
  },
  {
   "cell_type": "markdown",
   "metadata": {},
   "source": [
    "RandomForestClassifier machine learning model gives us highest predict score 98.75%"
   ]
  },
  {
   "cell_type": "markdown",
   "metadata": {},
   "source": [
    "accuracy and f1score meets the best for three STAR, GALAXY and QSO i.e, 99.72%, 98.85% and 88.64%"
   ]
  },
  {
   "cell_type": "code",
   "execution_count": null,
   "metadata": {},
   "outputs": [],
   "source": []
  }
 ],
 "metadata": {
  "kernelspec": {
   "display_name": "Python 3",
   "language": "python",
   "name": "python3"
  },
  "language_info": {
   "codemirror_mode": {
    "name": "ipython",
    "version": 3
   },
   "file_extension": ".py",
   "mimetype": "text/x-python",
   "name": "python",
   "nbconvert_exporter": "python",
   "pygments_lexer": "ipython3",
   "version": "3.8.3"
  }
 },
 "nbformat": 4,
 "nbformat_minor": 4
}
