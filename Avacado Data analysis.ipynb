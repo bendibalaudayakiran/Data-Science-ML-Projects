{
 "cells": [
  {
   "cell_type": "markdown",
   "metadata": {},
   "source": [
    "# AVACADO Data Analysis To get pridiction model for Region and Average Price "
   ]
  },
  {
   "cell_type": "markdown",
   "metadata": {},
   "source": [
    "## About the dataset and Problem Statement:- "
   ]
  },
  {
   "cell_type": "markdown",
   "metadata": {},
   "source": [
    "The Data represents weekly 2018 retail scan data for National retail volume (units) and price. Retail scan data comes directly from retailers’ cash registers based on actual retail sales of Hass avocados. Starting in 2013, the table below reflects an expanded, multi-outlet retail data set."
   ]
  },
  {
   "cell_type": "markdown",
   "metadata": {},
   "source": [
    "Multi-outlet reporting includes an aggregation of the following channels: grocery, mass, club, drug, dollar and military. The Average Price (of avocados) in the table reflects a per unit (per avocado) cost, even when multiple units (avocados) are sold in bags. The Product Lookup codes (PLU’s) in the table are only for Hass avocados. Other varieties of avocados (e.g. greenskins) are not included in this data."
   ]
  },
  {
   "cell_type": "markdown",
   "metadata": {},
   "source": [
    "#### The dataset can be seen in two angles to find the city or region and find the average price ."
   ]
  },
  {
   "cell_type": "markdown",
   "metadata": {},
   "source": [
    "##### Task: Classification /Regression"
   ]
  },
  {
   "cell_type": "markdown",
   "metadata": {},
   "source": [
    "## Data Collection (Loading data into Python)"
   ]
  },
  {
   "cell_type": "code",
   "execution_count": 141,
   "metadata": {
    "scrolled": true
   },
   "outputs": [],
   "source": [
    "#Importing Required Libraries and modules\n",
    "import pandas as pd\n",
    "import numpy as np\n",
    "from matplotlib import pyplot as plt\n",
    "import seaborn as sns\n",
    "from scipy import stats\n",
    "from scipy.stats import norm\n",
    "from scipy.stats import zscore\n",
    "from sklearn.preprocessing import StandardScaler\n",
    "from sklearn.preprocessing import LabelBinarizer, LabelEncoder, OneHotEncoder\n",
    "from sklearn.model_selection import train_test_split\n",
    "from sklearn.linear_model import LinearRegression\n",
    "from sklearn.tree import DecisionTreeRegressor\n",
    "from sklearn.neighbors import KNeighborsRegressor\n",
    "from sklearn.ensemble import AdaBoostRegressor\n",
    "from sklearn.ensemble import GradientBoostingRegressor\n",
    "from sklearn.metrics import r2_score\n",
    "from sklearn import svm\n",
    "from sklearn.svm import SVC\n",
    "from sklearn.model_selection import GridSearchCV\n",
    "from sklearn.metrics import mean_absolute_error\n",
    "from sklearn.metrics import mean_squared_error\n",
    "from sklearn.metrics import confusion_matrix\n",
    "from sklearn.metrics import accuracy_score\n",
    "from sklearn.metrics import classification_report\n",
    "from sklearn.metrics import roc_auc_score\n",
    "from sklearn.metrics import roc_curve\n",
    "from sklearn.linear_model import LogisticRegression\n",
    "from sklearn.naive_bayes import MultinomialNB\n",
    "from sklearn.neighbors import KNeighborsClassifier\n",
    "from sklearn.tree import DecisionTreeClassifier\n",
    "from sklearn.ensemble import AdaBoostClassifier\n",
    "from sklearn.ensemble import GradientBoostingClassifier\n",
    "from sklearn.model_selection import cross_val_score\n",
    "\n",
    "\n",
    "import warnings\n",
    "warnings.filterwarnings(\"ignore\")\n",
    "warnings.filterwarnings(\"ignore\",category=DeprecationWarning)"
   ]
  },
  {
   "cell_type": "markdown",
   "metadata": {},
   "source": [
    "In the Give data set there are almost ~18500 rows are null,\n",
    "So here we explicitly droping all the null rows after row no.1518 and load rest of the rows"
   ]
  },
  {
   "cell_type": "code",
   "execution_count": 142,
   "metadata": {},
   "outputs": [
    {
     "data": {
      "text/html": [
       "<div>\n",
       "<style scoped>\n",
       "    .dataframe tbody tr th:only-of-type {\n",
       "        vertical-align: middle;\n",
       "    }\n",
       "\n",
       "    .dataframe tbody tr th {\n",
       "        vertical-align: top;\n",
       "    }\n",
       "\n",
       "    .dataframe thead th {\n",
       "        text-align: right;\n",
       "    }\n",
       "</style>\n",
       "<table border=\"1\" class=\"dataframe\">\n",
       "  <thead>\n",
       "    <tr style=\"text-align: right;\">\n",
       "      <th></th>\n",
       "      <th>Unnamed: 0</th>\n",
       "      <th>Date</th>\n",
       "      <th>AveragePrice</th>\n",
       "      <th>Total Volume</th>\n",
       "      <th>4046</th>\n",
       "      <th>4225</th>\n",
       "      <th>4770</th>\n",
       "      <th>Total Bags</th>\n",
       "      <th>Small Bags</th>\n",
       "      <th>Large Bags</th>\n",
       "      <th>XLarge Bags</th>\n",
       "      <th>type</th>\n",
       "      <th>year</th>\n",
       "      <th>region</th>\n",
       "    </tr>\n",
       "  </thead>\n",
       "  <tbody>\n",
       "    <tr>\n",
       "      <th>0</th>\n",
       "      <td>0</td>\n",
       "      <td>27-12-2015</td>\n",
       "      <td>1.33</td>\n",
       "      <td>64236.62</td>\n",
       "      <td>1036.74</td>\n",
       "      <td>54454.85</td>\n",
       "      <td>48.16</td>\n",
       "      <td>8696.87</td>\n",
       "      <td>8603.62</td>\n",
       "      <td>93.25</td>\n",
       "      <td>0.0</td>\n",
       "      <td>conventional</td>\n",
       "      <td>2015</td>\n",
       "      <td>Albany</td>\n",
       "    </tr>\n",
       "    <tr>\n",
       "      <th>1</th>\n",
       "      <td>1</td>\n",
       "      <td>20-12-2015</td>\n",
       "      <td>1.35</td>\n",
       "      <td>54876.98</td>\n",
       "      <td>674.28</td>\n",
       "      <td>44638.81</td>\n",
       "      <td>58.33</td>\n",
       "      <td>9505.56</td>\n",
       "      <td>9408.07</td>\n",
       "      <td>97.49</td>\n",
       "      <td>0.0</td>\n",
       "      <td>conventional</td>\n",
       "      <td>2015</td>\n",
       "      <td>Albany</td>\n",
       "    </tr>\n",
       "    <tr>\n",
       "      <th>2</th>\n",
       "      <td>2</td>\n",
       "      <td>13-12-2015</td>\n",
       "      <td>0.93</td>\n",
       "      <td>118220.22</td>\n",
       "      <td>794.70</td>\n",
       "      <td>109149.67</td>\n",
       "      <td>130.50</td>\n",
       "      <td>8145.35</td>\n",
       "      <td>8042.21</td>\n",
       "      <td>103.14</td>\n",
       "      <td>0.0</td>\n",
       "      <td>conventional</td>\n",
       "      <td>2015</td>\n",
       "      <td>Albany</td>\n",
       "    </tr>\n",
       "    <tr>\n",
       "      <th>3</th>\n",
       "      <td>3</td>\n",
       "      <td>06-12-2015</td>\n",
       "      <td>1.08</td>\n",
       "      <td>78992.15</td>\n",
       "      <td>1132.00</td>\n",
       "      <td>71976.41</td>\n",
       "      <td>72.58</td>\n",
       "      <td>5811.16</td>\n",
       "      <td>5677.40</td>\n",
       "      <td>133.76</td>\n",
       "      <td>0.0</td>\n",
       "      <td>conventional</td>\n",
       "      <td>2015</td>\n",
       "      <td>Albany</td>\n",
       "    </tr>\n",
       "    <tr>\n",
       "      <th>4</th>\n",
       "      <td>4</td>\n",
       "      <td>29-11-2015</td>\n",
       "      <td>1.28</td>\n",
       "      <td>51039.60</td>\n",
       "      <td>941.48</td>\n",
       "      <td>43838.39</td>\n",
       "      <td>75.78</td>\n",
       "      <td>6183.95</td>\n",
       "      <td>5986.26</td>\n",
       "      <td>197.69</td>\n",
       "      <td>0.0</td>\n",
       "      <td>conventional</td>\n",
       "      <td>2015</td>\n",
       "      <td>Albany</td>\n",
       "    </tr>\n",
       "  </tbody>\n",
       "</table>\n",
       "</div>"
      ],
      "text/plain": [
       "   Unnamed: 0        Date  AveragePrice  Total Volume     4046       4225  \\\n",
       "0           0  27-12-2015          1.33      64236.62  1036.74   54454.85   \n",
       "1           1  20-12-2015          1.35      54876.98   674.28   44638.81   \n",
       "2           2  13-12-2015          0.93     118220.22   794.70  109149.67   \n",
       "3           3  06-12-2015          1.08      78992.15  1132.00   71976.41   \n",
       "4           4  29-11-2015          1.28      51039.60   941.48   43838.39   \n",
       "\n",
       "     4770  Total Bags  Small Bags  Large Bags  XLarge Bags          type  \\\n",
       "0   48.16     8696.87     8603.62       93.25          0.0  conventional   \n",
       "1   58.33     9505.56     9408.07       97.49          0.0  conventional   \n",
       "2  130.50     8145.35     8042.21      103.14          0.0  conventional   \n",
       "3   72.58     5811.16     5677.40      133.76          0.0  conventional   \n",
       "4   75.78     6183.95     5986.26      197.69          0.0  conventional   \n",
       "\n",
       "   year  region  \n",
       "0  2015  Albany  \n",
       "1  2015  Albany  \n",
       "2  2015  Albany  \n",
       "3  2015  Albany  \n",
       "4  2015  Albany  "
      ]
     },
     "execution_count": 142,
     "metadata": {},
     "output_type": "execute_result"
    }
   ],
   "source": [
    "Avacado = pd.read_csv(\"Avacado.csv\")\n",
    "Avacado.head()"
   ]
  },
  {
   "cell_type": "code",
   "execution_count": 143,
   "metadata": {},
   "outputs": [
    {
     "data": {
      "text/html": [
       "<div>\n",
       "<style scoped>\n",
       "    .dataframe tbody tr th:only-of-type {\n",
       "        vertical-align: middle;\n",
       "    }\n",
       "\n",
       "    .dataframe tbody tr th {\n",
       "        vertical-align: top;\n",
       "    }\n",
       "\n",
       "    .dataframe thead th {\n",
       "        text-align: right;\n",
       "    }\n",
       "</style>\n",
       "<table border=\"1\" class=\"dataframe\">\n",
       "  <thead>\n",
       "    <tr style=\"text-align: right;\">\n",
       "      <th></th>\n",
       "      <th>Unnamed: 0</th>\n",
       "      <th>Date</th>\n",
       "      <th>AveragePrice</th>\n",
       "      <th>Total Volume</th>\n",
       "      <th>4046</th>\n",
       "      <th>4225</th>\n",
       "      <th>4770</th>\n",
       "      <th>Total Bags</th>\n",
       "      <th>Small Bags</th>\n",
       "      <th>Large Bags</th>\n",
       "      <th>XLarge Bags</th>\n",
       "      <th>type</th>\n",
       "      <th>year</th>\n",
       "      <th>region</th>\n",
       "    </tr>\n",
       "  </thead>\n",
       "  <tbody>\n",
       "    <tr>\n",
       "      <th>0</th>\n",
       "      <td>0</td>\n",
       "      <td>27-12-2015</td>\n",
       "      <td>1.33</td>\n",
       "      <td>64236.62</td>\n",
       "      <td>1036.74</td>\n",
       "      <td>54454.85</td>\n",
       "      <td>48.16</td>\n",
       "      <td>8696.87</td>\n",
       "      <td>8603.62</td>\n",
       "      <td>93.25</td>\n",
       "      <td>0.0</td>\n",
       "      <td>conventional</td>\n",
       "      <td>2015</td>\n",
       "      <td>Albany</td>\n",
       "    </tr>\n",
       "    <tr>\n",
       "      <th>1</th>\n",
       "      <td>1</td>\n",
       "      <td>20-12-2015</td>\n",
       "      <td>1.35</td>\n",
       "      <td>54876.98</td>\n",
       "      <td>674.28</td>\n",
       "      <td>44638.81</td>\n",
       "      <td>58.33</td>\n",
       "      <td>9505.56</td>\n",
       "      <td>9408.07</td>\n",
       "      <td>97.49</td>\n",
       "      <td>0.0</td>\n",
       "      <td>conventional</td>\n",
       "      <td>2015</td>\n",
       "      <td>Albany</td>\n",
       "    </tr>\n",
       "    <tr>\n",
       "      <th>2</th>\n",
       "      <td>2</td>\n",
       "      <td>13-12-2015</td>\n",
       "      <td>0.93</td>\n",
       "      <td>118220.22</td>\n",
       "      <td>794.70</td>\n",
       "      <td>109149.67</td>\n",
       "      <td>130.50</td>\n",
       "      <td>8145.35</td>\n",
       "      <td>8042.21</td>\n",
       "      <td>103.14</td>\n",
       "      <td>0.0</td>\n",
       "      <td>conventional</td>\n",
       "      <td>2015</td>\n",
       "      <td>Albany</td>\n",
       "    </tr>\n",
       "    <tr>\n",
       "      <th>3</th>\n",
       "      <td>3</td>\n",
       "      <td>06-12-2015</td>\n",
       "      <td>1.08</td>\n",
       "      <td>78992.15</td>\n",
       "      <td>1132.00</td>\n",
       "      <td>71976.41</td>\n",
       "      <td>72.58</td>\n",
       "      <td>5811.16</td>\n",
       "      <td>5677.40</td>\n",
       "      <td>133.76</td>\n",
       "      <td>0.0</td>\n",
       "      <td>conventional</td>\n",
       "      <td>2015</td>\n",
       "      <td>Albany</td>\n",
       "    </tr>\n",
       "    <tr>\n",
       "      <th>4</th>\n",
       "      <td>4</td>\n",
       "      <td>29-11-2015</td>\n",
       "      <td>1.28</td>\n",
       "      <td>51039.60</td>\n",
       "      <td>941.48</td>\n",
       "      <td>43838.39</td>\n",
       "      <td>75.78</td>\n",
       "      <td>6183.95</td>\n",
       "      <td>5986.26</td>\n",
       "      <td>197.69</td>\n",
       "      <td>0.0</td>\n",
       "      <td>conventional</td>\n",
       "      <td>2015</td>\n",
       "      <td>Albany</td>\n",
       "    </tr>\n",
       "  </tbody>\n",
       "</table>\n",
       "</div>"
      ],
      "text/plain": [
       "   Unnamed: 0        Date  AveragePrice  Total Volume     4046       4225  \\\n",
       "0           0  27-12-2015          1.33      64236.62  1036.74   54454.85   \n",
       "1           1  20-12-2015          1.35      54876.98   674.28   44638.81   \n",
       "2           2  13-12-2015          0.93     118220.22   794.70  109149.67   \n",
       "3           3  06-12-2015          1.08      78992.15  1132.00   71976.41   \n",
       "4           4  29-11-2015          1.28      51039.60   941.48   43838.39   \n",
       "\n",
       "     4770  Total Bags  Small Bags  Large Bags  XLarge Bags          type  \\\n",
       "0   48.16     8696.87     8603.62       93.25          0.0  conventional   \n",
       "1   58.33     9505.56     9408.07       97.49          0.0  conventional   \n",
       "2  130.50     8145.35     8042.21      103.14          0.0  conventional   \n",
       "3   72.58     5811.16     5677.40      133.76          0.0  conventional   \n",
       "4   75.78     6183.95     5986.26      197.69          0.0  conventional   \n",
       "\n",
       "   year  region  \n",
       "0  2015  Albany  \n",
       "1  2015  Albany  \n",
       "2  2015  Albany  \n",
       "3  2015  Albany  \n",
       "4  2015  Albany  "
      ]
     },
     "execution_count": 143,
     "metadata": {},
     "output_type": "execute_result"
    }
   ],
   "source": [
    "ava_df = pd.DataFrame() #Creating duplicate Dataframe (Ava_df) for random operations\n",
    "ava_df = Avacado\n",
    "ava_df.head()"
   ]
  },
  {
   "cell_type": "markdown",
   "metadata": {},
   "source": [
    "## Data Wrangling (Data Cleaning):-"
   ]
  },
  {
   "cell_type": "markdown",
   "metadata": {},
   "source": [
    "### Dimensions of the data"
   ]
  },
  {
   "cell_type": "markdown",
   "metadata": {},
   "source": [
    "We can get a quick idea of how many instances (rows) and how many attributes (columns) the data contains with the shape property."
   ]
  },
  {
   "cell_type": "code",
   "execution_count": 144,
   "metadata": {},
   "outputs": [
    {
     "name": "stdout",
     "output_type": "stream",
     "text": [
      "(1517, 14)\n"
     ]
    }
   ],
   "source": [
    "print(ava_df.shape)"
   ]
  },
  {
   "cell_type": "markdown",
   "metadata": {},
   "source": [
    "### Peek at the Data"
   ]
  },
  {
   "cell_type": "markdown",
   "metadata": {},
   "source": [
    "The Column \"Unnamed:0\" is just a representation as index, so it's useless to keep it and removing it"
   ]
  },
  {
   "cell_type": "code",
   "execution_count": 145,
   "metadata": {},
   "outputs": [
    {
     "data": {
      "text/html": [
       "<div>\n",
       "<style scoped>\n",
       "    .dataframe tbody tr th:only-of-type {\n",
       "        vertical-align: middle;\n",
       "    }\n",
       "\n",
       "    .dataframe tbody tr th {\n",
       "        vertical-align: top;\n",
       "    }\n",
       "\n",
       "    .dataframe thead th {\n",
       "        text-align: right;\n",
       "    }\n",
       "</style>\n",
       "<table border=\"1\" class=\"dataframe\">\n",
       "  <thead>\n",
       "    <tr style=\"text-align: right;\">\n",
       "      <th></th>\n",
       "      <th>Date</th>\n",
       "      <th>AveragePrice</th>\n",
       "      <th>Total Volume</th>\n",
       "      <th>4046</th>\n",
       "      <th>4225</th>\n",
       "      <th>4770</th>\n",
       "      <th>Total Bags</th>\n",
       "      <th>Small Bags</th>\n",
       "      <th>Large Bags</th>\n",
       "      <th>XLarge Bags</th>\n",
       "      <th>type</th>\n",
       "      <th>year</th>\n",
       "      <th>region</th>\n",
       "    </tr>\n",
       "  </thead>\n",
       "  <tbody>\n",
       "    <tr>\n",
       "      <th>0</th>\n",
       "      <td>27-12-2015</td>\n",
       "      <td>1.33</td>\n",
       "      <td>64236.62</td>\n",
       "      <td>1036.74</td>\n",
       "      <td>54454.85</td>\n",
       "      <td>48.16</td>\n",
       "      <td>8696.87</td>\n",
       "      <td>8603.62</td>\n",
       "      <td>93.25</td>\n",
       "      <td>0.0</td>\n",
       "      <td>conventional</td>\n",
       "      <td>2015</td>\n",
       "      <td>Albany</td>\n",
       "    </tr>\n",
       "    <tr>\n",
       "      <th>1</th>\n",
       "      <td>20-12-2015</td>\n",
       "      <td>1.35</td>\n",
       "      <td>54876.98</td>\n",
       "      <td>674.28</td>\n",
       "      <td>44638.81</td>\n",
       "      <td>58.33</td>\n",
       "      <td>9505.56</td>\n",
       "      <td>9408.07</td>\n",
       "      <td>97.49</td>\n",
       "      <td>0.0</td>\n",
       "      <td>conventional</td>\n",
       "      <td>2015</td>\n",
       "      <td>Albany</td>\n",
       "    </tr>\n",
       "    <tr>\n",
       "      <th>2</th>\n",
       "      <td>13-12-2015</td>\n",
       "      <td>0.93</td>\n",
       "      <td>118220.22</td>\n",
       "      <td>794.70</td>\n",
       "      <td>109149.67</td>\n",
       "      <td>130.50</td>\n",
       "      <td>8145.35</td>\n",
       "      <td>8042.21</td>\n",
       "      <td>103.14</td>\n",
       "      <td>0.0</td>\n",
       "      <td>conventional</td>\n",
       "      <td>2015</td>\n",
       "      <td>Albany</td>\n",
       "    </tr>\n",
       "    <tr>\n",
       "      <th>3</th>\n",
       "      <td>06-12-2015</td>\n",
       "      <td>1.08</td>\n",
       "      <td>78992.15</td>\n",
       "      <td>1132.00</td>\n",
       "      <td>71976.41</td>\n",
       "      <td>72.58</td>\n",
       "      <td>5811.16</td>\n",
       "      <td>5677.40</td>\n",
       "      <td>133.76</td>\n",
       "      <td>0.0</td>\n",
       "      <td>conventional</td>\n",
       "      <td>2015</td>\n",
       "      <td>Albany</td>\n",
       "    </tr>\n",
       "    <tr>\n",
       "      <th>4</th>\n",
       "      <td>29-11-2015</td>\n",
       "      <td>1.28</td>\n",
       "      <td>51039.60</td>\n",
       "      <td>941.48</td>\n",
       "      <td>43838.39</td>\n",
       "      <td>75.78</td>\n",
       "      <td>6183.95</td>\n",
       "      <td>5986.26</td>\n",
       "      <td>197.69</td>\n",
       "      <td>0.0</td>\n",
       "      <td>conventional</td>\n",
       "      <td>2015</td>\n",
       "      <td>Albany</td>\n",
       "    </tr>\n",
       "  </tbody>\n",
       "</table>\n",
       "</div>"
      ],
      "text/plain": [
       "         Date  AveragePrice  Total Volume     4046       4225    4770  \\\n",
       "0  27-12-2015          1.33      64236.62  1036.74   54454.85   48.16   \n",
       "1  20-12-2015          1.35      54876.98   674.28   44638.81   58.33   \n",
       "2  13-12-2015          0.93     118220.22   794.70  109149.67  130.50   \n",
       "3  06-12-2015          1.08      78992.15  1132.00   71976.41   72.58   \n",
       "4  29-11-2015          1.28      51039.60   941.48   43838.39   75.78   \n",
       "\n",
       "   Total Bags  Small Bags  Large Bags  XLarge Bags          type  year  region  \n",
       "0     8696.87     8603.62       93.25          0.0  conventional  2015  Albany  \n",
       "1     9505.56     9408.07       97.49          0.0  conventional  2015  Albany  \n",
       "2     8145.35     8042.21      103.14          0.0  conventional  2015  Albany  \n",
       "3     5811.16     5677.40      133.76          0.0  conventional  2015  Albany  \n",
       "4     6183.95     5986.26      197.69          0.0  conventional  2015  Albany  "
      ]
     },
     "execution_count": 145,
     "metadata": {},
     "output_type": "execute_result"
    }
   ],
   "source": [
    "ava_df.drop('Unnamed: 0',axis=1,inplace=True)\n",
    "ava_df.head()"
   ]
  },
  {
   "cell_type": "markdown",
   "metadata": {},
   "source": [
    "### Checking Data Types of each columns"
   ]
  },
  {
   "cell_type": "code",
   "execution_count": 146,
   "metadata": {},
   "outputs": [
    {
     "data": {
      "text/plain": [
       "Date             object\n",
       "AveragePrice    float64\n",
       "Total Volume    float64\n",
       "4046            float64\n",
       "4225            float64\n",
       "4770            float64\n",
       "Total Bags      float64\n",
       "Small Bags      float64\n",
       "Large Bags      float64\n",
       "XLarge Bags     float64\n",
       "type             object\n",
       "year              int64\n",
       "region           object\n",
       "dtype: object"
      ]
     },
     "execution_count": 146,
     "metadata": {},
     "output_type": "execute_result"
    }
   ],
   "source": [
    "ava_df.dtypes"
   ]
  },
  {
   "cell_type": "markdown",
   "metadata": {},
   "source": [
    "As I am checking data types of each columns, amost all are same data type float64 except Data, type, region which these three are object datatype"
   ]
  },
  {
   "cell_type": "markdown",
   "metadata": {},
   "source": [
    "### Deal with missing Data"
   ]
  },
  {
   "cell_type": "code",
   "execution_count": 147,
   "metadata": {},
   "outputs": [
    {
     "data": {
      "text/plain": [
       "Date            0\n",
       "AveragePrice    0\n",
       "Total Volume    0\n",
       "4046            0\n",
       "4225            0\n",
       "4770            0\n",
       "Total Bags      0\n",
       "Small Bags      0\n",
       "Large Bags      0\n",
       "XLarge Bags     0\n",
       "type            0\n",
       "year            0\n",
       "region          0\n",
       "dtype: int64"
      ]
     },
     "execution_count": 147,
     "metadata": {},
     "output_type": "execute_result"
    }
   ],
   "source": [
    "#Check for missing values\n",
    "ava_df.isnull().sum()"
   ]
  },
  {
   "cell_type": "code",
   "execution_count": 148,
   "metadata": {},
   "outputs": [
    {
     "data": {
      "text/plain": [
       "<matplotlib.axes._subplots.AxesSubplot at 0x24c7a917e20>"
      ]
     },
     "execution_count": 148,
     "metadata": {},
     "output_type": "execute_result"
    },
    {
     "data": {
      "image/png": "[encoded data removed]",
      "text/plain": [
       "<Figure size 432x288 with 2 Axes>"
      ]
     },
     "metadata": {},
     "output_type": "display_data"
    }
   ],
   "source": [
    "sns.heatmap(ava_df.isnull())"
   ]
  },
  {
   "cell_type": "markdown",
   "metadata": {},
   "source": [
    "from the both heat map and null check as we find there are no null values in the data set because the red color is distributed equally entire the heatmap."
   ]
  },
  {
   "cell_type": "markdown",
   "metadata": {},
   "source": [
    "### Processing date Column"
   ]
  },
  {
   "cell_type": "code",
   "execution_count": 149,
   "metadata": {},
   "outputs": [],
   "source": [
    "ava_df['Date']=pd.to_datetime(ava_df['Date'])\n",
    "ava_df['Month']=ava_df['Date'].apply(lambda x:x.month)\n",
    "ava_df['Day']=ava_df['Date'].apply(lambda x:x.day)"
   ]
  },
  {
   "cell_type": "markdown",
   "metadata": {},
   "source": [
    "Here created seperate columns for year, month, day. So dropping Date column"
   ]
  },
  {
   "cell_type": "code",
   "execution_count": 150,
   "metadata": {},
   "outputs": [],
   "source": [
    "ava_df.drop(['Date'],axis=1,inplace=True)"
   ]
  },
  {
   "cell_type": "markdown",
   "metadata": {},
   "source": [
    "### Processing Categorical Variable"
   ]
  },
  {
   "cell_type": "markdown",
   "metadata": {},
   "source": [
    "from the given data we can find that type column is a categorical data, so we need to convert this into numerical"
   ]
  },
  {
   "cell_type": "markdown",
   "metadata": {},
   "source": [
    "to convert the categorical values into numerical values, we should find the unique value in the entire column"
   ]
  },
  {
   "cell_type": "code",
   "execution_count": 151,
   "metadata": {},
   "outputs": [
    {
     "data": {
      "text/plain": [
       "array(['conventional'], dtype=object)"
      ]
     },
     "execution_count": 151,
     "metadata": {},
     "output_type": "execute_result"
    }
   ],
   "source": [
    "ava_df['type'].unique()"
   ]
  },
  {
   "cell_type": "code",
   "execution_count": 152,
   "metadata": {},
   "outputs": [],
   "source": [
    "ava_df['type'] = ava_df['type'].map({\n",
    "    'conventional': 1\n",
    "}.get)"
   ]
  },
  {
   "cell_type": "code",
   "execution_count": 153,
   "metadata": {},
   "outputs": [
    {
     "data": {
      "text/html": [
       "<div>\n",
       "<style scoped>\n",
       "    .dataframe tbody tr th:only-of-type {\n",
       "        vertical-align: middle;\n",
       "    }\n",
       "\n",
       "    .dataframe tbody tr th {\n",
       "        vertical-align: top;\n",
       "    }\n",
       "\n",
       "    .dataframe thead th {\n",
       "        text-align: right;\n",
       "    }\n",
       "</style>\n",
       "<table border=\"1\" class=\"dataframe\">\n",
       "  <thead>\n",
       "    <tr style=\"text-align: right;\">\n",
       "      <th></th>\n",
       "      <th>AveragePrice</th>\n",
       "      <th>Total Volume</th>\n",
       "      <th>4046</th>\n",
       "      <th>4225</th>\n",
       "      <th>4770</th>\n",
       "      <th>Total Bags</th>\n",
       "      <th>Small Bags</th>\n",
       "      <th>Large Bags</th>\n",
       "      <th>XLarge Bags</th>\n",
       "      <th>type</th>\n",
       "      <th>year</th>\n",
       "      <th>region</th>\n",
       "      <th>Month</th>\n",
       "      <th>Day</th>\n",
       "    </tr>\n",
       "  </thead>\n",
       "  <tbody>\n",
       "    <tr>\n",
       "      <th>0</th>\n",
       "      <td>1.33</td>\n",
       "      <td>64236.62</td>\n",
       "      <td>1036.74</td>\n",
       "      <td>54454.85</td>\n",
       "      <td>48.16</td>\n",
       "      <td>8696.87</td>\n",
       "      <td>8603.62</td>\n",
       "      <td>93.25</td>\n",
       "      <td>0.0</td>\n",
       "      <td>1</td>\n",
       "      <td>2015</td>\n",
       "      <td>Albany</td>\n",
       "      <td>12</td>\n",
       "      <td>27</td>\n",
       "    </tr>\n",
       "    <tr>\n",
       "      <th>1</th>\n",
       "      <td>1.35</td>\n",
       "      <td>54876.98</td>\n",
       "      <td>674.28</td>\n",
       "      <td>44638.81</td>\n",
       "      <td>58.33</td>\n",
       "      <td>9505.56</td>\n",
       "      <td>9408.07</td>\n",
       "      <td>97.49</td>\n",
       "      <td>0.0</td>\n",
       "      <td>1</td>\n",
       "      <td>2015</td>\n",
       "      <td>Albany</td>\n",
       "      <td>12</td>\n",
       "      <td>20</td>\n",
       "    </tr>\n",
       "    <tr>\n",
       "      <th>2</th>\n",
       "      <td>0.93</td>\n",
       "      <td>118220.22</td>\n",
       "      <td>794.70</td>\n",
       "      <td>109149.67</td>\n",
       "      <td>130.50</td>\n",
       "      <td>8145.35</td>\n",
       "      <td>8042.21</td>\n",
       "      <td>103.14</td>\n",
       "      <td>0.0</td>\n",
       "      <td>1</td>\n",
       "      <td>2015</td>\n",
       "      <td>Albany</td>\n",
       "      <td>12</td>\n",
       "      <td>13</td>\n",
       "    </tr>\n",
       "    <tr>\n",
       "      <th>3</th>\n",
       "      <td>1.08</td>\n",
       "      <td>78992.15</td>\n",
       "      <td>1132.00</td>\n",
       "      <td>71976.41</td>\n",
       "      <td>72.58</td>\n",
       "      <td>5811.16</td>\n",
       "      <td>5677.40</td>\n",
       "      <td>133.76</td>\n",
       "      <td>0.0</td>\n",
       "      <td>1</td>\n",
       "      <td>2015</td>\n",
       "      <td>Albany</td>\n",
       "      <td>6</td>\n",
       "      <td>12</td>\n",
       "    </tr>\n",
       "    <tr>\n",
       "      <th>4</th>\n",
       "      <td>1.28</td>\n",
       "      <td>51039.60</td>\n",
       "      <td>941.48</td>\n",
       "      <td>43838.39</td>\n",
       "      <td>75.78</td>\n",
       "      <td>6183.95</td>\n",
       "      <td>5986.26</td>\n",
       "      <td>197.69</td>\n",
       "      <td>0.0</td>\n",
       "      <td>1</td>\n",
       "      <td>2015</td>\n",
       "      <td>Albany</td>\n",
       "      <td>11</td>\n",
       "      <td>29</td>\n",
       "    </tr>\n",
       "  </tbody>\n",
       "</table>\n",
       "</div>"
      ],
      "text/plain": [
       "   AveragePrice  Total Volume     4046       4225    4770  Total Bags  \\\n",
       "0          1.33      64236.62  1036.74   54454.85   48.16     8696.87   \n",
       "1          1.35      54876.98   674.28   44638.81   58.33     9505.56   \n",
       "2          0.93     118220.22   794.70  109149.67  130.50     8145.35   \n",
       "3          1.08      78992.15  1132.00   71976.41   72.58     5811.16   \n",
       "4          1.28      51039.60   941.48   43838.39   75.78     6183.95   \n",
       "\n",
       "   Small Bags  Large Bags  XLarge Bags  type  year  region  Month  Day  \n",
       "0     8603.62       93.25          0.0     1  2015  Albany     12   27  \n",
       "1     9408.07       97.49          0.0     1  2015  Albany     12   20  \n",
       "2     8042.21      103.14          0.0     1  2015  Albany     12   13  \n",
       "3     5677.40      133.76          0.0     1  2015  Albany      6   12  \n",
       "4     5986.26      197.69          0.0     1  2015  Albany     11   29  "
      ]
     },
     "execution_count": 153,
     "metadata": {},
     "output_type": "execute_result"
    }
   ],
   "source": [
    "ava_df.head()"
   ]
  },
  {
   "cell_type": "code",
   "execution_count": 154,
   "metadata": {},
   "outputs": [
    {
     "data": {
      "text/plain": [
       "<matplotlib.axes._subplots.AxesSubplot at 0x24c7bc45400>"
      ]
     },
     "execution_count": 154,
     "metadata": {},
     "output_type": "execute_result"
    },
    {
     "data": {
      "image/png": "[encoded data removed]",
      "text/plain": [
       "<Figure size 720x432 with 1 Axes>"
      ]
     },
     "metadata": {},
     "output_type": "display_data"
    }
   ],
   "source": [
    "sns.set(font_scale=2) \n",
    "fig, ax = plt.subplots(figsize=(10, 6))\n",
    "sns.distplot(a=ava_df.AveragePrice, kde=False, fit=norm)"
   ]
  },
  {
   "cell_type": "markdown",
   "metadata": {},
   "source": [
    "most price of Average Price of avacado distribution showing between 1, 1.2."
   ]
  },
  {
   "cell_type": "code",
   "execution_count": 155,
   "metadata": {},
   "outputs": [
    {
     "data": {
      "image/png": "[encoded data removed]",
      "text/plain": [
       "<Figure size 648x360 with 1 Axes>"
      ]
     },
     "metadata": {},
     "output_type": "display_data"
    }
   ],
   "source": [
    "sns.set(font_scale=1) \n",
    "plt.figure(figsize=(9,5))\n",
    "sns.lineplot(x=\"Month\", y=\"AveragePrice\", hue='type', data=ava_df)\n",
    "plt.show()"
   ]
  },
  {
   "cell_type": "markdown",
   "metadata": {},
   "source": [
    "observed there was a hike between months 0-2 and 10 – 12 for Conventional type(1) of Avocados prices"
   ]
  },
  {
   "cell_type": "markdown",
   "metadata": {},
   "source": [
    "## statistical summary"
   ]
  },
  {
   "cell_type": "code",
   "execution_count": 156,
   "metadata": {},
   "outputs": [
    {
     "data": {
      "text/html": [
       "<div>\n",
       "<style scoped>\n",
       "    .dataframe tbody tr th:only-of-type {\n",
       "        vertical-align: middle;\n",
       "    }\n",
       "\n",
       "    .dataframe tbody tr th {\n",
       "        vertical-align: top;\n",
       "    }\n",
       "\n",
       "    .dataframe thead th {\n",
       "        text-align: right;\n",
       "    }\n",
       "</style>\n",
       "<table border=\"1\" class=\"dataframe\">\n",
       "  <thead>\n",
       "    <tr style=\"text-align: right;\">\n",
       "      <th></th>\n",
       "      <th>AveragePrice</th>\n",
       "      <th>Total Volume</th>\n",
       "      <th>4046</th>\n",
       "      <th>4225</th>\n",
       "      <th>4770</th>\n",
       "      <th>Total Bags</th>\n",
       "      <th>Small Bags</th>\n",
       "      <th>Large Bags</th>\n",
       "      <th>XLarge Bags</th>\n",
       "      <th>type</th>\n",
       "      <th>year</th>\n",
       "      <th>Month</th>\n",
       "      <th>Day</th>\n",
       "    </tr>\n",
       "  </thead>\n",
       "  <tbody>\n",
       "    <tr>\n",
       "      <th>count</th>\n",
       "      <td>1517.000000</td>\n",
       "      <td>1.517000e+03</td>\n",
       "      <td>1.517000e+03</td>\n",
       "      <td>1.517000e+03</td>\n",
       "      <td>1.517000e+03</td>\n",
       "      <td>1.517000e+03</td>\n",
       "      <td>1.517000e+03</td>\n",
       "      <td>1.517000e+03</td>\n",
       "      <td>1517.000000</td>\n",
       "      <td>1517.0</td>\n",
       "      <td>1517.000000</td>\n",
       "      <td>1517.000000</td>\n",
       "      <td>1517.000000</td>\n",
       "    </tr>\n",
       "    <tr>\n",
       "      <th>mean</th>\n",
       "      <td>1.074990</td>\n",
       "      <td>1.601879e+06</td>\n",
       "      <td>6.464387e+05</td>\n",
       "      <td>6.114375e+05</td>\n",
       "      <td>5.040550e+04</td>\n",
       "      <td>2.935974e+05</td>\n",
       "      <td>2.487736e+05</td>\n",
       "      <td>4.264205e+04</td>\n",
       "      <td>2181.771074</td>\n",
       "      <td>1.0</td>\n",
       "      <td>2015.162821</td>\n",
       "      <td>6.362558</td>\n",
       "      <td>15.253790</td>\n",
       "    </tr>\n",
       "    <tr>\n",
       "      <th>std</th>\n",
       "      <td>0.188891</td>\n",
       "      <td>4.433143e+06</td>\n",
       "      <td>1.947614e+06</td>\n",
       "      <td>1.672906e+06</td>\n",
       "      <td>1.377812e+05</td>\n",
       "      <td>7.579765e+05</td>\n",
       "      <td>6.474765e+05</td>\n",
       "      <td>1.182157e+05</td>\n",
       "      <td>7455.712144</td>\n",
       "      <td>0.0</td>\n",
       "      <td>0.369324</td>\n",
       "      <td>3.472146</td>\n",
       "      <td>8.965902</td>\n",
       "    </tr>\n",
       "    <tr>\n",
       "      <th>min</th>\n",
       "      <td>0.490000</td>\n",
       "      <td>3.875074e+04</td>\n",
       "      <td>4.677200e+02</td>\n",
       "      <td>1.783770e+03</td>\n",
       "      <td>0.000000e+00</td>\n",
       "      <td>3.311770e+03</td>\n",
       "      <td>3.311770e+03</td>\n",
       "      <td>0.000000e+00</td>\n",
       "      <td>0.000000</td>\n",
       "      <td>1.0</td>\n",
       "      <td>2015.000000</td>\n",
       "      <td>1.000000</td>\n",
       "      <td>1.000000</td>\n",
       "    </tr>\n",
       "    <tr>\n",
       "      <th>25%</th>\n",
       "      <td>0.980000</td>\n",
       "      <td>1.474700e+05</td>\n",
       "      <td>2.040034e+04</td>\n",
       "      <td>4.147606e+04</td>\n",
       "      <td>9.112500e+02</td>\n",
       "      <td>3.620689e+04</td>\n",
       "      <td>2.972722e+04</td>\n",
       "      <td>5.407400e+02</td>\n",
       "      <td>0.000000</td>\n",
       "      <td>1.0</td>\n",
       "      <td>2015.000000</td>\n",
       "      <td>3.000000</td>\n",
       "      <td>7.000000</td>\n",
       "    </tr>\n",
       "    <tr>\n",
       "      <th>50%</th>\n",
       "      <td>1.080000</td>\n",
       "      <td>4.027919e+05</td>\n",
       "      <td>8.175117e+04</td>\n",
       "      <td>1.186649e+05</td>\n",
       "      <td>7.688170e+03</td>\n",
       "      <td>7.397906e+04</td>\n",
       "      <td>6.237569e+04</td>\n",
       "      <td>5.044350e+03</td>\n",
       "      <td>0.000000</td>\n",
       "      <td>1.0</td>\n",
       "      <td>2015.000000</td>\n",
       "      <td>6.000000</td>\n",
       "      <td>15.000000</td>\n",
       "    </tr>\n",
       "    <tr>\n",
       "      <th>75%</th>\n",
       "      <td>1.190000</td>\n",
       "      <td>9.819751e+05</td>\n",
       "      <td>3.775785e+05</td>\n",
       "      <td>4.851503e+05</td>\n",
       "      <td>2.916730e+04</td>\n",
       "      <td>1.576097e+05</td>\n",
       "      <td>1.461994e+05</td>\n",
       "      <td>2.926767e+04</td>\n",
       "      <td>401.480000</td>\n",
       "      <td>1.0</td>\n",
       "      <td>2015.000000</td>\n",
       "      <td>9.000000</td>\n",
       "      <td>22.000000</td>\n",
       "    </tr>\n",
       "    <tr>\n",
       "      <th>max</th>\n",
       "      <td>1.680000</td>\n",
       "      <td>4.465546e+07</td>\n",
       "      <td>1.893304e+07</td>\n",
       "      <td>1.895648e+07</td>\n",
       "      <td>1.381516e+06</td>\n",
       "      <td>6.736304e+06</td>\n",
       "      <td>5.893642e+06</td>\n",
       "      <td>1.121076e+06</td>\n",
       "      <td>108072.790000</td>\n",
       "      <td>1.0</td>\n",
       "      <td>2016.000000</td>\n",
       "      <td>12.000000</td>\n",
       "      <td>31.000000</td>\n",
       "    </tr>\n",
       "  </tbody>\n",
       "</table>\n",
       "</div>"
      ],
      "text/plain": [
       "       AveragePrice  Total Volume          4046          4225          4770  \\\n",
       "count   1517.000000  1.517000e+03  1.517000e+03  1.517000e+03  1.517000e+03   \n",
       "mean       1.074990  1.601879e+06  6.464387e+05  6.114375e+05  5.040550e+04   \n",
       "std        0.188891  4.433143e+06  1.947614e+06  1.672906e+06  1.377812e+05   \n",
       "min        0.490000  3.875074e+04  4.677200e+02  1.783770e+03  0.000000e+00   \n",
       "25%        0.980000  1.474700e+05  2.040034e+04  4.147606e+04  9.112500e+02   \n",
       "50%        1.080000  4.027919e+05  8.175117e+04  1.186649e+05  7.688170e+03   \n",
       "75%        1.190000  9.819751e+05  3.775785e+05  4.851503e+05  2.916730e+04   \n",
       "max        1.680000  4.465546e+07  1.893304e+07  1.895648e+07  1.381516e+06   \n",
       "\n",
       "         Total Bags    Small Bags    Large Bags    XLarge Bags    type  \\\n",
       "count  1.517000e+03  1.517000e+03  1.517000e+03    1517.000000  1517.0   \n",
       "mean   2.935974e+05  2.487736e+05  4.264205e+04    2181.771074     1.0   \n",
       "std    7.579765e+05  6.474765e+05  1.182157e+05    7455.712144     0.0   \n",
       "min    3.311770e+03  3.311770e+03  0.000000e+00       0.000000     1.0   \n",
       "25%    3.620689e+04  2.972722e+04  5.407400e+02       0.000000     1.0   \n",
       "50%    7.397906e+04  6.237569e+04  5.044350e+03       0.000000     1.0   \n",
       "75%    1.576097e+05  1.461994e+05  2.926767e+04     401.480000     1.0   \n",
       "max    6.736304e+06  5.893642e+06  1.121076e+06  108072.790000     1.0   \n",
       "\n",
       "              year        Month          Day  \n",
       "count  1517.000000  1517.000000  1517.000000  \n",
       "mean   2015.162821     6.362558    15.253790  \n",
       "std       0.369324     3.472146     8.965902  \n",
       "min    2015.000000     1.000000     1.000000  \n",
       "25%    2015.000000     3.000000     7.000000  \n",
       "50%    2015.000000     6.000000    15.000000  \n",
       "75%    2015.000000     9.000000    22.000000  \n",
       "max    2016.000000    12.000000    31.000000  "
      ]
     },
     "execution_count": 156,
     "metadata": {},
     "output_type": "execute_result"
    }
   ],
   "source": [
    "ava_df.describe()"
   ]
  },
  {
   "cell_type": "markdown",
   "metadata": {},
   "source": [
    "statistics data shows that outliers are mostly in XLargeBags"
   ]
  },
  {
   "cell_type": "markdown",
   "metadata": {},
   "source": [
    "There are some columns are having high difference between mean and 50% value those are used to get fix for better prediction"
   ]
  },
  {
   "cell_type": "markdown",
   "metadata": {},
   "source": [
    "Number of rows in each column are same, means there are no null values in given data"
   ]
  },
  {
   "cell_type": "markdown",
   "metadata": {},
   "source": [
    "The difference between the 75% and max value there are outliers in some of the column, we need to check."
   ]
  },
  {
   "cell_type": "markdown",
   "metadata": {},
   "source": [
    "## Data Visuvalization"
   ]
  },
  {
   "cell_type": "markdown",
   "metadata": {},
   "source": [
    "##### Comparing year and price to check which year avacado has highest average price"
   ]
  },
  {
   "cell_type": "code",
   "execution_count": 157,
   "metadata": {},
   "outputs": [
    {
     "data": {
      "text/plain": [
       "<matplotlib.axes._subplots.AxesSubplot at 0x24c7bd7a6d0>"
      ]
     },
     "execution_count": 157,
     "metadata": {},
     "output_type": "execute_result"
    },
    {
     "data": {
      "image/png": "[encoded data removed]",
      "text/plain": [
       "<Figure size 432x288 with 1 Axes>"
      ]
     },
     "metadata": {},
     "output_type": "display_data"
    }
   ],
   "source": [
    "sns.barplot(x= 'year', y = 'AveragePrice', data = ava_df)"
   ]
  },
  {
   "cell_type": "markdown",
   "metadata": {},
   "source": [
    "The graph showing 2016 year has high average price compared to 2015"
   ]
  },
  {
   "cell_type": "markdown",
   "metadata": {},
   "source": [
    "##### Comparing month and price to check which month avacado has highest average price"
   ]
  },
  {
   "cell_type": "code",
   "execution_count": 158,
   "metadata": {},
   "outputs": [
    {
     "data": {
      "text/plain": [
       "<matplotlib.axes._subplots.AxesSubplot at 0x24c7bda63d0>"
      ]
     },
     "execution_count": 158,
     "metadata": {},
     "output_type": "execute_result"
    },
    {
     "data": {
      "image/png": "[encoded data removed]",
      "text/plain": [
       "<Figure size 432x288 with 1 Axes>"
      ]
     },
     "metadata": {},
     "output_type": "display_data"
    }
   ],
   "source": [
    "sns.barplot(x= 'Month', y = 'AveragePrice', data = ava_df)"
   ]
  },
  {
   "cell_type": "markdown",
   "metadata": {},
   "source": [
    "Almost for whole year the price is almost same for the avocado this prove that there is so much craze of avocado in USA."
   ]
  },
  {
   "cell_type": "markdown",
   "metadata": {},
   "source": [
    "Even that case also Feb and Nov are the month where max no of average price is there."
   ]
  },
  {
   "cell_type": "markdown",
   "metadata": {},
   "source": [
    "##### Comparing Day and price to check avacado's average price changes day by day in a month"
   ]
  },
  {
   "cell_type": "code",
   "execution_count": 159,
   "metadata": {},
   "outputs": [
    {
     "data": {
      "image/png": "[encoded data removed]",
      "text/plain": [
       "<Figure size 648x360 with 1 Axes>"
      ]
     },
     "metadata": {},
     "output_type": "display_data"
    }
   ],
   "source": [
    "sns.set(font_scale=1) \n",
    "plt.figure(figsize=(9,5))\n",
    "#sns.barplot(x= 'Day', y = 'AveragePrice', data = ava_df)\n",
    "\n",
    "sns.lineplot(x=\"Day\", y=\"AveragePrice\", hue='type', data=ava_df)\n",
    "plt.show()"
   ]
  },
  {
   "cell_type": "markdown",
   "metadata": {},
   "source": [
    "We can See that there is significan hike in average price at the month end till 30day"
   ]
  },
  {
   "cell_type": "markdown",
   "metadata": {},
   "source": [
    "## Deal with Skewness"
   ]
  },
  {
   "cell_type": "code",
   "execution_count": 160,
   "metadata": {},
   "outputs": [
    {
     "data": {
      "text/plain": [
       "AveragePrice   -0.109444\n",
       "Total Volume    6.200138\n",
       "4046            6.051830\n",
       "4225            6.394926\n",
       "4770            5.405164\n",
       "Total Bags      5.366378\n",
       "Small Bags      5.355185\n",
       "Large Bags      5.144495\n",
       "XLarge Bags     5.775077\n",
       "type            0.000000\n",
       "year            1.828332\n",
       "Month           0.101439\n",
       "Day             0.041303\n",
       "dtype: float64"
      ]
     },
     "execution_count": 160,
     "metadata": {},
     "output_type": "execute_result"
    }
   ],
   "source": [
    "ava_df.skew()"
   ]
  },
  {
   "cell_type": "markdown",
   "metadata": {},
   "source": [
    "skew value is more than or equal to 0.55, which means it has to be skewed to less than or equal to 0.55"
   ]
  },
  {
   "cell_type": "markdown",
   "metadata": {},
   "source": [
    "Making the skew less than or equal to 0.55 for better prediction and plotting Normal distribution"
   ]
  },
  {
   "cell_type": "code",
   "execution_count": 161,
   "metadata": {},
   "outputs": [],
   "source": [
    "skew_val = (\"Total Volume\",'4046','4225','4770','Total Bags','Small Bags','Large Bags','XLarge Bags')\n",
    "for col in skew_val:\n",
    "    if ava_df.skew().loc[col]>0.55:\n",
    "        ava_df[col]= np.log1p(ava_df[col])"
   ]
  },
  {
   "cell_type": "code",
   "execution_count": 162,
   "metadata": {},
   "outputs": [
    {
     "data": {
      "text/plain": [
       "AveragePrice   -0.109444\n",
       "Total Volume    0.667468\n",
       "4046           -0.160268\n",
       "4225            0.184436\n",
       "4770           -0.355508\n",
       "Total Bags      0.695502\n",
       "Small Bags      0.713843\n",
       "Large Bags     -0.912766\n",
       "XLarge Bags     0.783913\n",
       "type            0.000000\n",
       "year            1.828332\n",
       "Month           0.101439\n",
       "Day             0.041303\n",
       "dtype: float64"
      ]
     },
     "execution_count": 162,
     "metadata": {},
     "output_type": "execute_result"
    }
   ],
   "source": [
    "ava_df.skew()"
   ]
  },
  {
   "cell_type": "code",
   "execution_count": 163,
   "metadata": {},
   "outputs": [
    {
     "data": {
      "text/plain": [
       "AveragePrice   -0.109444\n",
       "Total Volume    0.667468\n",
       "4046           -0.160268\n",
       "4225            0.184436\n",
       "4770           -0.355508\n",
       "Total Bags      0.695502\n",
       "Small Bags      0.713843\n",
       "Large Bags     -0.912766\n",
       "XLarge Bags     0.783913\n",
       "type            0.000000\n",
       "year            1.828332\n",
       "Month           0.101439\n",
       "Day             0.041303\n",
       "dtype: float64"
      ]
     },
     "execution_count": 163,
     "metadata": {},
     "output_type": "execute_result"
    }
   ],
   "source": [
    "ava_df.skew()"
   ]
  },
  {
   "cell_type": "markdown",
   "metadata": {},
   "source": [
    "We can see the difference between the first skewed data and second skewed data, now the skewness value is very nearer to zero which will help to get the better score"
   ]
  },
  {
   "cell_type": "markdown",
   "metadata": {},
   "source": [
    "## Label Encoding"
   ]
  },
  {
   "cell_type": "code",
   "execution_count": 164,
   "metadata": {},
   "outputs": [
    {
     "data": {
      "text/plain": [
       "AveragePrice    float64\n",
       "Total Volume    float64\n",
       "4046            float64\n",
       "4225            float64\n",
       "4770            float64\n",
       "Total Bags      float64\n",
       "Small Bags      float64\n",
       "Large Bags      float64\n",
       "XLarge Bags     float64\n",
       "type              int64\n",
       "year              int64\n",
       "region           object\n",
       "Month             int64\n",
       "Day               int64\n",
       "dtype: object"
      ]
     },
     "execution_count": 164,
     "metadata": {},
     "output_type": "execute_result"
    }
   ],
   "source": [
    "ava_df.dtypes"
   ]
  },
  {
   "cell_type": "code",
   "execution_count": 165,
   "metadata": {},
   "outputs": [],
   "source": [
    "#creating new dataframe contains object datatype to encoding purpose\n",
    "obj_df = ava_df.select_dtypes(include=['object']).copy()"
   ]
  },
  {
   "cell_type": "code",
   "execution_count": 166,
   "metadata": {},
   "outputs": [
    {
     "data": {
      "text/html": [
       "<div>\n",
       "<style scoped>\n",
       "    .dataframe tbody tr th:only-of-type {\n",
       "        vertical-align: middle;\n",
       "    }\n",
       "\n",
       "    .dataframe tbody tr th {\n",
       "        vertical-align: top;\n",
       "    }\n",
       "\n",
       "    .dataframe thead th {\n",
       "        text-align: right;\n",
       "    }\n",
       "</style>\n",
       "<table border=\"1\" class=\"dataframe\">\n",
       "  <thead>\n",
       "    <tr style=\"text-align: right;\">\n",
       "      <th></th>\n",
       "      <th>region</th>\n",
       "      <th>region_label</th>\n",
       "    </tr>\n",
       "  </thead>\n",
       "  <tbody>\n",
       "    <tr>\n",
       "      <th>0</th>\n",
       "      <td>Albany</td>\n",
       "      <td>0</td>\n",
       "    </tr>\n",
       "    <tr>\n",
       "      <th>1</th>\n",
       "      <td>Albany</td>\n",
       "      <td>0</td>\n",
       "    </tr>\n",
       "    <tr>\n",
       "      <th>2</th>\n",
       "      <td>Albany</td>\n",
       "      <td>0</td>\n",
       "    </tr>\n",
       "    <tr>\n",
       "      <th>3</th>\n",
       "      <td>Albany</td>\n",
       "      <td>0</td>\n",
       "    </tr>\n",
       "    <tr>\n",
       "      <th>4</th>\n",
       "      <td>Albany</td>\n",
       "      <td>0</td>\n",
       "    </tr>\n",
       "    <tr>\n",
       "      <th>...</th>\n",
       "      <td>...</td>\n",
       "      <td>...</td>\n",
       "    </tr>\n",
       "    <tr>\n",
       "      <th>95</th>\n",
       "      <td>BaltimoreWashington</td>\n",
       "      <td>2</td>\n",
       "    </tr>\n",
       "    <tr>\n",
       "      <th>96</th>\n",
       "      <td>BaltimoreWashington</td>\n",
       "      <td>2</td>\n",
       "    </tr>\n",
       "    <tr>\n",
       "      <th>97</th>\n",
       "      <td>BaltimoreWashington</td>\n",
       "      <td>2</td>\n",
       "    </tr>\n",
       "    <tr>\n",
       "      <th>98</th>\n",
       "      <td>BaltimoreWashington</td>\n",
       "      <td>2</td>\n",
       "    </tr>\n",
       "    <tr>\n",
       "      <th>99</th>\n",
       "      <td>BaltimoreWashington</td>\n",
       "      <td>2</td>\n",
       "    </tr>\n",
       "  </tbody>\n",
       "</table>\n",
       "<p>100 rows × 2 columns</p>\n",
       "</div>"
      ],
      "text/plain": [
       "                 region  region_label\n",
       "0                Albany             0\n",
       "1                Albany             0\n",
       "2                Albany             0\n",
       "3                Albany             0\n",
       "4                Albany             0\n",
       "..                  ...           ...\n",
       "95  BaltimoreWashington             2\n",
       "96  BaltimoreWashington             2\n",
       "97  BaltimoreWashington             2\n",
       "98  BaltimoreWashington             2\n",
       "99  BaltimoreWashington             2\n",
       "\n",
       "[100 rows x 2 columns]"
      ]
     },
     "execution_count": 166,
     "metadata": {},
     "output_type": "execute_result"
    }
   ],
   "source": [
    "Le = LabelEncoder()\n",
    "obj_df[\"region_label\"] = Le.fit_transform(obj_df[\"region\"])\n",
    "obj_df[[\"region\", \"region_label\"]].head(100)"
   ]
  },
  {
   "cell_type": "markdown",
   "metadata": {},
   "source": [
    "Region coulmn has multiple values to encoding, so we used label encoder to get it done"
   ]
  },
  {
   "cell_type": "code",
   "execution_count": 167,
   "metadata": {},
   "outputs": [
    {
     "data": {
      "text/html": [
       "<div>\n",
       "<style scoped>\n",
       "    .dataframe tbody tr th:only-of-type {\n",
       "        vertical-align: middle;\n",
       "    }\n",
       "\n",
       "    .dataframe tbody tr th {\n",
       "        vertical-align: top;\n",
       "    }\n",
       "\n",
       "    .dataframe thead th {\n",
       "        text-align: right;\n",
       "    }\n",
       "</style>\n",
       "<table border=\"1\" class=\"dataframe\">\n",
       "  <thead>\n",
       "    <tr style=\"text-align: right;\">\n",
       "      <th></th>\n",
       "      <th>AveragePrice</th>\n",
       "      <th>Total Volume</th>\n",
       "      <th>4046</th>\n",
       "      <th>4225</th>\n",
       "      <th>4770</th>\n",
       "      <th>Total Bags</th>\n",
       "      <th>Small Bags</th>\n",
       "      <th>Large Bags</th>\n",
       "      <th>XLarge Bags</th>\n",
       "      <th>type</th>\n",
       "      <th>year</th>\n",
       "      <th>Month</th>\n",
       "      <th>Day</th>\n",
       "    </tr>\n",
       "  </thead>\n",
       "  <tbody>\n",
       "    <tr>\n",
       "      <th>0</th>\n",
       "      <td>1.33</td>\n",
       "      <td>11.070344</td>\n",
       "      <td>6.944801</td>\n",
       "      <td>10.905146</td>\n",
       "      <td>3.895080</td>\n",
       "      <td>9.070833</td>\n",
       "      <td>9.060055</td>\n",
       "      <td>4.545951</td>\n",
       "      <td>0.0</td>\n",
       "      <td>1</td>\n",
       "      <td>2015</td>\n",
       "      <td>12</td>\n",
       "      <td>27</td>\n",
       "    </tr>\n",
       "    <tr>\n",
       "      <th>1</th>\n",
       "      <td>1.35</td>\n",
       "      <td>10.912867</td>\n",
       "      <td>6.515127</td>\n",
       "      <td>10.706381</td>\n",
       "      <td>4.083115</td>\n",
       "      <td>9.159737</td>\n",
       "      <td>9.149429</td>\n",
       "      <td>4.589955</td>\n",
       "      <td>0.0</td>\n",
       "      <td>1</td>\n",
       "      <td>2015</td>\n",
       "      <td>12</td>\n",
       "      <td>20</td>\n",
       "    </tr>\n",
       "    <tr>\n",
       "      <th>2</th>\n",
       "      <td>0.93</td>\n",
       "      <td>11.680313</td>\n",
       "      <td>6.679222</td>\n",
       "      <td>11.600485</td>\n",
       "      <td>4.879007</td>\n",
       "      <td>9.005325</td>\n",
       "      <td>8.992584</td>\n",
       "      <td>4.645736</td>\n",
       "      <td>0.0</td>\n",
       "      <td>1</td>\n",
       "      <td>2015</td>\n",
       "      <td>12</td>\n",
       "      <td>13</td>\n",
       "    </tr>\n",
       "    <tr>\n",
       "      <th>3</th>\n",
       "      <td>1.08</td>\n",
       "      <td>11.277116</td>\n",
       "      <td>7.032624</td>\n",
       "      <td>11.184108</td>\n",
       "      <td>4.298373</td>\n",
       "      <td>8.667708</td>\n",
       "      <td>8.644425</td>\n",
       "      <td>4.903495</td>\n",
       "      <td>0.0</td>\n",
       "      <td>1</td>\n",
       "      <td>2015</td>\n",
       "      <td>6</td>\n",
       "      <td>12</td>\n",
       "    </tr>\n",
       "    <tr>\n",
       "      <th>4</th>\n",
       "      <td>1.28</td>\n",
       "      <td>10.840377</td>\n",
       "      <td>6.848515</td>\n",
       "      <td>10.688288</td>\n",
       "      <td>4.340944</td>\n",
       "      <td>8.729874</td>\n",
       "      <td>8.697389</td>\n",
       "      <td>5.291746</td>\n",
       "      <td>0.0</td>\n",
       "      <td>1</td>\n",
       "      <td>2015</td>\n",
       "      <td>11</td>\n",
       "      <td>29</td>\n",
       "    </tr>\n",
       "  </tbody>\n",
       "</table>\n",
       "</div>"
      ],
      "text/plain": [
       "   AveragePrice  Total Volume      4046       4225      4770  Total Bags  \\\n",
       "0          1.33     11.070344  6.944801  10.905146  3.895080    9.070833   \n",
       "1          1.35     10.912867  6.515127  10.706381  4.083115    9.159737   \n",
       "2          0.93     11.680313  6.679222  11.600485  4.879007    9.005325   \n",
       "3          1.08     11.277116  7.032624  11.184108  4.298373    8.667708   \n",
       "4          1.28     10.840377  6.848515  10.688288  4.340944    8.729874   \n",
       "\n",
       "   Small Bags  Large Bags  XLarge Bags  type  year  Month  Day  \n",
       "0    9.060055    4.545951          0.0     1  2015     12   27  \n",
       "1    9.149429    4.589955          0.0     1  2015     12   20  \n",
       "2    8.992584    4.645736          0.0     1  2015     12   13  \n",
       "3    8.644425    4.903495          0.0     1  2015      6   12  \n",
       "4    8.697389    5.291746          0.0     1  2015     11   29  "
      ]
     },
     "execution_count": 167,
     "metadata": {},
     "output_type": "execute_result"
    }
   ],
   "source": [
    "ava_df.drop('region', axis = 1, inplace=True)\n",
    "ava_df.head()"
   ]
  },
  {
   "cell_type": "code",
   "execution_count": 168,
   "metadata": {},
   "outputs": [
    {
     "data": {
      "text/html": [
       "<div>\n",
       "<style scoped>\n",
       "    .dataframe tbody tr th:only-of-type {\n",
       "        vertical-align: middle;\n",
       "    }\n",
       "\n",
       "    .dataframe tbody tr th {\n",
       "        vertical-align: top;\n",
       "    }\n",
       "\n",
       "    .dataframe thead th {\n",
       "        text-align: right;\n",
       "    }\n",
       "</style>\n",
       "<table border=\"1\" class=\"dataframe\">\n",
       "  <thead>\n",
       "    <tr style=\"text-align: right;\">\n",
       "      <th></th>\n",
       "      <th>AveragePrice</th>\n",
       "      <th>Total Volume</th>\n",
       "      <th>4046</th>\n",
       "      <th>4225</th>\n",
       "      <th>4770</th>\n",
       "      <th>Total Bags</th>\n",
       "      <th>Small Bags</th>\n",
       "      <th>Large Bags</th>\n",
       "      <th>XLarge Bags</th>\n",
       "      <th>type</th>\n",
       "      <th>year</th>\n",
       "      <th>Month</th>\n",
       "      <th>Day</th>\n",
       "      <th>region</th>\n",
       "      <th>region_label</th>\n",
       "    </tr>\n",
       "  </thead>\n",
       "  <tbody>\n",
       "    <tr>\n",
       "      <th>0</th>\n",
       "      <td>1.33</td>\n",
       "      <td>11.070344</td>\n",
       "      <td>6.944801</td>\n",
       "      <td>10.905146</td>\n",
       "      <td>3.895080</td>\n",
       "      <td>9.070833</td>\n",
       "      <td>9.060055</td>\n",
       "      <td>4.545951</td>\n",
       "      <td>0.0</td>\n",
       "      <td>1</td>\n",
       "      <td>2015</td>\n",
       "      <td>12</td>\n",
       "      <td>27</td>\n",
       "      <td>Albany</td>\n",
       "      <td>0</td>\n",
       "    </tr>\n",
       "    <tr>\n",
       "      <th>1</th>\n",
       "      <td>1.35</td>\n",
       "      <td>10.912867</td>\n",
       "      <td>6.515127</td>\n",
       "      <td>10.706381</td>\n",
       "      <td>4.083115</td>\n",
       "      <td>9.159737</td>\n",
       "      <td>9.149429</td>\n",
       "      <td>4.589955</td>\n",
       "      <td>0.0</td>\n",
       "      <td>1</td>\n",
       "      <td>2015</td>\n",
       "      <td>12</td>\n",
       "      <td>20</td>\n",
       "      <td>Albany</td>\n",
       "      <td>0</td>\n",
       "    </tr>\n",
       "    <tr>\n",
       "      <th>2</th>\n",
       "      <td>0.93</td>\n",
       "      <td>11.680313</td>\n",
       "      <td>6.679222</td>\n",
       "      <td>11.600485</td>\n",
       "      <td>4.879007</td>\n",
       "      <td>9.005325</td>\n",
       "      <td>8.992584</td>\n",
       "      <td>4.645736</td>\n",
       "      <td>0.0</td>\n",
       "      <td>1</td>\n",
       "      <td>2015</td>\n",
       "      <td>12</td>\n",
       "      <td>13</td>\n",
       "      <td>Albany</td>\n",
       "      <td>0</td>\n",
       "    </tr>\n",
       "    <tr>\n",
       "      <th>3</th>\n",
       "      <td>1.08</td>\n",
       "      <td>11.277116</td>\n",
       "      <td>7.032624</td>\n",
       "      <td>11.184108</td>\n",
       "      <td>4.298373</td>\n",
       "      <td>8.667708</td>\n",
       "      <td>8.644425</td>\n",
       "      <td>4.903495</td>\n",
       "      <td>0.0</td>\n",
       "      <td>1</td>\n",
       "      <td>2015</td>\n",
       "      <td>6</td>\n",
       "      <td>12</td>\n",
       "      <td>Albany</td>\n",
       "      <td>0</td>\n",
       "    </tr>\n",
       "    <tr>\n",
       "      <th>4</th>\n",
       "      <td>1.28</td>\n",
       "      <td>10.840377</td>\n",
       "      <td>6.848515</td>\n",
       "      <td>10.688288</td>\n",
       "      <td>4.340944</td>\n",
       "      <td>8.729874</td>\n",
       "      <td>8.697389</td>\n",
       "      <td>5.291746</td>\n",
       "      <td>0.0</td>\n",
       "      <td>1</td>\n",
       "      <td>2015</td>\n",
       "      <td>11</td>\n",
       "      <td>29</td>\n",
       "      <td>Albany</td>\n",
       "      <td>0</td>\n",
       "    </tr>\n",
       "  </tbody>\n",
       "</table>\n",
       "</div>"
      ],
      "text/plain": [
       "   AveragePrice  Total Volume      4046       4225      4770  Total Bags  \\\n",
       "0          1.33     11.070344  6.944801  10.905146  3.895080    9.070833   \n",
       "1          1.35     10.912867  6.515127  10.706381  4.083115    9.159737   \n",
       "2          0.93     11.680313  6.679222  11.600485  4.879007    9.005325   \n",
       "3          1.08     11.277116  7.032624  11.184108  4.298373    8.667708   \n",
       "4          1.28     10.840377  6.848515  10.688288  4.340944    8.729874   \n",
       "\n",
       "   Small Bags  Large Bags  XLarge Bags  type  year  Month  Day  region  \\\n",
       "0    9.060055    4.545951          0.0     1  2015     12   27  Albany   \n",
       "1    9.149429    4.589955          0.0     1  2015     12   20  Albany   \n",
       "2    8.992584    4.645736          0.0     1  2015     12   13  Albany   \n",
       "3    8.644425    4.903495          0.0     1  2015      6   12  Albany   \n",
       "4    8.697389    5.291746          0.0     1  2015     11   29  Albany   \n",
       "\n",
       "   region_label  \n",
       "0             0  \n",
       "1             0  \n",
       "2             0  \n",
       "3             0  \n",
       "4             0  "
      ]
     },
     "execution_count": 168,
     "metadata": {},
     "output_type": "execute_result"
    }
   ],
   "source": [
    "ava_df = pd.concat([ava_df, obj_df], axis=1)\n",
    "ava_df.head()"
   ]
  },
  {
   "cell_type": "code",
   "execution_count": 169,
   "metadata": {},
   "outputs": [
    {
     "data": {
      "text/html": [
       "<div>\n",
       "<style scoped>\n",
       "    .dataframe tbody tr th:only-of-type {\n",
       "        vertical-align: middle;\n",
       "    }\n",
       "\n",
       "    .dataframe tbody tr th {\n",
       "        vertical-align: top;\n",
       "    }\n",
       "\n",
       "    .dataframe thead th {\n",
       "        text-align: right;\n",
       "    }\n",
       "</style>\n",
       "<table border=\"1\" class=\"dataframe\">\n",
       "  <thead>\n",
       "    <tr style=\"text-align: right;\">\n",
       "      <th></th>\n",
       "      <th>AveragePrice</th>\n",
       "      <th>Total Volume</th>\n",
       "      <th>4046</th>\n",
       "      <th>4225</th>\n",
       "      <th>4770</th>\n",
       "      <th>Total Bags</th>\n",
       "      <th>Small Bags</th>\n",
       "      <th>Large Bags</th>\n",
       "      <th>XLarge Bags</th>\n",
       "      <th>type</th>\n",
       "      <th>year</th>\n",
       "      <th>Month</th>\n",
       "      <th>Day</th>\n",
       "      <th>region_label</th>\n",
       "    </tr>\n",
       "  </thead>\n",
       "  <tbody>\n",
       "    <tr>\n",
       "      <th>0</th>\n",
       "      <td>1.33</td>\n",
       "      <td>11.070344</td>\n",
       "      <td>6.944801</td>\n",
       "      <td>10.905146</td>\n",
       "      <td>3.895080</td>\n",
       "      <td>9.070833</td>\n",
       "      <td>9.060055</td>\n",
       "      <td>4.545951</td>\n",
       "      <td>0.0</td>\n",
       "      <td>1</td>\n",
       "      <td>2015</td>\n",
       "      <td>12</td>\n",
       "      <td>27</td>\n",
       "      <td>0</td>\n",
       "    </tr>\n",
       "    <tr>\n",
       "      <th>1</th>\n",
       "      <td>1.35</td>\n",
       "      <td>10.912867</td>\n",
       "      <td>6.515127</td>\n",
       "      <td>10.706381</td>\n",
       "      <td>4.083115</td>\n",
       "      <td>9.159737</td>\n",
       "      <td>9.149429</td>\n",
       "      <td>4.589955</td>\n",
       "      <td>0.0</td>\n",
       "      <td>1</td>\n",
       "      <td>2015</td>\n",
       "      <td>12</td>\n",
       "      <td>20</td>\n",
       "      <td>0</td>\n",
       "    </tr>\n",
       "    <tr>\n",
       "      <th>2</th>\n",
       "      <td>0.93</td>\n",
       "      <td>11.680313</td>\n",
       "      <td>6.679222</td>\n",
       "      <td>11.600485</td>\n",
       "      <td>4.879007</td>\n",
       "      <td>9.005325</td>\n",
       "      <td>8.992584</td>\n",
       "      <td>4.645736</td>\n",
       "      <td>0.0</td>\n",
       "      <td>1</td>\n",
       "      <td>2015</td>\n",
       "      <td>12</td>\n",
       "      <td>13</td>\n",
       "      <td>0</td>\n",
       "    </tr>\n",
       "    <tr>\n",
       "      <th>3</th>\n",
       "      <td>1.08</td>\n",
       "      <td>11.277116</td>\n",
       "      <td>7.032624</td>\n",
       "      <td>11.184108</td>\n",
       "      <td>4.298373</td>\n",
       "      <td>8.667708</td>\n",
       "      <td>8.644425</td>\n",
       "      <td>4.903495</td>\n",
       "      <td>0.0</td>\n",
       "      <td>1</td>\n",
       "      <td>2015</td>\n",
       "      <td>6</td>\n",
       "      <td>12</td>\n",
       "      <td>0</td>\n",
       "    </tr>\n",
       "    <tr>\n",
       "      <th>4</th>\n",
       "      <td>1.28</td>\n",
       "      <td>10.840377</td>\n",
       "      <td>6.848515</td>\n",
       "      <td>10.688288</td>\n",
       "      <td>4.340944</td>\n",
       "      <td>8.729874</td>\n",
       "      <td>8.697389</td>\n",
       "      <td>5.291746</td>\n",
       "      <td>0.0</td>\n",
       "      <td>1</td>\n",
       "      <td>2015</td>\n",
       "      <td>11</td>\n",
       "      <td>29</td>\n",
       "      <td>0</td>\n",
       "    </tr>\n",
       "  </tbody>\n",
       "</table>\n",
       "</div>"
      ],
      "text/plain": [
       "   AveragePrice  Total Volume      4046       4225      4770  Total Bags  \\\n",
       "0          1.33     11.070344  6.944801  10.905146  3.895080    9.070833   \n",
       "1          1.35     10.912867  6.515127  10.706381  4.083115    9.159737   \n",
       "2          0.93     11.680313  6.679222  11.600485  4.879007    9.005325   \n",
       "3          1.08     11.277116  7.032624  11.184108  4.298373    8.667708   \n",
       "4          1.28     10.840377  6.848515  10.688288  4.340944    8.729874   \n",
       "\n",
       "   Small Bags  Large Bags  XLarge Bags  type  year  Month  Day  region_label  \n",
       "0    9.060055    4.545951          0.0     1  2015     12   27             0  \n",
       "1    9.149429    4.589955          0.0     1  2015     12   20             0  \n",
       "2    8.992584    4.645736          0.0     1  2015     12   13             0  \n",
       "3    8.644425    4.903495          0.0     1  2015      6   12             0  \n",
       "4    8.697389    5.291746          0.0     1  2015     11   29             0  "
      ]
     },
     "execution_count": 169,
     "metadata": {},
     "output_type": "execute_result"
    }
   ],
   "source": [
    "ava_df.drop('region', axis = 1, inplace=True)\n",
    "ava_df.head()"
   ]
  },
  {
   "cell_type": "markdown",
   "metadata": {},
   "source": [
    "## Deal with Outliers"
   ]
  },
  {
   "cell_type": "markdown",
   "metadata": {},
   "source": [
    "###### To get outlier details we use boxplot for each column"
   ]
  },
  {
   "cell_type": "code",
   "execution_count": 170,
   "metadata": {},
   "outputs": [
    {
     "data": {
      "text/plain": [
       "AveragePrice        AxesSubplot(0.125,0.71587;0.133621x0.16413)\n",
       "Total Volume     AxesSubplot(0.285345,0.71587;0.133621x0.16413)\n",
       "4046              AxesSubplot(0.44569,0.71587;0.133621x0.16413)\n",
       "4225             AxesSubplot(0.606034,0.71587;0.133621x0.16413)\n",
       "4770             AxesSubplot(0.766379,0.71587;0.133621x0.16413)\n",
       "Total Bags         AxesSubplot(0.125,0.518913;0.133621x0.16413)\n",
       "Small Bags      AxesSubplot(0.285345,0.518913;0.133621x0.16413)\n",
       "Large Bags       AxesSubplot(0.44569,0.518913;0.133621x0.16413)\n",
       "XLarge Bags     AxesSubplot(0.606034,0.518913;0.133621x0.16413)\n",
       "type            AxesSubplot(0.766379,0.518913;0.133621x0.16413)\n",
       "year               AxesSubplot(0.125,0.321957;0.133621x0.16413)\n",
       "Month           AxesSubplot(0.285345,0.321957;0.133621x0.16413)\n",
       "Day              AxesSubplot(0.44569,0.321957;0.133621x0.16413)\n",
       "region_label    AxesSubplot(0.606034,0.321957;0.133621x0.16413)\n",
       "dtype: object"
      ]
     },
     "execution_count": 170,
     "metadata": {},
     "output_type": "execute_result"
    },
    {
     "data": {
      "image/png": "[encoded data removed]",
      "text/plain": [
       "<Figure size 1080x720 with 20 Axes>"
      ]
     },
     "metadata": {},
     "output_type": "display_data"
    }
   ],
   "source": [
    "ava_df.plot(kind = 'box', subplots = True, layout = (4,5), figsize= (15,10))"
   ]
  },
  {
   "cell_type": "markdown",
   "metadata": {},
   "source": [
    "From the above box plots, we can observe outliers in some columns like \"Average Price, Total Volume, Total Bags, Small Bags\" as black dots in charts"
   ]
  },
  {
   "cell_type": "markdown",
   "metadata": {},
   "source": [
    "We need to remove these outlier values from data to get best score, for this we are using ZSCORE methode"
   ]
  },
  {
   "cell_type": "markdown",
   "metadata": {},
   "source": [
    "##### Zscore calculation to identify outlier values"
   ]
  },
  {
   "cell_type": "code",
   "execution_count": 171,
   "metadata": {},
   "outputs": [
    {
     "name": "stdout",
     "output_type": "stream",
     "text": [
      "[[1.35048079 1.35676174 1.82816171 ... 1.62415427 1.31052998 1.3143384 ]\n",
      " [1.45639674 1.46638736 2.01206913 ... 1.62415427 0.52953678 1.3143384 ]\n",
      " [0.76783831 0.9321394  1.94183376 ... 1.62415427 0.25145642 1.3143384 ]\n",
      " ...\n",
      " [2.14485045 0.64565294 0.20190426 ... 1.25685839 0.58616779 0.88028586]\n",
      " [2.09189247 0.60503087 0.13577946 ... 0.75985047 1.08738906 0.88028586]\n",
      " [1.88006056 0.62805557 0.23299293 ... 0.75985047 0.30639586 0.88028586]]\n"
     ]
    }
   ],
   "source": [
    "z_score = np.abs(stats.zscore(ava_df))\n",
    "print(z_score)"
   ]
  },
  {
   "cell_type": "code",
   "execution_count": 172,
   "metadata": {},
   "outputs": [
    {
     "name": "stdout",
     "output_type": "stream",
     "text": [
      "(array([ 760, 1182, 1182, 1182, 1183, 1183, 1183, 1184, 1184, 1184, 1185,\n",
      "       1185, 1185, 1186, 1186, 1186, 1187, 1188, 1188, 1188, 1189, 1189,\n",
      "       1191, 1202, 1346, 1411, 1457, 1458], dtype=int64), array([0, 1, 5, 6, 1, 5, 6, 1, 5, 6, 1, 5, 6, 1, 5, 6, 6, 1, 5, 6, 1, 5,\n",
      "       5, 1, 4, 0, 0, 0], dtype=int64))\n"
     ]
    }
   ],
   "source": [
    "threshold = 3\n",
    "print(np.where(z_score > 3))"
   ]
  },
  {
   "cell_type": "markdown",
   "metadata": {},
   "source": [
    "Using threshold values 3, we can identify 15 number of outliers and above are the indices of that 15 number of outliers"
   ]
  },
  {
   "cell_type": "markdown",
   "metadata": {},
   "source": [
    "###### Removing Outliers based on threshold value"
   ]
  },
  {
   "cell_type": "code",
   "execution_count": 173,
   "metadata": {},
   "outputs": [],
   "source": [
    "ava_df_z = ava_df[z_score>3]\n",
    "ava_df_z = ava_df_z[~ava_df_z.index.duplicated(keep='first')]\n",
    "ava_df_new = pd.concat([ava_df, ava_df_z, ava_df_z]).drop_duplicates(keep=False)"
   ]
  },
  {
   "cell_type": "code",
   "execution_count": 174,
   "metadata": {},
   "outputs": [
    {
     "name": "stdout",
     "output_type": "stream",
     "text": [
      "(1517, 14)\n",
      "(1502, 14)\n"
     ]
    }
   ],
   "source": [
    "print(ava_df.shape)\n",
    "print(ava_df_new.shape)"
   ]
  },
  {
   "cell_type": "markdown",
   "metadata": {},
   "source": [
    "We can see the difference between two dataframes, i.e., shape of the dataframe with outliers(ava_df) and shape of the dataframe without outliers(ava_df_new) there was 15 rows removed as outliers"
   ]
  },
  {
   "cell_type": "markdown",
   "metadata": {},
   "source": [
    "## Analyzing Correlation Matrix"
   ]
  },
  {
   "cell_type": "markdown",
   "metadata": {},
   "source": [
    "###### Correlation of all column to eachother"
   ]
  },
  {
   "cell_type": "code",
   "execution_count": 175,
   "metadata": {},
   "outputs": [
    {
     "data": {
      "text/plain": [
       "[]"
      ]
     },
     "execution_count": 175,
     "metadata": {},
     "output_type": "execute_result"
    },
    {
     "data": {
      "image/png": "[encoded data removed]",
      "text/plain": [
       "<Figure size 1800x1440 with 2 Axes>"
      ]
     },
     "metadata": {},
     "output_type": "display_data"
    }
   ],
   "source": [
    "ava_df_cor = ava_df_new.corr()\n",
    "plt.figure(figsize=(25,20))\n",
    "sns.heatmap(ava_df_cor, annot=True)\n",
    "plt.plot()"
   ]
  },
  {
   "cell_type": "markdown",
   "metadata": {},
   "source": [
    "From the above heatmap, most the value is positive means that columns are much co related"
   ]
  },
  {
   "cell_type": "markdown",
   "metadata": {},
   "source": [
    "## Standard scaling of data"
   ]
  },
  {
   "cell_type": "markdown",
   "metadata": {},
   "source": [
    "###### Now divide the dataset into two types one is input and another is output"
   ]
  },
  {
   "cell_type": "code",
   "execution_count": 176,
   "metadata": {},
   "outputs": [],
   "source": [
    "df_x = ava_df_new.drop(columns=['AveragePrice','Month','Day'])"
   ]
  },
  {
   "cell_type": "code",
   "execution_count": 177,
   "metadata": {},
   "outputs": [],
   "source": [
    "y = ava_df_new['AveragePrice']"
   ]
  },
  {
   "cell_type": "code",
   "execution_count": 178,
   "metadata": {},
   "outputs": [
    {
     "data": {
      "text/plain": [
       "(1502, 11)"
      ]
     },
     "execution_count": 178,
     "metadata": {},
     "output_type": "execute_result"
    }
   ],
   "source": [
    "#converting the input into integers using get_dummies\n",
    "df_x=pd.get_dummies(df_x,drop_first=True)\n",
    "\n",
    "df_x.shape"
   ]
  },
  {
   "cell_type": "code",
   "execution_count": 179,
   "metadata": {},
   "outputs": [
    {
     "data": {
      "text/html": [
       "<div>\n",
       "<style scoped>\n",
       "    .dataframe tbody tr th:only-of-type {\n",
       "        vertical-align: middle;\n",
       "    }\n",
       "\n",
       "    .dataframe tbody tr th {\n",
       "        vertical-align: top;\n",
       "    }\n",
       "\n",
       "    .dataframe thead th {\n",
       "        text-align: right;\n",
       "    }\n",
       "</style>\n",
       "<table border=\"1\" class=\"dataframe\">\n",
       "  <thead>\n",
       "    <tr style=\"text-align: right;\">\n",
       "      <th></th>\n",
       "      <th>Total Volume</th>\n",
       "      <th>4046</th>\n",
       "      <th>4225</th>\n",
       "      <th>4770</th>\n",
       "      <th>Total Bags</th>\n",
       "      <th>Small Bags</th>\n",
       "      <th>Large Bags</th>\n",
       "      <th>XLarge Bags</th>\n",
       "      <th>type</th>\n",
       "      <th>year</th>\n",
       "      <th>region_label</th>\n",
       "    </tr>\n",
       "  </thead>\n",
       "  <tbody>\n",
       "    <tr>\n",
       "      <th>0</th>\n",
       "      <td>-1.375936</td>\n",
       "      <td>-1.840250</td>\n",
       "      <td>-0.561839</td>\n",
       "      <td>-1.826955</td>\n",
       "      <td>-1.712839</td>\n",
       "      <td>-1.562485</td>\n",
       "      <td>-0.959979</td>\n",
       "      <td>-0.804932</td>\n",
       "      <td>0.0</td>\n",
       "      <td>-0.439329</td>\n",
       "      <td>-1.313068</td>\n",
       "    </tr>\n",
       "    <tr>\n",
       "      <th>1</th>\n",
       "      <td>-1.488857</td>\n",
       "      <td>-2.027012</td>\n",
       "      <td>-0.681143</td>\n",
       "      <td>-1.752789</td>\n",
       "      <td>-1.646316</td>\n",
       "      <td>-1.496328</td>\n",
       "      <td>-0.947025</td>\n",
       "      <td>-0.804932</td>\n",
       "      <td>0.0</td>\n",
       "      <td>-0.439329</td>\n",
       "      <td>-1.313068</td>\n",
       "    </tr>\n",
       "    <tr>\n",
       "      <th>2</th>\n",
       "      <td>-0.938549</td>\n",
       "      <td>-1.955687</td>\n",
       "      <td>-0.144473</td>\n",
       "      <td>-1.438870</td>\n",
       "      <td>-1.761857</td>\n",
       "      <td>-1.612428</td>\n",
       "      <td>-0.930605</td>\n",
       "      <td>-0.804932</td>\n",
       "      <td>0.0</td>\n",
       "      <td>-0.439329</td>\n",
       "      <td>-1.313068</td>\n",
       "    </tr>\n",
       "    <tr>\n",
       "      <th>3</th>\n",
       "      <td>-1.227667</td>\n",
       "      <td>-1.802077</td>\n",
       "      <td>-0.394396</td>\n",
       "      <td>-1.667886</td>\n",
       "      <td>-2.014484</td>\n",
       "      <td>-1.870139</td>\n",
       "      <td>-0.854726</td>\n",
       "      <td>-0.804932</td>\n",
       "      <td>0.0</td>\n",
       "      <td>-0.439329</td>\n",
       "      <td>-1.313068</td>\n",
       "    </tr>\n",
       "    <tr>\n",
       "      <th>4</th>\n",
       "      <td>-1.540837</td>\n",
       "      <td>-1.882102</td>\n",
       "      <td>-0.692004</td>\n",
       "      <td>-1.651095</td>\n",
       "      <td>-1.967967</td>\n",
       "      <td>-1.830934</td>\n",
       "      <td>-0.740434</td>\n",
       "      <td>-0.804932</td>\n",
       "      <td>0.0</td>\n",
       "      <td>-0.439329</td>\n",
       "      <td>-1.313068</td>\n",
       "    </tr>\n",
       "    <tr>\n",
       "      <th>...</th>\n",
       "      <td>...</td>\n",
       "      <td>...</td>\n",
       "      <td>...</td>\n",
       "      <td>...</td>\n",
       "      <td>...</td>\n",
       "      <td>...</td>\n",
       "      <td>...</td>\n",
       "      <td>...</td>\n",
       "      <td>...</td>\n",
       "      <td>...</td>\n",
       "      <td>...</td>\n",
       "    </tr>\n",
       "    <tr>\n",
       "      <th>1497</th>\n",
       "      <td>-0.595137</td>\n",
       "      <td>-0.094975</td>\n",
       "      <td>-0.541127</td>\n",
       "      <td>0.490978</td>\n",
       "      <td>-0.275016</td>\n",
       "      <td>-0.277526</td>\n",
       "      <td>0.423399</td>\n",
       "      <td>0.779701</td>\n",
       "      <td>0.0</td>\n",
       "      <td>2.276196</td>\n",
       "      <td>-0.876514</td>\n",
       "    </tr>\n",
       "    <tr>\n",
       "      <th>1498</th>\n",
       "      <td>-0.644155</td>\n",
       "      <td>-0.218216</td>\n",
       "      <td>-0.587341</td>\n",
       "      <td>0.531313</td>\n",
       "      <td>-0.227658</td>\n",
       "      <td>-0.193345</td>\n",
       "      <td>0.368629</td>\n",
       "      <td>-0.804932</td>\n",
       "      <td>0.0</td>\n",
       "      <td>2.276196</td>\n",
       "      <td>-0.876514</td>\n",
       "    </tr>\n",
       "    <tr>\n",
       "      <th>1499</th>\n",
       "      <td>-0.643451</td>\n",
       "      <td>-0.188752</td>\n",
       "      <td>-0.579301</td>\n",
       "      <td>0.472679</td>\n",
       "      <td>-0.238192</td>\n",
       "      <td>-0.212140</td>\n",
       "      <td>0.356808</td>\n",
       "      <td>1.135174</td>\n",
       "      <td>0.0</td>\n",
       "      <td>2.276196</td>\n",
       "      <td>-0.876514</td>\n",
       "    </tr>\n",
       "    <tr>\n",
       "      <th>1500</th>\n",
       "      <td>-0.601608</td>\n",
       "      <td>-0.121601</td>\n",
       "      <td>-0.571408</td>\n",
       "      <td>0.490160</td>\n",
       "      <td>-0.220236</td>\n",
       "      <td>-0.180610</td>\n",
       "      <td>0.357524</td>\n",
       "      <td>-0.804932</td>\n",
       "      <td>0.0</td>\n",
       "      <td>2.276196</td>\n",
       "      <td>-0.876514</td>\n",
       "    </tr>\n",
       "    <tr>\n",
       "      <th>1501</th>\n",
       "      <td>-0.625325</td>\n",
       "      <td>-0.220323</td>\n",
       "      <td>-0.564727</td>\n",
       "      <td>0.468581</td>\n",
       "      <td>-0.162018</td>\n",
       "      <td>-0.157014</td>\n",
       "      <td>0.458053</td>\n",
       "      <td>-0.804932</td>\n",
       "      <td>0.0</td>\n",
       "      <td>2.276196</td>\n",
       "      <td>-0.876514</td>\n",
       "    </tr>\n",
       "  </tbody>\n",
       "</table>\n",
       "<p>1502 rows × 11 columns</p>\n",
       "</div>"
      ],
      "text/plain": [
       "      Total Volume      4046      4225      4770  Total Bags  Small Bags  \\\n",
       "0        -1.375936 -1.840250 -0.561839 -1.826955   -1.712839   -1.562485   \n",
       "1        -1.488857 -2.027012 -0.681143 -1.752789   -1.646316   -1.496328   \n",
       "2        -0.938549 -1.955687 -0.144473 -1.438870   -1.761857   -1.612428   \n",
       "3        -1.227667 -1.802077 -0.394396 -1.667886   -2.014484   -1.870139   \n",
       "4        -1.540837 -1.882102 -0.692004 -1.651095   -1.967967   -1.830934   \n",
       "...            ...       ...       ...       ...         ...         ...   \n",
       "1497     -0.595137 -0.094975 -0.541127  0.490978   -0.275016   -0.277526   \n",
       "1498     -0.644155 -0.218216 -0.587341  0.531313   -0.227658   -0.193345   \n",
       "1499     -0.643451 -0.188752 -0.579301  0.472679   -0.238192   -0.212140   \n",
       "1500     -0.601608 -0.121601 -0.571408  0.490160   -0.220236   -0.180610   \n",
       "1501     -0.625325 -0.220323 -0.564727  0.468581   -0.162018   -0.157014   \n",
       "\n",
       "      Large Bags  XLarge Bags  type      year  region_label  \n",
       "0      -0.959979    -0.804932   0.0 -0.439329     -1.313068  \n",
       "1      -0.947025    -0.804932   0.0 -0.439329     -1.313068  \n",
       "2      -0.930605    -0.804932   0.0 -0.439329     -1.313068  \n",
       "3      -0.854726    -0.804932   0.0 -0.439329     -1.313068  \n",
       "4      -0.740434    -0.804932   0.0 -0.439329     -1.313068  \n",
       "...          ...          ...   ...       ...           ...  \n",
       "1497    0.423399     0.779701   0.0  2.276196     -0.876514  \n",
       "1498    0.368629    -0.804932   0.0  2.276196     -0.876514  \n",
       "1499    0.356808     1.135174   0.0  2.276196     -0.876514  \n",
       "1500    0.357524    -0.804932   0.0  2.276196     -0.876514  \n",
       "1501    0.458053    -0.804932   0.0  2.276196     -0.876514  \n",
       "\n",
       "[1502 rows x 11 columns]"
      ]
     },
     "execution_count": 179,
     "metadata": {},
     "output_type": "execute_result"
    }
   ],
   "source": [
    "#Scaling data set\n",
    "from sklearn.preprocessing import StandardScaler\n",
    "sc=StandardScaler()\n",
    "sc.fit(df_x)\n",
    "x=sc.transform(df_x)\n",
    "x=pd.DataFrame(x,columns=df_x.columns)\n",
    "x"
   ]
  },
  {
   "cell_type": "markdown",
   "metadata": {},
   "source": [
    "# MODEL Preperation"
   ]
  },
  {
   "cell_type": "markdown",
   "metadata": {},
   "source": [
    "## Prediction with AveragePrice"
   ]
  },
  {
   "cell_type": "markdown",
   "metadata": {},
   "source": [
    "##### Now by using multiple algorithms to get the best algorithm which suit best for out dataset"
   ]
  },
  {
   "cell_type": "code",
   "execution_count": 180,
   "metadata": {},
   "outputs": [
    {
     "name": "stdout",
     "output_type": "stream",
     "text": [
      "R2 score correspond to random state  40 is  0.6734139707059879\n",
      "R2 score correspond to random state  40 is  0.7482301062493153\n",
      "R2 score correspond to random state  40 is  0.617629515572091\n",
      "R2 score correspond to random state  40 is  0.4158311431659163\n",
      "R2 score correspond to random state  40 is  0.7461892561931116\n",
      "R2 score correspond to random state  41 is  0.6830867474462884\n",
      "R2 score correspond to random state  41 is  0.745407872145881\n",
      "R2 score correspond to random state  41 is  0.6387634181328292\n",
      "R2 score correspond to random state  41 is  0.3821795123385472\n",
      "R2 score correspond to random state  41 is  0.7438469334022391\n",
      "R2 score correspond to random state  42 is  0.6517007821316112\n",
      "R2 score correspond to random state  42 is  0.7821766456123737\n",
      "R2 score correspond to random state  42 is  0.6330444588666564\n",
      "R2 score correspond to random state  42 is  0.4196809196147627\n",
      "R2 score correspond to random state  42 is  0.7188768893069337\n",
      "R2 score correspond to random state  43 is  0.6470020167493831\n",
      "R2 score correspond to random state  43 is  0.7945606212002081\n",
      "R2 score correspond to random state  43 is  0.6178721652194115\n",
      "R2 score correspond to random state  43 is  0.392045859663649\n",
      "R2 score correspond to random state  43 is  0.7324760332759199\n",
      "R2 score correspond to random state  44 is  0.6414428015123055\n",
      "R2 score correspond to random state  44 is  0.7461293731029239\n",
      "R2 score correspond to random state  44 is  0.5829307826139201\n",
      "R2 score correspond to random state  44 is  0.3534620484747266\n",
      "R2 score correspond to random state  44 is  0.7007607546216417\n",
      "R2 score correspond to random state  45 is  0.4638220257046476\n",
      "R2 score correspond to random state  45 is  0.7408421150583916\n",
      "R2 score correspond to random state  45 is  0.6131454992176099\n",
      "R2 score correspond to random state  45 is  0.4019095153675486\n",
      "R2 score correspond to random state  45 is  0.7276516862202997\n",
      "R2 score correspond to random state  46 is  0.6600666186749866\n",
      "R2 score correspond to random state  46 is  0.7738408222488793\n",
      "R2 score correspond to random state  46 is  0.6108688319277769\n",
      "R2 score correspond to random state  46 is  0.3954915576106528\n",
      "R2 score correspond to random state  46 is  0.7092943270820049\n",
      "R2 score correspond to random state  47 is  0.5709127321631191\n",
      "R2 score correspond to random state  47 is  0.780707500257878\n",
      "R2 score correspond to random state  47 is  0.6019797196244812\n",
      "R2 score correspond to random state  47 is  0.3600728984025009\n",
      "R2 score correspond to random state  47 is  0.7416364852413913\n",
      "R2 score correspond to random state  48 is  0.684770727759576\n",
      "R2 score correspond to random state  48 is  0.7506244787854626\n",
      "R2 score correspond to random state  48 is  0.6017213625989102\n",
      "R2 score correspond to random state  48 is  0.3829913126609602\n",
      "R2 score correspond to random state  48 is  0.7131402781939509\n",
      "R2 score correspond to random state  49 is  0.6183129585139644\n",
      "R2 score correspond to random state  49 is  0.7626196917881604\n",
      "R2 score correspond to random state  49 is  0.601245554565099\n",
      "R2 score correspond to random state  49 is  0.3713217734247122\n",
      "R2 score correspond to random state  49 is  0.7347752318925587\n",
      "R2 score correspond to random state  50 is  0.5305353143612452\n",
      "R2 score correspond to random state  50 is  0.7196620151213887\n",
      "R2 score correspond to random state  50 is  0.6293987497437905\n",
      "R2 score correspond to random state  50 is  0.3706919284866441\n",
      "R2 score correspond to random state  50 is  0.7517488617259437\n",
      "R2 score correspond to random state  51 is  0.6137948448572981\n",
      "R2 score correspond to random state  51 is  0.7526086127929373\n",
      "R2 score correspond to random state  51 is  0.595656824860878\n",
      "R2 score correspond to random state  51 is  0.3873460364186925\n",
      "R2 score correspond to random state  51 is  0.7273979748222774\n",
      "R2 score correspond to random state  52 is  0.5911013778337708\n",
      "R2 score correspond to random state  52 is  0.7389713892932395\n",
      "R2 score correspond to random state  52 is  0.5900764760955651\n",
      "R2 score correspond to random state  52 is  0.3990900010055748\n",
      "R2 score correspond to random state  52 is  0.7295024002116242\n",
      "R2 score correspond to random state  53 is  0.6762932265995526\n",
      "R2 score correspond to random state  53 is  0.7490285334351824\n",
      "R2 score correspond to random state  53 is  0.5538944392552867\n",
      "R2 score correspond to random state  53 is  0.3414069572744285\n",
      "R2 score correspond to random state  53 is  0.7542049979434513\n",
      "R2 score correspond to random state  54 is  0.6599672731055473\n",
      "R2 score correspond to random state  54 is  0.783354516021017\n",
      "R2 score correspond to random state  54 is  0.6111385023688299\n",
      "R2 score correspond to random state  54 is  0.38232357477577184\n",
      "R2 score correspond to random state  54 is  0.7083891505583584\n",
      "R2 score correspond to random state  55 is  0.6909538688161716\n",
      "R2 score correspond to random state  55 is  0.7567006153332393\n",
      "R2 score correspond to random state  55 is  0.6245614067242383\n",
      "R2 score correspond to random state  55 is  0.397630798324513\n",
      "R2 score correspond to random state  55 is  0.733515367124439\n",
      "R2 score correspond to random state  56 is  0.7101273522444199\n",
      "R2 score correspond to random state  56 is  0.7366359975592056\n",
      "R2 score correspond to random state  56 is  0.6135896666119529\n",
      "R2 score correspond to random state  56 is  0.35380491720371565\n",
      "R2 score correspond to random state  56 is  0.695777929738005\n",
      "R2 score correspond to random state  57 is  0.6136203410905492\n",
      "R2 score correspond to random state  57 is  0.7167927696184726\n",
      "R2 score correspond to random state  57 is  0.5893813567417447\n",
      "R2 score correspond to random state  57 is  0.3950311604731047\n",
      "R2 score correspond to random state  57 is  0.7127791425923156\n",
      "R2 score correspond to random state  58 is  0.6348679593420437\n",
      "R2 score correspond to random state  58 is  0.7855644216585194\n",
      "R2 score correspond to random state  58 is  0.6128713990748311\n",
      "R2 score correspond to random state  58 is  0.44476881579908434\n",
      "R2 score correspond to random state  58 is  0.7315832481303525\n",
      "R2 score correspond to random state  59 is  0.5668813105224936\n",
      "R2 score correspond to random state  59 is  0.7696945323014573\n",
      "R2 score correspond to random state  59 is  0.589750703609735\n",
      "R2 score correspond to random state  59 is  0.3210265312227837\n",
      "R2 score correspond to random state  59 is  0.6976789352437078\n",
      "R2 score correspond to random state  60 is  0.5882131712036895\n",
      "R2 score correspond to random state  60 is  0.7737683769006819\n",
      "R2 score correspond to random state  60 is  0.62504802423759\n",
      "R2 score correspond to random state  60 is  0.3913244727101892\n",
      "R2 score correspond to random state  60 is  0.7402545817270851\n",
      "R2 score correspond to random state  61 is  0.5794771375738728\n",
      "R2 score correspond to random state  61 is  0.7560454418427303\n",
      "R2 score correspond to random state  61 is  0.5761017459695734\n",
      "R2 score correspond to random state  61 is  0.381125022417244\n",
      "R2 score correspond to random state  61 is  0.7011601806457832\n",
      "R2 score correspond to random state  62 is  0.5941688999659615\n",
      "R2 score correspond to random state  62 is  0.792311926104373\n",
      "R2 score correspond to random state  62 is  0.5976051831058296\n",
      "R2 score correspond to random state  62 is  0.38762455769476034\n",
      "R2 score correspond to random state  62 is  0.7453007591874885\n",
      "R2 score correspond to random state  63 is  0.6767254304005696\n",
      "R2 score correspond to random state  63 is  0.7384207976939294\n",
      "R2 score correspond to random state  63 is  0.61719042270154\n",
      "R2 score correspond to random state  63 is  0.3625060685712612\n",
      "R2 score correspond to random state  63 is  0.7107454099552217\n",
      "R2 score correspond to random state  64 is  0.6689303827055185\n",
      "R2 score correspond to random state  64 is  0.7386512729199868\n",
      "R2 score correspond to random state  64 is  0.6075579602290475\n",
      "R2 score correspond to random state  64 is  0.387942486355491\n",
      "R2 score correspond to random state  64 is  0.7153548483531074\n",
      "R2 score correspond to random state  65 is  0.5252825489747985\n",
      "R2 score correspond to random state  65 is  0.7476168436967963\n",
      "R2 score correspond to random state  65 is  0.5921760035617171\n",
      "R2 score correspond to random state  65 is  0.36837215757861497\n",
      "R2 score correspond to random state  65 is  0.693523256782322\n",
      "R2 score correspond to random state  66 is  0.5593501619362125\n",
      "R2 score correspond to random state  66 is  0.7131884387305667\n"
     ]
    },
    {
     "name": "stdout",
     "output_type": "stream",
     "text": [
      "R2 score correspond to random state  66 is  0.6300379879678184\n",
      "R2 score correspond to random state  66 is  0.39025249452099386\n",
      "R2 score correspond to random state  66 is  0.7447591622266554\n",
      "R2 score correspond to random state  67 is  0.6324275650460143\n",
      "R2 score correspond to random state  67 is  0.7156936158902113\n",
      "R2 score correspond to random state  67 is  0.5863878904651585\n",
      "R2 score correspond to random state  67 is  0.4044429431044939\n",
      "R2 score correspond to random state  67 is  0.7263501719342238\n",
      "R2 score correspond to random state  68 is  0.6317855199592304\n",
      "R2 score correspond to random state  68 is  0.7521605802240926\n",
      "R2 score correspond to random state  68 is  0.5902471460789278\n",
      "R2 score correspond to random state  68 is  0.3784457366242966\n",
      "R2 score correspond to random state  68 is  0.7140598832893414\n",
      "R2 score correspond to random state  69 is  0.6561821535179542\n",
      "R2 score correspond to random state  69 is  0.7121414968391038\n",
      "R2 score correspond to random state  69 is  0.6175384735602548\n",
      "R2 score correspond to random state  69 is  0.3899646308317317\n",
      "R2 score correspond to random state  69 is  0.7403862690921996\n",
      "R2 score correspond to random state  70 is  0.5760128771858284\n",
      "R2 score correspond to random state  70 is  0.7206464994124971\n",
      "R2 score correspond to random state  70 is  0.5919283928019845\n",
      "R2 score correspond to random state  70 is  0.3499038346065424\n",
      "R2 score correspond to random state  70 is  0.7081103390934133\n",
      "R2 score correspond to random state  71 is  0.6029967199458122\n",
      "R2 score correspond to random state  71 is  0.7416840394293189\n",
      "R2 score correspond to random state  71 is  0.5743921486937025\n",
      "R2 score correspond to random state  71 is  0.40290347520182\n",
      "R2 score correspond to random state  71 is  0.7281166193826724\n",
      "R2 score correspond to random state  72 is  0.6118043039269893\n",
      "R2 score correspond to random state  72 is  0.732020255702704\n",
      "R2 score correspond to random state  72 is  0.6127949929170657\n",
      "R2 score correspond to random state  72 is  0.36020037826741813\n",
      "R2 score correspond to random state  72 is  0.7082302693660825\n",
      "R2 score correspond to random state  73 is  0.6481273722383172\n",
      "R2 score correspond to random state  73 is  0.7735784226335594\n",
      "R2 score correspond to random state  73 is  0.6230612092815613\n",
      "R2 score correspond to random state  73 is  0.3881772306290727\n",
      "R2 score correspond to random state  73 is  0.7046767182557656\n",
      "R2 score correspond to random state  74 is  0.6551019572850626\n",
      "R2 score correspond to random state  74 is  0.7685371296694171\n",
      "R2 score correspond to random state  74 is  0.604018497810497\n",
      "R2 score correspond to random state  74 is  0.36227370189055064\n",
      "R2 score correspond to random state  74 is  0.7459748698904181\n",
      "R2 score correspond to random state  75 is  0.7107190832763134\n",
      "R2 score correspond to random state  75 is  0.7606716702217323\n",
      "R2 score correspond to random state  75 is  0.6081010637107724\n",
      "R2 score correspond to random state  75 is  0.41254469607831634\n",
      "R2 score correspond to random state  75 is  0.7472563128102975\n",
      "R2 score correspond to random state  76 is  0.6147763724559874\n",
      "R2 score correspond to random state  76 is  0.7321804675302417\n",
      "R2 score correspond to random state  76 is  0.6130091422592114\n",
      "R2 score correspond to random state  76 is  0.4331269166513323\n",
      "R2 score correspond to random state  76 is  0.7315709942314763\n",
      "R2 score correspond to random state  77 is  0.5601029573381219\n",
      "R2 score correspond to random state  77 is  0.7548049467711152\n",
      "R2 score correspond to random state  77 is  0.5897876360462277\n",
      "R2 score correspond to random state  77 is  0.31138125885258905\n",
      "R2 score correspond to random state  77 is  0.7318152820747963\n",
      "R2 score correspond to random state  78 is  0.6501337811232594\n",
      "R2 score correspond to random state  78 is  0.7756680534002606\n",
      "R2 score correspond to random state  78 is  0.5983754142359983\n",
      "R2 score correspond to random state  78 is  0.39043688923531683\n",
      "R2 score correspond to random state  78 is  0.7455616594452409\n",
      "R2 score correspond to random state  79 is  0.597348254995534\n",
      "R2 score correspond to random state  79 is  0.7512017156220236\n",
      "R2 score correspond to random state  79 is  0.6180974605465084\n",
      "R2 score correspond to random state  79 is  0.3856195585190604\n",
      "R2 score correspond to random state  79 is  0.7257061102033264\n",
      "R2 score correspond to random state  80 is  0.549079892872526\n",
      "R2 score correspond to random state  80 is  0.762501097507919\n",
      "R2 score correspond to random state  80 is  0.5875594627061203\n",
      "R2 score correspond to random state  80 is  0.37055187088518327\n",
      "R2 score correspond to random state  80 is  0.7334709420006427\n",
      "R2 score correspond to random state  81 is  0.66214548566658\n",
      "R2 score correspond to random state  81 is  0.7519734951216291\n",
      "R2 score correspond to random state  81 is  0.6005683013907626\n",
      "R2 score correspond to random state  81 is  0.3345684380971182\n",
      "R2 score correspond to random state  81 is  0.6861705173771231\n",
      "R2 score correspond to random state  82 is  0.6989726126972785\n",
      "R2 score correspond to random state  82 is  0.7497154724374054\n",
      "R2 score correspond to random state  82 is  0.6001980909461178\n",
      "R2 score correspond to random state  82 is  0.43944080564828125\n",
      "R2 score correspond to random state  82 is  0.7441786415366003\n",
      "R2 score correspond to random state  83 is  0.6542834911670785\n",
      "R2 score correspond to random state  83 is  0.75251454665532\n",
      "R2 score correspond to random state  83 is  0.6077391487820568\n",
      "R2 score correspond to random state  83 is  0.3970655782880753\n",
      "R2 score correspond to random state  83 is  0.7642464263916764\n",
      "R2 score correspond to random state  84 is  0.6199538159430273\n",
      "R2 score correspond to random state  84 is  0.7481015230964798\n",
      "R2 score correspond to random state  84 is  0.5922564099230072\n",
      "R2 score correspond to random state  84 is  0.350473800815179\n",
      "R2 score correspond to random state  84 is  0.6991218515637871\n",
      "R2 score correspond to random state  85 is  0.5956411214428484\n",
      "R2 score correspond to random state  85 is  0.761396934020993\n",
      "R2 score correspond to random state  85 is  0.5954825994915547\n",
      "R2 score correspond to random state  85 is  0.36684490312870655\n",
      "R2 score correspond to random state  85 is  0.7182025704955958\n",
      "R2 score correspond to random state  86 is  0.5873724443524566\n",
      "R2 score correspond to random state  86 is  0.755958119349436\n",
      "R2 score correspond to random state  86 is  0.5937888068162189\n",
      "R2 score correspond to random state  86 is  0.3746310154975462\n",
      "R2 score correspond to random state  86 is  0.7176970250072555\n",
      "R2 score correspond to random state  87 is  0.6375633026211714\n",
      "R2 score correspond to random state  87 is  0.7621157326262109\n",
      "R2 score correspond to random state  87 is  0.648078576841222\n",
      "R2 score correspond to random state  87 is  0.3982098373763926\n",
      "R2 score correspond to random state  87 is  0.720574842361325\n",
      "R2 score correspond to random state  88 is  0.5199842842494209\n",
      "R2 score correspond to random state  88 is  0.7547555498464091\n",
      "R2 score correspond to random state  88 is  0.5968550617019244\n",
      "R2 score correspond to random state  88 is  0.38350114778884037\n",
      "R2 score correspond to random state  88 is  0.7614625502859752\n",
      "R2 score correspond to random state  89 is  0.6568170504001138\n",
      "R2 score correspond to random state  89 is  0.7284966418436367\n",
      "R2 score correspond to random state  89 is  0.6152211783124216\n",
      "R2 score correspond to random state  89 is  0.4298112667598266\n",
      "R2 score correspond to random state  89 is  0.7481988577804789\n",
      "\n",
      "\n",
      "\n",
      "\n",
      "max R2 score correspond to random state  43 is  0.7945606212002081  and model is  KNeighborsRegressor()\n"
     ]
    }
   ],
   "source": [
    "Model = [DecisionTreeRegressor(), KNeighborsRegressor(), AdaBoostRegressor(), LinearRegression(), GradientBoostingRegressor()]\n",
    "max_r2_score = 0\n",
    "for r_state in range(40,90):\n",
    "    train_x, test_x, train_y, test_y = train_test_split(x,y,random_state = r_state,test_size = 0.33)\n",
    "    for i in Model:\n",
    "        i.fit(train_x,train_y)\n",
    "        pre = i.predict(test_x)\n",
    "        r2_sc= r2_score(test_y,pre)\n",
    "        print('R2 score correspond to random state ' , r_state, 'is ' , r2_sc)\n",
    "        if r2_sc> max_r2_score:\n",
    "            max_r2_score=r2_sc\n",
    "            final_state = r_state\n",
    "            final_model = i\n",
    "            \n",
    "print()\n",
    "print()\n",
    "print()\n",
    "print()\n",
    "print('max R2 score correspond to random state ' , final_state, 'is ', max_r2_score, \" and model is \", final_model)\n"
   ]
  },
  {
   "cell_type": "markdown",
   "metadata": {},
   "source": [
    "using the above forloop, we came to know that the best algorithm is KNeighborsRegressor because the max R2 score corresponds to the randomstate meets for the model KNeighborsRegressor"
   ]
  },
  {
   "cell_type": "markdown",
   "metadata": {},
   "source": [
    "#### Identifying the best parameter for prediction of KNeighborsRegressor using GridSearchCV"
   ]
  },
  {
   "cell_type": "code",
   "execution_count": 181,
   "metadata": {},
   "outputs": [
    {
     "data": {
      "text/plain": [
       "{'n_neighbors': 2}"
      ]
     },
     "execution_count": 181,
     "metadata": {},
     "output_type": "execute_result"
    }
   ],
   "source": [
    "train_x, test_x, train_y, test_y = train_test_split(x,y,random_state = 43,test_size = 0.33)\n",
    "KN = KNeighborsRegressor()\n",
    "parameters = {'n_neighbors' : range(1,30)}\n",
    "gridsearch = GridSearchCV(KN, parameters)\n",
    "gridsearch.fit(train_x, train_y)\n",
    "gridsearch.best_params_"
   ]
  },
  {
   "cell_type": "code",
   "execution_count": 182,
   "metadata": {},
   "outputs": [
    {
     "name": "stdout",
     "output_type": "stream",
     "text": [
      "R2_score : 82.3777757475462\n"
     ]
    }
   ],
   "source": [
    "KNR= KNeighborsRegressor(n_neighbors=2)\n",
    "KNR.fit(train_x, train_y)\n",
    "Kn_pred = KNR.predict(test_x)\n",
    "r2_sc = r2_score(test_y, Kn_pred)\n",
    "print(\"R2_score :\", r2_sc*100)"
   ]
  },
  {
   "cell_type": "code",
   "execution_count": 183,
   "metadata": {},
   "outputs": [
    {
     "name": "stdout",
     "output_type": "stream",
     "text": [
      "Mean Absolute Error 0.060655241935483876\n",
      "Mean Squared Error 0.006900352822580646\n",
      "Root Mean Absolute Error 0.24628284945461362\n"
     ]
    }
   ],
   "source": [
    "print('Mean Absolute Error', mean_absolute_error(test_y, Kn_pred))\n",
    "print('Mean Squared Error', mean_squared_error(test_y,Kn_pred))\n",
    "print('Root Mean Absolute Error', np.sqrt(mean_absolute_error(test_y, Kn_pred)))"
   ]
  },
  {
   "cell_type": "code",
   "execution_count": 184,
   "metadata": {},
   "outputs": [
    {
     "data": {
      "text/plain": [
       "<seaborn.axisgrid.FacetGrid at 0x24c7aaf6640>"
      ]
     },
     "execution_count": 184,
     "metadata": {},
     "output_type": "execute_result"
    },
    {
     "data": {
      "image/png": "[encoded data removed]",
      "text/plain": [
       "<Figure size 360x360 with 1 Axes>"
      ]
     },
     "metadata": {},
     "output_type": "display_data"
    }
   ],
   "source": [
    "#plt.scatter(x=test_y, y=Kn_pred)\n",
    "data = pd.DataFrame({'Y Test':test_y , 'Predicted Y':Kn_pred},columns=['Y Test','Predicted Y'])\n",
    "sns.lmplot(x='Y Test',y='Predicted Y',data=data,palette='rainbow')\n",
    "\n",
    "#plt.xlabel('y_test')\n",
    "#plt.ylabel('predicted_y')"
   ]
  },
  {
   "cell_type": "markdown",
   "metadata": {},
   "source": [
    "## Observations in Prediction with Average Price"
   ]
  },
  {
   "cell_type": "markdown",
   "metadata": {},
   "source": [
    "In this prediction by taking average price as an output variable\n",
    "average price has continuity in nature, so I used the regression model"
   ]
  },
  {
   "cell_type": "markdown",
   "metadata": {},
   "source": [
    "While calculating the best random state the 43 is best state and providing the max R2 score value for this regression"
   ]
  },
  {
   "cell_type": "markdown",
   "metadata": {},
   "source": [
    "From GridSeachCV, I can find the best param and then used these param to this model"
   ]
  },
  {
   "cell_type": "markdown",
   "metadata": {},
   "source": [
    "Using the best param we can get the best R2 score and the model is KNeighboursRegressor"
   ]
  },
  {
   "cell_type": "markdown",
   "metadata": {},
   "source": [
    "I have plot the scatter plot graph and we can see that the actual value and predicted values are very close to each other, so the line is best fit line."
   ]
  },
  {
   "cell_type": "markdown",
   "metadata": {},
   "source": [
    "## Prediction with Region"
   ]
  },
  {
   "cell_type": "markdown",
   "metadata": {},
   "source": [
    "#### Try to get the score by taking region as an y value, for this using classification method because the region data is categorical in nature"
   ]
  },
  {
   "cell_type": "markdown",
   "metadata": {},
   "source": [
    "###### Now divide the dataset into two types one is input and another is output"
   ]
  },
  {
   "cell_type": "code",
   "execution_count": 185,
   "metadata": {},
   "outputs": [
    {
     "name": "stdout",
     "output_type": "stream",
     "text": [
      "(1502, 11)\n",
      "(1502,)\n"
     ]
    }
   ],
   "source": [
    "df_x = ava_df_new.drop(columns=['region_label','Month','Day'])\n",
    "df_y = ava_df_new['region_label']\n",
    "print(df_x.shape)\n",
    "print(y.shape)"
   ]
  },
  {
   "cell_type": "code",
   "execution_count": 186,
   "metadata": {},
   "outputs": [
    {
     "data": {
      "text/html": [
       "<div>\n",
       "<style scoped>\n",
       "    .dataframe tbody tr th:only-of-type {\n",
       "        vertical-align: middle;\n",
       "    }\n",
       "\n",
       "    .dataframe tbody tr th {\n",
       "        vertical-align: top;\n",
       "    }\n",
       "\n",
       "    .dataframe thead th {\n",
       "        text-align: right;\n",
       "    }\n",
       "</style>\n",
       "<table border=\"1\" class=\"dataframe\">\n",
       "  <thead>\n",
       "    <tr style=\"text-align: right;\">\n",
       "      <th></th>\n",
       "      <th>AveragePrice</th>\n",
       "      <th>Total Volume</th>\n",
       "      <th>4046</th>\n",
       "      <th>4225</th>\n",
       "      <th>4770</th>\n",
       "      <th>Total Bags</th>\n",
       "      <th>Small Bags</th>\n",
       "      <th>Large Bags</th>\n",
       "      <th>XLarge Bags</th>\n",
       "      <th>type</th>\n",
       "      <th>year</th>\n",
       "    </tr>\n",
       "  </thead>\n",
       "  <tbody>\n",
       "    <tr>\n",
       "      <th>0</th>\n",
       "      <td>1.365422</td>\n",
       "      <td>-1.375936</td>\n",
       "      <td>-1.840250</td>\n",
       "      <td>-0.561839</td>\n",
       "      <td>-1.826955</td>\n",
       "      <td>-1.712839</td>\n",
       "      <td>-1.562485</td>\n",
       "      <td>-0.959979</td>\n",
       "      <td>-0.804932</td>\n",
       "      <td>0.0</td>\n",
       "      <td>-0.439329</td>\n",
       "    </tr>\n",
       "    <tr>\n",
       "      <th>1</th>\n",
       "      <td>1.472497</td>\n",
       "      <td>-1.488857</td>\n",
       "      <td>-2.027012</td>\n",
       "      <td>-0.681143</td>\n",
       "      <td>-1.752789</td>\n",
       "      <td>-1.646316</td>\n",
       "      <td>-1.496328</td>\n",
       "      <td>-0.947025</td>\n",
       "      <td>-0.804932</td>\n",
       "      <td>0.0</td>\n",
       "      <td>-0.439329</td>\n",
       "    </tr>\n",
       "    <tr>\n",
       "      <th>2</th>\n",
       "      <td>-0.776081</td>\n",
       "      <td>-0.938549</td>\n",
       "      <td>-1.955687</td>\n",
       "      <td>-0.144473</td>\n",
       "      <td>-1.438870</td>\n",
       "      <td>-1.761857</td>\n",
       "      <td>-1.612428</td>\n",
       "      <td>-0.930605</td>\n",
       "      <td>-0.804932</td>\n",
       "      <td>0.0</td>\n",
       "      <td>-0.439329</td>\n",
       "    </tr>\n",
       "    <tr>\n",
       "      <th>3</th>\n",
       "      <td>0.026983</td>\n",
       "      <td>-1.227667</td>\n",
       "      <td>-1.802077</td>\n",
       "      <td>-0.394396</td>\n",
       "      <td>-1.667886</td>\n",
       "      <td>-2.014484</td>\n",
       "      <td>-1.870139</td>\n",
       "      <td>-0.854726</td>\n",
       "      <td>-0.804932</td>\n",
       "      <td>0.0</td>\n",
       "      <td>-0.439329</td>\n",
       "    </tr>\n",
       "    <tr>\n",
       "      <th>4</th>\n",
       "      <td>1.097734</td>\n",
       "      <td>-1.540837</td>\n",
       "      <td>-1.882102</td>\n",
       "      <td>-0.692004</td>\n",
       "      <td>-1.651095</td>\n",
       "      <td>-1.967967</td>\n",
       "      <td>-1.830934</td>\n",
       "      <td>-0.740434</td>\n",
       "      <td>-0.804932</td>\n",
       "      <td>0.0</td>\n",
       "      <td>-0.439329</td>\n",
       "    </tr>\n",
       "    <tr>\n",
       "      <th>...</th>\n",
       "      <td>...</td>\n",
       "      <td>...</td>\n",
       "      <td>...</td>\n",
       "      <td>...</td>\n",
       "      <td>...</td>\n",
       "      <td>...</td>\n",
       "      <td>...</td>\n",
       "      <td>...</td>\n",
       "      <td>...</td>\n",
       "      <td>...</td>\n",
       "      <td>...</td>\n",
       "    </tr>\n",
       "    <tr>\n",
       "      <th>1497</th>\n",
       "      <td>1.686648</td>\n",
       "      <td>-0.595137</td>\n",
       "      <td>-0.094975</td>\n",
       "      <td>-0.541127</td>\n",
       "      <td>0.490978</td>\n",
       "      <td>-0.275016</td>\n",
       "      <td>-0.277526</td>\n",
       "      <td>0.423399</td>\n",
       "      <td>0.779701</td>\n",
       "      <td>0.0</td>\n",
       "      <td>2.276196</td>\n",
       "    </tr>\n",
       "    <tr>\n",
       "      <th>1498</th>\n",
       "      <td>2.329099</td>\n",
       "      <td>-0.644155</td>\n",
       "      <td>-0.218216</td>\n",
       "      <td>-0.587341</td>\n",
       "      <td>0.531313</td>\n",
       "      <td>-0.227658</td>\n",
       "      <td>-0.193345</td>\n",
       "      <td>0.368629</td>\n",
       "      <td>-0.804932</td>\n",
       "      <td>0.0</td>\n",
       "      <td>2.276196</td>\n",
       "    </tr>\n",
       "    <tr>\n",
       "      <th>1499</th>\n",
       "      <td>2.168486</td>\n",
       "      <td>-0.643451</td>\n",
       "      <td>-0.188752</td>\n",
       "      <td>-0.579301</td>\n",
       "      <td>0.472679</td>\n",
       "      <td>-0.238192</td>\n",
       "      <td>-0.212140</td>\n",
       "      <td>0.356808</td>\n",
       "      <td>1.135174</td>\n",
       "      <td>0.0</td>\n",
       "      <td>2.276196</td>\n",
       "    </tr>\n",
       "    <tr>\n",
       "      <th>1500</th>\n",
       "      <td>2.114948</td>\n",
       "      <td>-0.601608</td>\n",
       "      <td>-0.121601</td>\n",
       "      <td>-0.571408</td>\n",
       "      <td>0.490160</td>\n",
       "      <td>-0.220236</td>\n",
       "      <td>-0.180610</td>\n",
       "      <td>0.357524</td>\n",
       "      <td>-0.804932</td>\n",
       "      <td>0.0</td>\n",
       "      <td>2.276196</td>\n",
       "    </tr>\n",
       "    <tr>\n",
       "      <th>1501</th>\n",
       "      <td>1.900798</td>\n",
       "      <td>-0.625325</td>\n",
       "      <td>-0.220323</td>\n",
       "      <td>-0.564727</td>\n",
       "      <td>0.468581</td>\n",
       "      <td>-0.162018</td>\n",
       "      <td>-0.157014</td>\n",
       "      <td>0.458053</td>\n",
       "      <td>-0.804932</td>\n",
       "      <td>0.0</td>\n",
       "      <td>2.276196</td>\n",
       "    </tr>\n",
       "  </tbody>\n",
       "</table>\n",
       "<p>1502 rows × 11 columns</p>\n",
       "</div>"
      ],
      "text/plain": [
       "      AveragePrice  Total Volume      4046      4225      4770  Total Bags  \\\n",
       "0         1.365422     -1.375936 -1.840250 -0.561839 -1.826955   -1.712839   \n",
       "1         1.472497     -1.488857 -2.027012 -0.681143 -1.752789   -1.646316   \n",
       "2        -0.776081     -0.938549 -1.955687 -0.144473 -1.438870   -1.761857   \n",
       "3         0.026983     -1.227667 -1.802077 -0.394396 -1.667886   -2.014484   \n",
       "4         1.097734     -1.540837 -1.882102 -0.692004 -1.651095   -1.967967   \n",
       "...            ...           ...       ...       ...       ...         ...   \n",
       "1497      1.686648     -0.595137 -0.094975 -0.541127  0.490978   -0.275016   \n",
       "1498      2.329099     -0.644155 -0.218216 -0.587341  0.531313   -0.227658   \n",
       "1499      2.168486     -0.643451 -0.188752 -0.579301  0.472679   -0.238192   \n",
       "1500      2.114948     -0.601608 -0.121601 -0.571408  0.490160   -0.220236   \n",
       "1501      1.900798     -0.625325 -0.220323 -0.564727  0.468581   -0.162018   \n",
       "\n",
       "      Small Bags  Large Bags  XLarge Bags  type      year  \n",
       "0      -1.562485   -0.959979    -0.804932   0.0 -0.439329  \n",
       "1      -1.496328   -0.947025    -0.804932   0.0 -0.439329  \n",
       "2      -1.612428   -0.930605    -0.804932   0.0 -0.439329  \n",
       "3      -1.870139   -0.854726    -0.804932   0.0 -0.439329  \n",
       "4      -1.830934   -0.740434    -0.804932   0.0 -0.439329  \n",
       "...          ...         ...          ...   ...       ...  \n",
       "1497   -0.277526    0.423399     0.779701   0.0  2.276196  \n",
       "1498   -0.193345    0.368629    -0.804932   0.0  2.276196  \n",
       "1499   -0.212140    0.356808     1.135174   0.0  2.276196  \n",
       "1500   -0.180610    0.357524    -0.804932   0.0  2.276196  \n",
       "1501   -0.157014    0.458053    -0.804932   0.0  2.276196  \n",
       "\n",
       "[1502 rows x 11 columns]"
      ]
     },
     "execution_count": 186,
     "metadata": {},
     "output_type": "execute_result"
    }
   ],
   "source": [
    "#Scaling data set\n",
    "sc=StandardScaler()\n",
    "sc.fit(df_x)\n",
    "x=sc.transform(df_x)\n",
    "x=pd.DataFrame(x,columns=df_x.columns)\n",
    "x"
   ]
  },
  {
   "cell_type": "markdown",
   "metadata": {},
   "source": [
    "Now we are taking region as y variable and predict using clasification"
   ]
  },
  {
   "cell_type": "markdown",
   "metadata": {},
   "source": [
    "##### Now by using multiple algorithms to get the best algorithm which suit best for out dataset"
   ]
  },
  {
   "cell_type": "code",
   "execution_count": 187,
   "metadata": {},
   "outputs": [
    {
     "name": "stdout",
     "output_type": "stream",
     "text": [
      "accuracy score correspond to random state  40 is  0.8508064516129032\n",
      "accuracy score correspond to random state  40 is  0.8911290322580645\n",
      "accuracy score correspond to random state  41 is  0.8770161290322581\n",
      "accuracy score correspond to random state  41 is  0.8588709677419355\n",
      "accuracy score correspond to random state  42 is  0.8326612903225806\n",
      "accuracy score correspond to random state  42 is  0.8870967741935484\n",
      "accuracy score correspond to random state  43 is  0.8991935483870968\n",
      "accuracy score correspond to random state  43 is  0.8669354838709677\n",
      "accuracy score correspond to random state  44 is  0.8770161290322581\n",
      "accuracy score correspond to random state  44 is  0.8891129032258065\n",
      "accuracy score correspond to random state  45 is  0.875\n",
      "accuracy score correspond to random state  45 is  0.8991935483870968\n",
      "accuracy score correspond to random state  46 is  0.842741935483871\n",
      "accuracy score correspond to random state  46 is  0.8689516129032258\n",
      "accuracy score correspond to random state  47 is  0.8689516129032258\n",
      "accuracy score correspond to random state  47 is  0.8850806451612904\n",
      "accuracy score correspond to random state  48 is  0.8870967741935484\n",
      "accuracy score correspond to random state  48 is  0.8850806451612904\n",
      "accuracy score correspond to random state  49 is  0.8951612903225806\n",
      "accuracy score correspond to random state  49 is  0.8971774193548387\n",
      "accuracy score correspond to random state  50 is  0.8709677419354839\n",
      "accuracy score correspond to random state  50 is  0.8951612903225806\n",
      "accuracy score correspond to random state  51 is  0.8669354838709677\n",
      "accuracy score correspond to random state  51 is  0.8810483870967742\n",
      "accuracy score correspond to random state  52 is  0.8669354838709677\n",
      "accuracy score correspond to random state  52 is  0.8850806451612904\n",
      "accuracy score correspond to random state  53 is  0.8588709677419355\n",
      "accuracy score correspond to random state  53 is  0.8991935483870968\n",
      "accuracy score correspond to random state  54 is  0.8790322580645161\n",
      "accuracy score correspond to random state  54 is  0.8931451612903226\n",
      "accuracy score correspond to random state  55 is  0.8669354838709677\n",
      "accuracy score correspond to random state  55 is  0.8790322580645161\n",
      "accuracy score correspond to random state  56 is  0.8487903225806451\n",
      "accuracy score correspond to random state  56 is  0.905241935483871\n",
      "accuracy score correspond to random state  57 is  0.875\n",
      "accuracy score correspond to random state  57 is  0.8830645161290323\n",
      "accuracy score correspond to random state  58 is  0.8870967741935484\n",
      "accuracy score correspond to random state  58 is  0.8971774193548387\n",
      "accuracy score correspond to random state  59 is  0.8548387096774194\n",
      "accuracy score correspond to random state  59 is  0.875\n",
      "accuracy score correspond to random state  60 is  0.8669354838709677\n",
      "accuracy score correspond to random state  60 is  0.875\n",
      "accuracy score correspond to random state  61 is  0.8608870967741935\n",
      "accuracy score correspond to random state  61 is  0.9153225806451613\n",
      "accuracy score correspond to random state  62 is  0.8870967741935484\n",
      "accuracy score correspond to random state  62 is  0.9173387096774194\n",
      "accuracy score correspond to random state  63 is  0.8931451612903226\n",
      "accuracy score correspond to random state  63 is  0.9012096774193549\n",
      "accuracy score correspond to random state  64 is  0.8709677419354839\n",
      "accuracy score correspond to random state  64 is  0.8669354838709677\n",
      "accuracy score correspond to random state  65 is  0.8669354838709677\n",
      "accuracy score correspond to random state  65 is  0.8709677419354839\n",
      "accuracy score correspond to random state  66 is  0.8770161290322581\n",
      "accuracy score correspond to random state  66 is  0.8669354838709677\n",
      "accuracy score correspond to random state  67 is  0.8568548387096774\n",
      "accuracy score correspond to random state  67 is  0.8850806451612904\n",
      "accuracy score correspond to random state  68 is  0.8346774193548387\n",
      "accuracy score correspond to random state  68 is  0.8850806451612904\n",
      "accuracy score correspond to random state  69 is  0.8588709677419355\n",
      "accuracy score correspond to random state  69 is  0.9032258064516129\n",
      "accuracy score correspond to random state  70 is  0.8790322580645161\n",
      "accuracy score correspond to random state  70 is  0.8810483870967742\n",
      "accuracy score correspond to random state  71 is  0.8951612903225806\n",
      "accuracy score correspond to random state  71 is  0.8729838709677419\n",
      "accuracy score correspond to random state  72 is  0.8608870967741935\n",
      "accuracy score correspond to random state  72 is  0.8709677419354839\n",
      "accuracy score correspond to random state  73 is  0.8286290322580645\n",
      "accuracy score correspond to random state  73 is  0.8931451612903226\n",
      "accuracy score correspond to random state  74 is  0.8709677419354839\n",
      "accuracy score correspond to random state  74 is  0.8891129032258065\n",
      "accuracy score correspond to random state  75 is  0.8790322580645161\n",
      "accuracy score correspond to random state  75 is  0.8689516129032258\n",
      "accuracy score correspond to random state  76 is  0.8850806451612904\n",
      "accuracy score correspond to random state  76 is  0.8770161290322581\n",
      "accuracy score correspond to random state  77 is  0.8709677419354839\n",
      "accuracy score correspond to random state  77 is  0.9274193548387096\n",
      "accuracy score correspond to random state  78 is  0.8830645161290323\n",
      "accuracy score correspond to random state  78 is  0.875\n",
      "accuracy score correspond to random state  79 is  0.8709677419354839\n",
      "accuracy score correspond to random state  79 is  0.8991935483870968\n",
      "accuracy score correspond to random state  80 is  0.844758064516129\n",
      "accuracy score correspond to random state  80 is  0.8951612903225806\n",
      "accuracy score correspond to random state  81 is  0.8649193548387096\n",
      "accuracy score correspond to random state  81 is  0.8608870967741935\n",
      "accuracy score correspond to random state  82 is  0.842741935483871\n",
      "accuracy score correspond to random state  82 is  0.8810483870967742\n",
      "accuracy score correspond to random state  83 is  0.8568548387096774\n",
      "accuracy score correspond to random state  83 is  0.905241935483871\n",
      "accuracy score correspond to random state  84 is  0.8366935483870968\n",
      "accuracy score correspond to random state  84 is  0.905241935483871\n",
      "accuracy score correspond to random state  85 is  0.8729838709677419\n",
      "accuracy score correspond to random state  85 is  0.8850806451612904\n",
      "accuracy score correspond to random state  86 is  0.8467741935483871\n",
      "accuracy score correspond to random state  86 is  0.8830645161290323\n",
      "accuracy score correspond to random state  87 is  0.8931451612903226\n",
      "accuracy score correspond to random state  87 is  0.8971774193548387\n",
      "accuracy score correspond to random state  88 is  0.8830645161290323\n",
      "accuracy score correspond to random state  88 is  0.8830645161290323\n",
      "accuracy score correspond to random state  89 is  0.8810483870967742\n",
      "accuracy score correspond to random state  89 is  0.8629032258064516\n",
      "\n",
      "\n",
      "\n",
      "\n",
      "max accuracy score correspond to random state  77 is  0.9274193548387096  and model is  KNeighborsClassifier()\n"
     ]
    }
   ],
   "source": [
    "Model = [DecisionTreeClassifier(), KNeighborsClassifier()]\n",
    "max_accuracy_score = 0\n",
    "for r_state in range(40,90):\n",
    "    train_xc, test_xc, train_yc, test_yc = train_test_split(df_x,df_y,random_state = r_state,test_size = 0.33)\n",
    "    for i_c in Model:\n",
    "        i_c.fit(train_xc,train_yc)\n",
    "        pre_c = i_c.predict(test_xc)\n",
    "        ac_sc= accuracy_score(test_yc,pre_c)\n",
    "        print('accuracy score correspond to random state ' , r_state, 'is ' , ac_sc)\n",
    "        if ac_sc> max_accuracy_score:\n",
    "            max_accuracy_score=ac_sc\n",
    "            final_state = r_state\n",
    "            final_model = i_c\n",
    "            \n",
    "print()\n",
    "print()\n",
    "print()\n",
    "print()\n",
    "print('max accuracy score correspond to random state ' , final_state, 'is ', max_accuracy_score, \" and model is \", final_model)"
   ]
  },
  {
   "cell_type": "markdown",
   "metadata": {},
   "source": [
    "using the above forloop, we came to know that the best algorithm is KNeighborsClassifier because the max R2 score corresponds to the randomstate meets for the model KNeighborsClassifier"
   ]
  },
  {
   "cell_type": "markdown",
   "metadata": {},
   "source": [
    "#### Identifying the best parameter for prediction of KNeighborsRegressor using GridSearchCV"
   ]
  },
  {
   "cell_type": "code",
   "execution_count": 188,
   "metadata": {},
   "outputs": [
    {
     "data": {
      "text/plain": [
       "{'n_neighbors': 1}"
      ]
     },
     "execution_count": 188,
     "metadata": {},
     "output_type": "execute_result"
    }
   ],
   "source": [
    "train_xc, test_xc, train_yc, test_yc = train_test_split(df_x,df_y,random_state = 77,test_size = 0.33)\n",
    "KN = KNeighborsClassifier()\n",
    "parameters = {'n_neighbors' : range(1,30)}\n",
    "gridsearch = GridSearchCV(KN, parameters)\n",
    "gridsearch.fit(train_xc, train_yc)\n",
    "gridsearch.best_params_"
   ]
  },
  {
   "cell_type": "code",
   "execution_count": 189,
   "metadata": {},
   "outputs": [
    {
     "name": "stdout",
     "output_type": "stream",
     "text": [
      "Accuracy Score : 95.56451612903226\n"
     ]
    }
   ],
   "source": [
    "KNC= KNeighborsRegressor(n_neighbors=1)\n",
    "KNC.fit(train_xc, train_yc)\n",
    "Kn_pred = KNC.predict(test_xc)\n",
    "ac_sc = accuracy_score(test_yc, Kn_pred)\n",
    "print(\"Accuracy Score :\", ac_sc*100)"
   ]
  },
  {
   "cell_type": "markdown",
   "metadata": {},
   "source": [
    "###### calculating the scores of different parameters"
   ]
  },
  {
   "cell_type": "code",
   "execution_count": 190,
   "metadata": {},
   "outputs": [
    {
     "name": "stdout",
     "output_type": "stream",
     "text": [
      "Cross_val_score :  80.35416666666667\n",
      "Mean Score :  80.35416666666667\n",
      "STD Score :  0.0\n"
     ]
    }
   ],
   "source": [
    "score = cross_val_score(KNC, df_x, df_y, cv=100, scoring = 'accuracy').mean()\n",
    "print('Cross_val_score : ', score*100)\n",
    "print('Mean Score : ', score.mean()*100)\n",
    "print( 'STD Score : ', score.std())"
   ]
  },
  {
   "cell_type": "code",
   "execution_count": 199,
   "metadata": {},
   "outputs": [
    {
     "data": {
      "text/plain": [
       "['Avacado_dataset_svm.pkl']"
      ]
     },
     "execution_count": 199,
     "metadata": {},
     "output_type": "execute_result"
    }
   ],
   "source": [
    "import joblib\n",
    "svc=svm.SVC()\n",
    "joblib.dump(svc, \"Avacado_dataset_svm.pkl\")"
   ]
  },
  {
   "cell_type": "markdown",
   "metadata": {},
   "source": [
    "## Observations in Prediction with Average Price"
   ]
  },
  {
   "cell_type": "markdown",
   "metadata": {},
   "source": [
    "While calculating the best random state the 77 is best state and providing the best accuracy score for the model which is 92%\n",
    "\n",
    "Using the GridSeachCV, We can find the best param and then find the best accuracy score that is 95%"
   ]
  },
  {
   "cell_type": "markdown",
   "metadata": {},
   "source": [
    "## Conclusion and observations in  this Data"
   ]
  },
  {
   "cell_type": "markdown",
   "metadata": {},
   "source": [
    "For this data set used both regression and classification technique for making this model"
   ]
  },
  {
   "cell_type": "markdown",
   "metadata": {},
   "source": [
    "Prediction using region and Average price but using Region the prediction score is high as compared to average price"
   ]
  },
  {
   "cell_type": "markdown",
   "metadata": {},
   "source": [
    "there was a hike between months 0-2 and 10 – 12 for Conventional type(0) of Avocados prices"
   ]
  },
  {
   "cell_type": "markdown",
   "metadata": {},
   "source": [
    "there is significant hike in average price at the month end till 30day"
   ]
  },
  {
   "cell_type": "markdown",
   "metadata": {},
   "source": [
    "There are no outliers in the data set after removing those using zscore"
   ]
  },
  {
   "cell_type": "markdown",
   "metadata": {},
   "source": [
    "R2 score value is lessthan then accuracy score"
   ]
  },
  {
   "cell_type": "code",
   "execution_count": null,
   "metadata": {},
   "outputs": [],
   "source": []
  }
 ],
 "metadata": {
  "kernelspec": {
   "display_name": "Python 3",
   "language": "python",
   "name": "python3"
  },
  "language_info": {
   "codemirror_mode": {
    "name": "ipython",
    "version": 3
   },
   "file_extension": ".py",
   "mimetype": "text/x-python",
   "name": "python",
   "nbconvert_exporter": "python",
   "pygments_lexer": "ipython3",
   "version": "3.8.3"
  }
 },
 "nbformat": 4,
 "nbformat_minor": 4
}
